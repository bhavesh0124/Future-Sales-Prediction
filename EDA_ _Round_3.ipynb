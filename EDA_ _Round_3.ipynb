{
  "nbformat": 4,
  "nbformat_minor": 0,
  "metadata": {
    "colab": {
      "name": "EDA | Round 3",
      "provenance": [],
      "collapsed_sections": [],
      "toc_visible": true
    },
    "kernelspec": {
      "display_name": "Python 3",
      "language": "python",
      "name": "python3"
    },
    "language_info": {
      "codemirror_mode": {
        "name": "ipython",
        "version": 3
      },
      "file_extension": ".py",
      "mimetype": "text/x-python",
      "name": "python",
      "nbconvert_exporter": "python",
      "pygments_lexer": "ipython3",
      "version": "3.6.9"
    }
  },
  "cells": [
    {
      "cell_type": "code",
      "metadata": {
        "colab": {
          "base_uri": "https://localhost:8080/"
        },
        "id": "0hNv4dMPRxqY",
        "outputId": "27e25393-fd93-40e9-e189-fc7aa6e512b1"
      },
      "source": [
        "from google.colab import drive\n",
        "drive.mount('/content/drive')"
      ],
      "execution_count": 1,
      "outputs": [
        {
          "output_type": "stream",
          "text": [
            "Mounted at /content/drive\n"
          ],
          "name": "stdout"
        }
      ]
    },
    {
      "cell_type": "code",
      "metadata": {
        "id": "WZBMYHJkRsPy"
      },
      "source": [
        "import pandas as pd\n",
        "import time\n",
        "from sklearn.model_selection import train_test_split\n",
        "import xgboost as xgb\n",
        "import random\n",
        "import matplotlib.pyplot as plt\n",
        "import seaborn as sns\n",
        "plt.rcParams[\"figure.figsize\"] = (30,10)\n",
        "import numpy as np \n",
        "import pandas as pd \n",
        "from xgboost import plot_importance\n",
        "import xgboost as xg \n",
        "from sklearn.model_selection import train_test_split \n",
        "from sklearn.metrics import mean_squared_error as MSE "
      ],
      "execution_count": 2,
      "outputs": []
    },
    {
      "cell_type": "code",
      "metadata": {
        "id": "IYhf_sXvRsP7"
      },
      "source": [
        "df_train=pd.read_csv(\"drive/MyDrive/Datasets-Collab/competitive-data-science-predict-future-sales/sales_train.csv\")\n",
        "df_test=pd.read_csv(\"drive/MyDrive/Datasets-Collab/competitive-data-science-predict-future-sales/test.csv\")\n",
        "shop=pd.read_csv(\"drive/MyDrive/Datasets-Collab/competitive-data-science-predict-future-sales/shops.csv\")\n",
        "items=pd.read_csv(\"drive/MyDrive/Datasets-Collab/competitive-data-science-predict-future-sales/items.csv\")\n",
        "item_categories=pd.read_csv(\"drive/MyDrive/Datasets-Collab/competitive-data-science-predict-future-sales/item_categories.csv\")"
      ],
      "execution_count": 3,
      "outputs": []
    },
    {
      "cell_type": "code",
      "metadata": {
        "id": "9T8JfatGRsP_"
      },
      "source": [
        "df_train[\"date\"]=pd.to_datetime(df_train[\"date\"],format='%d.%m.%Y')\n",
        "df_train['day']=df_train['date'].dt.day\n",
        "df_train['month']=df_train['date'].dt.month\n",
        "df_train['year']=df_train['date'].dt.year\n",
        "df_train=df_train.sort_values(by='date')\n",
        "df_test['month']=11\n",
        "df_test['year']=2015\n"
      ],
      "execution_count": 4,
      "outputs": []
    },
    {
      "cell_type": "code",
      "metadata": {
        "id": "tollv2dJGl_O"
      },
      "source": [
        "df_train['item_cnt_day']=abs(df_train['item_cnt_day'])\n",
        "not_in_train=set(list(np.sort(df_test['item_id'].unique()))) - set(list(np.sort(df_train['item_id'].unique())))\n",
        "df_train.drop(df_train.loc[df_train.item_id==6066].index,axis=0,inplace=True)"
      ],
      "execution_count": 5,
      "outputs": []
    },
    {
      "cell_type": "markdown",
      "metadata": {
        "id": "JwdClmR4ri-W"
      },
      "source": [
        "##Concatenating train and test set"
      ]
    },
    {
      "cell_type": "code",
      "metadata": {
        "colab": {
          "base_uri": "https://localhost:8080/",
          "height": 1000
        },
        "id": "lp85dNV3SulH",
        "outputId": "16559177-3d76-4841-de4c-83f5480e859d"
      },
      "source": [
        "shop"
      ],
      "execution_count": 8,
      "outputs": [
        {
          "output_type": "execute_result",
          "data": {
            "text/html": [
              "<div>\n",
              "<style scoped>\n",
              "    .dataframe tbody tr th:only-of-type {\n",
              "        vertical-align: middle;\n",
              "    }\n",
              "\n",
              "    .dataframe tbody tr th {\n",
              "        vertical-align: top;\n",
              "    }\n",
              "\n",
              "    .dataframe thead th {\n",
              "        text-align: right;\n",
              "    }\n",
              "</style>\n",
              "<table border=\"1\" class=\"dataframe\">\n",
              "  <thead>\n",
              "    <tr style=\"text-align: right;\">\n",
              "      <th></th>\n",
              "      <th>shop_name</th>\n",
              "      <th>shop_id</th>\n",
              "    </tr>\n",
              "  </thead>\n",
              "  <tbody>\n",
              "    <tr>\n",
              "      <th>0</th>\n",
              "      <td>!Якутск Орджоникидзе, 56 фран</td>\n",
              "      <td>0</td>\n",
              "    </tr>\n",
              "    <tr>\n",
              "      <th>1</th>\n",
              "      <td>!Якутск ТЦ \"Центральный\" фран</td>\n",
              "      <td>1</td>\n",
              "    </tr>\n",
              "    <tr>\n",
              "      <th>2</th>\n",
              "      <td>Адыгея ТЦ \"Мега\"</td>\n",
              "      <td>2</td>\n",
              "    </tr>\n",
              "    <tr>\n",
              "      <th>3</th>\n",
              "      <td>Балашиха ТРК \"Октябрь-Киномир\"</td>\n",
              "      <td>3</td>\n",
              "    </tr>\n",
              "    <tr>\n",
              "      <th>4</th>\n",
              "      <td>Волжский ТЦ \"Волга Молл\"</td>\n",
              "      <td>4</td>\n",
              "    </tr>\n",
              "    <tr>\n",
              "      <th>5</th>\n",
              "      <td>Вологда ТРЦ \"Мармелад\"</td>\n",
              "      <td>5</td>\n",
              "    </tr>\n",
              "    <tr>\n",
              "      <th>6</th>\n",
              "      <td>Воронеж (Плехановская, 13)</td>\n",
              "      <td>6</td>\n",
              "    </tr>\n",
              "    <tr>\n",
              "      <th>7</th>\n",
              "      <td>Воронеж ТРЦ \"Максимир\"</td>\n",
              "      <td>7</td>\n",
              "    </tr>\n",
              "    <tr>\n",
              "      <th>8</th>\n",
              "      <td>Воронеж ТРЦ Сити-Парк \"Град\"</td>\n",
              "      <td>8</td>\n",
              "    </tr>\n",
              "    <tr>\n",
              "      <th>9</th>\n",
              "      <td>Выездная Торговля</td>\n",
              "      <td>9</td>\n",
              "    </tr>\n",
              "    <tr>\n",
              "      <th>10</th>\n",
              "      <td>Жуковский ул. Чкалова 39м?</td>\n",
              "      <td>10</td>\n",
              "    </tr>\n",
              "    <tr>\n",
              "      <th>11</th>\n",
              "      <td>Жуковский ул. Чкалова 39м²</td>\n",
              "      <td>11</td>\n",
              "    </tr>\n",
              "    <tr>\n",
              "      <th>12</th>\n",
              "      <td>Интернет-магазин ЧС</td>\n",
              "      <td>12</td>\n",
              "    </tr>\n",
              "    <tr>\n",
              "      <th>13</th>\n",
              "      <td>Казань ТЦ \"Бехетле\"</td>\n",
              "      <td>13</td>\n",
              "    </tr>\n",
              "    <tr>\n",
              "      <th>14</th>\n",
              "      <td>Казань ТЦ \"ПаркХаус\" II</td>\n",
              "      <td>14</td>\n",
              "    </tr>\n",
              "    <tr>\n",
              "      <th>15</th>\n",
              "      <td>Калуга ТРЦ \"XXI век\"</td>\n",
              "      <td>15</td>\n",
              "    </tr>\n",
              "    <tr>\n",
              "      <th>16</th>\n",
              "      <td>Коломна ТЦ \"Рио\"</td>\n",
              "      <td>16</td>\n",
              "    </tr>\n",
              "    <tr>\n",
              "      <th>17</th>\n",
              "      <td>Красноярск ТЦ \"Взлетка Плаза\"</td>\n",
              "      <td>17</td>\n",
              "    </tr>\n",
              "    <tr>\n",
              "      <th>18</th>\n",
              "      <td>Красноярск ТЦ \"Июнь\"</td>\n",
              "      <td>18</td>\n",
              "    </tr>\n",
              "    <tr>\n",
              "      <th>19</th>\n",
              "      <td>Курск ТЦ \"Пушкинский\"</td>\n",
              "      <td>19</td>\n",
              "    </tr>\n",
              "    <tr>\n",
              "      <th>20</th>\n",
              "      <td>Москва \"Распродажа\"</td>\n",
              "      <td>20</td>\n",
              "    </tr>\n",
              "    <tr>\n",
              "      <th>21</th>\n",
              "      <td>Москва МТРЦ \"Афи Молл\"</td>\n",
              "      <td>21</td>\n",
              "    </tr>\n",
              "    <tr>\n",
              "      <th>22</th>\n",
              "      <td>Москва Магазин С21</td>\n",
              "      <td>22</td>\n",
              "    </tr>\n",
              "    <tr>\n",
              "      <th>23</th>\n",
              "      <td>Москва ТК \"Буденовский\" (пав.А2)</td>\n",
              "      <td>23</td>\n",
              "    </tr>\n",
              "    <tr>\n",
              "      <th>24</th>\n",
              "      <td>Москва ТК \"Буденовский\" (пав.К7)</td>\n",
              "      <td>24</td>\n",
              "    </tr>\n",
              "    <tr>\n",
              "      <th>25</th>\n",
              "      <td>Москва ТРК \"Атриум\"</td>\n",
              "      <td>25</td>\n",
              "    </tr>\n",
              "    <tr>\n",
              "      <th>26</th>\n",
              "      <td>Москва ТЦ \"Ареал\" (Беляево)</td>\n",
              "      <td>26</td>\n",
              "    </tr>\n",
              "    <tr>\n",
              "      <th>27</th>\n",
              "      <td>Москва ТЦ \"МЕГА Белая Дача II\"</td>\n",
              "      <td>27</td>\n",
              "    </tr>\n",
              "    <tr>\n",
              "      <th>28</th>\n",
              "      <td>Москва ТЦ \"МЕГА Теплый Стан\" II</td>\n",
              "      <td>28</td>\n",
              "    </tr>\n",
              "    <tr>\n",
              "      <th>29</th>\n",
              "      <td>Москва ТЦ \"Новый век\" (Новокосино)</td>\n",
              "      <td>29</td>\n",
              "    </tr>\n",
              "    <tr>\n",
              "      <th>30</th>\n",
              "      <td>Москва ТЦ \"Перловский\"</td>\n",
              "      <td>30</td>\n",
              "    </tr>\n",
              "    <tr>\n",
              "      <th>31</th>\n",
              "      <td>Москва ТЦ \"Семеновский\"</td>\n",
              "      <td>31</td>\n",
              "    </tr>\n",
              "    <tr>\n",
              "      <th>32</th>\n",
              "      <td>Москва ТЦ \"Серебряный Дом\"</td>\n",
              "      <td>32</td>\n",
              "    </tr>\n",
              "    <tr>\n",
              "      <th>33</th>\n",
              "      <td>Мытищи ТРК \"XL-3\"</td>\n",
              "      <td>33</td>\n",
              "    </tr>\n",
              "    <tr>\n",
              "      <th>34</th>\n",
              "      <td>Н.Новгород ТРЦ \"РИО\"</td>\n",
              "      <td>34</td>\n",
              "    </tr>\n",
              "    <tr>\n",
              "      <th>35</th>\n",
              "      <td>Н.Новгород ТРЦ \"Фантастика\"</td>\n",
              "      <td>35</td>\n",
              "    </tr>\n",
              "    <tr>\n",
              "      <th>36</th>\n",
              "      <td>Новосибирск ТРЦ \"Галерея Новосибирск\"</td>\n",
              "      <td>36</td>\n",
              "    </tr>\n",
              "    <tr>\n",
              "      <th>37</th>\n",
              "      <td>Новосибирск ТЦ \"Мега\"</td>\n",
              "      <td>37</td>\n",
              "    </tr>\n",
              "    <tr>\n",
              "      <th>38</th>\n",
              "      <td>Омск ТЦ \"Мега\"</td>\n",
              "      <td>38</td>\n",
              "    </tr>\n",
              "    <tr>\n",
              "      <th>39</th>\n",
              "      <td>РостовНаДону ТРК \"Мегацентр Горизонт\"</td>\n",
              "      <td>39</td>\n",
              "    </tr>\n",
              "    <tr>\n",
              "      <th>40</th>\n",
              "      <td>РостовНаДону ТРК \"Мегацентр Горизонт\" Островной</td>\n",
              "      <td>40</td>\n",
              "    </tr>\n",
              "    <tr>\n",
              "      <th>41</th>\n",
              "      <td>РостовНаДону ТЦ \"Мега\"</td>\n",
              "      <td>41</td>\n",
              "    </tr>\n",
              "    <tr>\n",
              "      <th>42</th>\n",
              "      <td>СПб ТК \"Невский Центр\"</td>\n",
              "      <td>42</td>\n",
              "    </tr>\n",
              "    <tr>\n",
              "      <th>43</th>\n",
              "      <td>СПб ТК \"Сенная\"</td>\n",
              "      <td>43</td>\n",
              "    </tr>\n",
              "    <tr>\n",
              "      <th>44</th>\n",
              "      <td>Самара ТЦ \"Мелодия\"</td>\n",
              "      <td>44</td>\n",
              "    </tr>\n",
              "    <tr>\n",
              "      <th>45</th>\n",
              "      <td>Самара ТЦ \"ПаркХаус\"</td>\n",
              "      <td>45</td>\n",
              "    </tr>\n",
              "    <tr>\n",
              "      <th>46</th>\n",
              "      <td>Сергиев Посад ТЦ \"7Я\"</td>\n",
              "      <td>46</td>\n",
              "    </tr>\n",
              "    <tr>\n",
              "      <th>47</th>\n",
              "      <td>Сургут ТРЦ \"Сити Молл\"</td>\n",
              "      <td>47</td>\n",
              "    </tr>\n",
              "    <tr>\n",
              "      <th>48</th>\n",
              "      <td>Томск ТРЦ \"Изумрудный Город\"</td>\n",
              "      <td>48</td>\n",
              "    </tr>\n",
              "    <tr>\n",
              "      <th>49</th>\n",
              "      <td>Тюмень ТРЦ \"Кристалл\"</td>\n",
              "      <td>49</td>\n",
              "    </tr>\n",
              "    <tr>\n",
              "      <th>50</th>\n",
              "      <td>Тюмень ТЦ \"Гудвин\"</td>\n",
              "      <td>50</td>\n",
              "    </tr>\n",
              "    <tr>\n",
              "      <th>51</th>\n",
              "      <td>Тюмень ТЦ \"Зеленый Берег\"</td>\n",
              "      <td>51</td>\n",
              "    </tr>\n",
              "    <tr>\n",
              "      <th>52</th>\n",
              "      <td>Уфа ТК \"Центральный\"</td>\n",
              "      <td>52</td>\n",
              "    </tr>\n",
              "    <tr>\n",
              "      <th>53</th>\n",
              "      <td>Уфа ТЦ \"Семья\" 2</td>\n",
              "      <td>53</td>\n",
              "    </tr>\n",
              "    <tr>\n",
              "      <th>54</th>\n",
              "      <td>Химки ТЦ \"Мега\"</td>\n",
              "      <td>54</td>\n",
              "    </tr>\n",
              "    <tr>\n",
              "      <th>55</th>\n",
              "      <td>Цифровой склад 1С-Онлайн</td>\n",
              "      <td>55</td>\n",
              "    </tr>\n",
              "    <tr>\n",
              "      <th>56</th>\n",
              "      <td>Чехов ТРЦ \"Карнавал\"</td>\n",
              "      <td>56</td>\n",
              "    </tr>\n",
              "    <tr>\n",
              "      <th>57</th>\n",
              "      <td>Якутск Орджоникидзе, 56</td>\n",
              "      <td>57</td>\n",
              "    </tr>\n",
              "    <tr>\n",
              "      <th>58</th>\n",
              "      <td>Якутск ТЦ \"Центральный\"</td>\n",
              "      <td>58</td>\n",
              "    </tr>\n",
              "    <tr>\n",
              "      <th>59</th>\n",
              "      <td>Ярославль ТЦ \"Альтаир\"</td>\n",
              "      <td>59</td>\n",
              "    </tr>\n",
              "  </tbody>\n",
              "</table>\n",
              "</div>"
            ],
            "text/plain": [
              "                                          shop_name  shop_id\n",
              "0                     !Якутск Орджоникидзе, 56 фран        0\n",
              "1                     !Якутск ТЦ \"Центральный\" фран        1\n",
              "2                                  Адыгея ТЦ \"Мега\"        2\n",
              "3                    Балашиха ТРК \"Октябрь-Киномир\"        3\n",
              "4                          Волжский ТЦ \"Волга Молл\"        4\n",
              "5                            Вологда ТРЦ \"Мармелад\"        5\n",
              "6                        Воронеж (Плехановская, 13)        6\n",
              "7                            Воронеж ТРЦ \"Максимир\"        7\n",
              "8                      Воронеж ТРЦ Сити-Парк \"Град\"        8\n",
              "9                                 Выездная Торговля        9\n",
              "10                       Жуковский ул. Чкалова 39м?       10\n",
              "11                       Жуковский ул. Чкалова 39м²       11\n",
              "12                              Интернет-магазин ЧС       12\n",
              "13                              Казань ТЦ \"Бехетле\"       13\n",
              "14                          Казань ТЦ \"ПаркХаус\" II       14\n",
              "15                             Калуга ТРЦ \"XXI век\"       15\n",
              "16                                 Коломна ТЦ \"Рио\"       16\n",
              "17                    Красноярск ТЦ \"Взлетка Плаза\"       17\n",
              "18                             Красноярск ТЦ \"Июнь\"       18\n",
              "19                            Курск ТЦ \"Пушкинский\"       19\n",
              "20                              Москва \"Распродажа\"       20\n",
              "21                           Москва МТРЦ \"Афи Молл\"       21\n",
              "22                               Москва Магазин С21       22\n",
              "23                 Москва ТК \"Буденовский\" (пав.А2)       23\n",
              "24                 Москва ТК \"Буденовский\" (пав.К7)       24\n",
              "25                              Москва ТРК \"Атриум\"       25\n",
              "26                      Москва ТЦ \"Ареал\" (Беляево)       26\n",
              "27                   Москва ТЦ \"МЕГА Белая Дача II\"       27\n",
              "28                  Москва ТЦ \"МЕГА Теплый Стан\" II       28\n",
              "29               Москва ТЦ \"Новый век\" (Новокосино)       29\n",
              "30                           Москва ТЦ \"Перловский\"       30\n",
              "31                          Москва ТЦ \"Семеновский\"       31\n",
              "32                       Москва ТЦ \"Серебряный Дом\"       32\n",
              "33                                Мытищи ТРК \"XL-3\"       33\n",
              "34                             Н.Новгород ТРЦ \"РИО\"       34\n",
              "35                      Н.Новгород ТРЦ \"Фантастика\"       35\n",
              "36            Новосибирск ТРЦ \"Галерея Новосибирск\"       36\n",
              "37                            Новосибирск ТЦ \"Мега\"       37\n",
              "38                                   Омск ТЦ \"Мега\"       38\n",
              "39            РостовНаДону ТРК \"Мегацентр Горизонт\"       39\n",
              "40  РостовНаДону ТРК \"Мегацентр Горизонт\" Островной       40\n",
              "41                           РостовНаДону ТЦ \"Мега\"       41\n",
              "42                           СПб ТК \"Невский Центр\"       42\n",
              "43                                  СПб ТК \"Сенная\"       43\n",
              "44                              Самара ТЦ \"Мелодия\"       44\n",
              "45                             Самара ТЦ \"ПаркХаус\"       45\n",
              "46                            Сергиев Посад ТЦ \"7Я\"       46\n",
              "47                           Сургут ТРЦ \"Сити Молл\"       47\n",
              "48                     Томск ТРЦ \"Изумрудный Город\"       48\n",
              "49                            Тюмень ТРЦ \"Кристалл\"       49\n",
              "50                               Тюмень ТЦ \"Гудвин\"       50\n",
              "51                        Тюмень ТЦ \"Зеленый Берег\"       51\n",
              "52                             Уфа ТК \"Центральный\"       52\n",
              "53                                 Уфа ТЦ \"Семья\" 2       53\n",
              "54                                  Химки ТЦ \"Мега\"       54\n",
              "55                         Цифровой склад 1С-Онлайн       55\n",
              "56                             Чехов ТРЦ \"Карнавал\"       56\n",
              "57                          Якутск Орджоникидзе, 56       57\n",
              "58                          Якутск ТЦ \"Центральный\"       58\n",
              "59                           Ярославль ТЦ \"Альтаир\"       59"
            ]
          },
          "metadata": {
            "tags": []
          },
          "execution_count": 8
        }
      ]
    },
    {
      "cell_type": "code",
      "metadata": {
        "id": "9BFj1REcnmnx"
      },
      "source": [
        "df_train=pd.merge(df_train,items[['item_id','item_category_id']],on='item_id')\n",
        "df_test=pd.merge(df_test,items[['item_id','item_category_id']],on='item_id')"
      ],
      "execution_count": 6,
      "outputs": []
    },
    {
      "cell_type": "code",
      "metadata": {
        "colab": {
          "base_uri": "https://localhost:8080/",
          "height": 112
        },
        "id": "DPZxFDKUKkJQ",
        "outputId": "ee7abbaa-3afb-46ca-cf64-95dd7dadea6a"
      },
      "source": [
        "df_train.head(2)"
      ],
      "execution_count": 7,
      "outputs": [
        {
          "output_type": "execute_result",
          "data": {
            "text/html": [
              "<div>\n",
              "<style scoped>\n",
              "    .dataframe tbody tr th:only-of-type {\n",
              "        vertical-align: middle;\n",
              "    }\n",
              "\n",
              "    .dataframe tbody tr th {\n",
              "        vertical-align: top;\n",
              "    }\n",
              "\n",
              "    .dataframe thead th {\n",
              "        text-align: right;\n",
              "    }\n",
              "</style>\n",
              "<table border=\"1\" class=\"dataframe\">\n",
              "  <thead>\n",
              "    <tr style=\"text-align: right;\">\n",
              "      <th></th>\n",
              "      <th>date</th>\n",
              "      <th>date_block_num</th>\n",
              "      <th>shop_id</th>\n",
              "      <th>item_id</th>\n",
              "      <th>item_price</th>\n",
              "      <th>item_cnt_day</th>\n",
              "      <th>day</th>\n",
              "      <th>month</th>\n",
              "      <th>year</th>\n",
              "      <th>item_category_id</th>\n",
              "    </tr>\n",
              "  </thead>\n",
              "  <tbody>\n",
              "    <tr>\n",
              "      <th>0</th>\n",
              "      <td>2013-01-01</td>\n",
              "      <td>0</td>\n",
              "      <td>18</td>\n",
              "      <td>5823</td>\n",
              "      <td>2500.0</td>\n",
              "      <td>1.0</td>\n",
              "      <td>1</td>\n",
              "      <td>1</td>\n",
              "      <td>2013</td>\n",
              "      <td>35</td>\n",
              "    </tr>\n",
              "    <tr>\n",
              "      <th>1</th>\n",
              "      <td>2013-01-01</td>\n",
              "      <td>0</td>\n",
              "      <td>54</td>\n",
              "      <td>5823</td>\n",
              "      <td>2499.5</td>\n",
              "      <td>1.0</td>\n",
              "      <td>1</td>\n",
              "      <td>1</td>\n",
              "      <td>2013</td>\n",
              "      <td>35</td>\n",
              "    </tr>\n",
              "  </tbody>\n",
              "</table>\n",
              "</div>"
            ],
            "text/plain": [
              "        date  date_block_num  shop_id  ...  month  year  item_category_id\n",
              "0 2013-01-01               0       18  ...      1  2013                35\n",
              "1 2013-01-01               0       54  ...      1  2013                35\n",
              "\n",
              "[2 rows x 10 columns]"
            ]
          },
          "metadata": {
            "tags": []
          },
          "execution_count": 7
        }
      ]
    },
    {
      "cell_type": "code",
      "metadata": {
        "id": "LwC4SlF2IxDA"
      },
      "source": [
        "#sns.barplot(x=df_train['item_category_id'],y=df_train['item_price'])"
      ],
      "execution_count": null,
      "outputs": []
    },
    {
      "cell_type": "code",
      "metadata": {
        "id": "A7y6iSqRGMha"
      },
      "source": [
        "df_train=df_train.groupby(['date_block_num','year','month','shop_id','item_id','item_category_id']).agg({'item_price': 'mean', \n",
        "                                                                   'item_cnt_day': 'sum'\n",
        "                                                                  }).reset_index()"
      ],
      "execution_count": null,
      "outputs": []
    },
    {
      "cell_type": "code",
      "metadata": {
        "id": "D98id9cYRoM1"
      },
      "source": [
        "df_train['High_sale_month']=0\n",
        "df_train.loc[(df_train['month']>=9),'High_sale_month']=1"
      ],
      "execution_count": null,
      "outputs": []
    },
    {
      "cell_type": "code",
      "metadata": {
        "colab": {
          "base_uri": "https://localhost:8080/",
          "height": 363
        },
        "id": "88vNNq_hScnJ",
        "outputId": "c856715a-9dd1-4b1b-d5bd-8a26fdd125eb"
      },
      "source": [
        "df_train.head(10)"
      ],
      "execution_count": null,
      "outputs": [
        {
          "output_type": "execute_result",
          "data": {
            "text/html": [
              "<div>\n",
              "<style scoped>\n",
              "    .dataframe tbody tr th:only-of-type {\n",
              "        vertical-align: middle;\n",
              "    }\n",
              "\n",
              "    .dataframe tbody tr th {\n",
              "        vertical-align: top;\n",
              "    }\n",
              "\n",
              "    .dataframe thead th {\n",
              "        text-align: right;\n",
              "    }\n",
              "</style>\n",
              "<table border=\"1\" class=\"dataframe\">\n",
              "  <thead>\n",
              "    <tr style=\"text-align: right;\">\n",
              "      <th></th>\n",
              "      <th>date_block_num</th>\n",
              "      <th>year</th>\n",
              "      <th>month</th>\n",
              "      <th>shop_id</th>\n",
              "      <th>item_id</th>\n",
              "      <th>item_category_id</th>\n",
              "      <th>item_price</th>\n",
              "      <th>item_cnt_day</th>\n",
              "      <th>High_sale_month</th>\n",
              "    </tr>\n",
              "  </thead>\n",
              "  <tbody>\n",
              "    <tr>\n",
              "      <th>0</th>\n",
              "      <td>0</td>\n",
              "      <td>2013</td>\n",
              "      <td>1</td>\n",
              "      <td>0</td>\n",
              "      <td>32</td>\n",
              "      <td>40</td>\n",
              "      <td>221.0</td>\n",
              "      <td>6.0</td>\n",
              "      <td>0</td>\n",
              "    </tr>\n",
              "    <tr>\n",
              "      <th>1</th>\n",
              "      <td>0</td>\n",
              "      <td>2013</td>\n",
              "      <td>1</td>\n",
              "      <td>0</td>\n",
              "      <td>33</td>\n",
              "      <td>37</td>\n",
              "      <td>347.0</td>\n",
              "      <td>3.0</td>\n",
              "      <td>0</td>\n",
              "    </tr>\n",
              "    <tr>\n",
              "      <th>2</th>\n",
              "      <td>0</td>\n",
              "      <td>2013</td>\n",
              "      <td>1</td>\n",
              "      <td>0</td>\n",
              "      <td>35</td>\n",
              "      <td>40</td>\n",
              "      <td>247.0</td>\n",
              "      <td>1.0</td>\n",
              "      <td>0</td>\n",
              "    </tr>\n",
              "    <tr>\n",
              "      <th>3</th>\n",
              "      <td>0</td>\n",
              "      <td>2013</td>\n",
              "      <td>1</td>\n",
              "      <td>0</td>\n",
              "      <td>43</td>\n",
              "      <td>40</td>\n",
              "      <td>221.0</td>\n",
              "      <td>1.0</td>\n",
              "      <td>0</td>\n",
              "    </tr>\n",
              "    <tr>\n",
              "      <th>4</th>\n",
              "      <td>0</td>\n",
              "      <td>2013</td>\n",
              "      <td>1</td>\n",
              "      <td>0</td>\n",
              "      <td>51</td>\n",
              "      <td>57</td>\n",
              "      <td>128.5</td>\n",
              "      <td>2.0</td>\n",
              "      <td>0</td>\n",
              "    </tr>\n",
              "    <tr>\n",
              "      <th>5</th>\n",
              "      <td>0</td>\n",
              "      <td>2013</td>\n",
              "      <td>1</td>\n",
              "      <td>0</td>\n",
              "      <td>61</td>\n",
              "      <td>43</td>\n",
              "      <td>195.0</td>\n",
              "      <td>1.0</td>\n",
              "      <td>0</td>\n",
              "    </tr>\n",
              "    <tr>\n",
              "      <th>6</th>\n",
              "      <td>0</td>\n",
              "      <td>2013</td>\n",
              "      <td>1</td>\n",
              "      <td>0</td>\n",
              "      <td>75</td>\n",
              "      <td>40</td>\n",
              "      <td>76.0</td>\n",
              "      <td>1.0</td>\n",
              "      <td>0</td>\n",
              "    </tr>\n",
              "    <tr>\n",
              "      <th>7</th>\n",
              "      <td>0</td>\n",
              "      <td>2013</td>\n",
              "      <td>1</td>\n",
              "      <td>0</td>\n",
              "      <td>88</td>\n",
              "      <td>40</td>\n",
              "      <td>76.0</td>\n",
              "      <td>1.0</td>\n",
              "      <td>0</td>\n",
              "    </tr>\n",
              "    <tr>\n",
              "      <th>8</th>\n",
              "      <td>0</td>\n",
              "      <td>2013</td>\n",
              "      <td>1</td>\n",
              "      <td>0</td>\n",
              "      <td>95</td>\n",
              "      <td>40</td>\n",
              "      <td>193.0</td>\n",
              "      <td>1.0</td>\n",
              "      <td>0</td>\n",
              "    </tr>\n",
              "    <tr>\n",
              "      <th>9</th>\n",
              "      <td>0</td>\n",
              "      <td>2013</td>\n",
              "      <td>1</td>\n",
              "      <td>0</td>\n",
              "      <td>96</td>\n",
              "      <td>40</td>\n",
              "      <td>70.0</td>\n",
              "      <td>1.0</td>\n",
              "      <td>0</td>\n",
              "    </tr>\n",
              "  </tbody>\n",
              "</table>\n",
              "</div>"
            ],
            "text/plain": [
              "   date_block_num  year  month  ...  item_price  item_cnt_day  High_sale_month\n",
              "0               0  2013      1  ...       221.0           6.0                0\n",
              "1               0  2013      1  ...       347.0           3.0                0\n",
              "2               0  2013      1  ...       247.0           1.0                0\n",
              "3               0  2013      1  ...       221.0           1.0                0\n",
              "4               0  2013      1  ...       128.5           2.0                0\n",
              "5               0  2013      1  ...       195.0           1.0                0\n",
              "6               0  2013      1  ...        76.0           1.0                0\n",
              "7               0  2013      1  ...        76.0           1.0                0\n",
              "8               0  2013      1  ...       193.0           1.0                0\n",
              "9               0  2013      1  ...        70.0           1.0                0\n",
              "\n",
              "[10 rows x 9 columns]"
            ]
          },
          "metadata": {
            "tags": []
          },
          "execution_count": 13
        }
      ]
    },
    {
      "cell_type": "code",
      "metadata": {
        "colab": {
          "base_uri": "https://localhost:8080/"
        },
        "id": "YXak9GWWd1dk",
        "outputId": "94346428-0b06-4276-f7ab-b2135fed3617"
      },
      "source": [
        "np.sort(df_test.shop_id.unique())"
      ],
      "execution_count": null,
      "outputs": [
        {
          "output_type": "execute_result",
          "data": {
            "text/plain": [
              "array([ 2,  3,  4,  5,  6,  7, 10, 12, 14, 15, 16, 18, 19, 21, 22, 24, 25,\n",
              "       26, 28, 31, 34, 35, 36, 37, 38, 39, 41, 42, 44, 45, 46, 47, 48, 49,\n",
              "       50, 52, 53, 55, 56, 57, 58, 59])"
            ]
          },
          "metadata": {
            "tags": []
          },
          "execution_count": 12
        }
      ]
    },
    {
      "cell_type": "code",
      "metadata": {
        "colab": {
          "base_uri": "https://localhost:8080/"
        },
        "id": "iCesCzwbeT-s",
        "outputId": "0f4f5422-5655-413c-f1d4-acbbb60dbe3e"
      },
      "source": [
        "df_train.loc[df_train['shop_id']==9]['item_price'].describe()"
      ],
      "execution_count": null,
      "outputs": [
        {
          "output_type": "execute_result",
          "data": {
            "text/plain": [
              "count     1591.000000\n",
              "mean      1332.209174\n",
              "std       1512.529776\n",
              "min         90.000000\n",
              "25%        699.000000\n",
              "50%        999.000000\n",
              "75%       1599.000000\n",
              "max      27499.000000\n",
              "Name: item_price, dtype: float64"
            ]
          },
          "metadata": {
            "tags": []
          },
          "execution_count": 133
        }
      ]
    },
    {
      "cell_type": "code",
      "metadata": {
        "colab": {
          "base_uri": "https://localhost:8080/",
          "height": 407
        },
        "id": "HfugSmYE644R",
        "outputId": "83a7a6c9-d8cb-488f-bdcb-bdb0bb4a1237"
      },
      "source": [
        "sns.countplot(df_train['shop_id'])"
      ],
      "execution_count": null,
      "outputs": [
        {
          "output_type": "stream",
          "text": [
            "/usr/local/lib/python3.7/dist-packages/seaborn/_decorators.py:43: FutureWarning: Pass the following variable as a keyword arg: x. From version 0.12, the only valid positional argument will be `data`, and passing other arguments without an explicit keyword will result in an error or misinterpretation.\n",
            "  FutureWarning\n"
          ],
          "name": "stderr"
        },
        {
          "output_type": "execute_result",
          "data": {
            "text/plain": [
              "<matplotlib.axes._subplots.AxesSubplot at 0x7fb9f0d9ead0>"
            ]
          },
          "metadata": {
            "tags": []
          },
          "execution_count": 14
        },
        {
          "output_type": "display_data",
          "data": {
            "image/png": "[encoded data removed]",
            "text/plain": [
              "<Figure size 2160x720 with 1 Axes>"
            ]
          },
          "metadata": {
            "tags": [],
            "needs_background": "light"
          }
        }
      ]
    },
    {
      "cell_type": "code",
      "metadata": {
        "colab": {
          "base_uri": "https://localhost:8080/",
          "height": 695
        },
        "id": "hX-NaDLlVMeN",
        "outputId": "eb901d63-9b28-4172-f995-9e2a780382ff"
      },
      "source": [
        "sns.barplot(df_train['shop_id'],df_train['item_cnt_day']*400,label='item sale')\n",
        "sns.lineplot(df_train['shop_id'],df_train['item_price'],label='item price')\n",
        "sns.lineplot()\n",
        "plt.legend()\n",
        "plt.show()"
      ],
      "execution_count": null,
      "outputs": [
        {
          "output_type": "stream",
          "text": [
            "/usr/local/lib/python3.7/dist-packages/seaborn/_decorators.py:43: FutureWarning: Pass the following variables as keyword args: x, y. From version 0.12, the only valid positional argument will be `data`, and passing other arguments without an explicit keyword will result in an error or misinterpretation.\n",
            "  FutureWarning\n",
            "/usr/local/lib/python3.7/dist-packages/seaborn/_decorators.py:43: FutureWarning: Pass the following variables as keyword args: x, y. From version 0.12, the only valid positional argument will be `data`, and passing other arguments without an explicit keyword will result in an error or misinterpretation.\n",
            "  FutureWarning\n"
          ],
          "name": "stderr"
        },
        {
          "output_type": "display_data",
          "data": {
            "image/png": "[encoded data removed]",
            "text/plain": [
              "<Figure size 2160x720 with 1 Axes>"
            ]
          },
          "metadata": {
            "tags": [],
            "needs_background": "light"
          }
        }
      ]
    },
    {
      "cell_type": "code",
      "metadata": {
        "id": "U4ai1jxjdWCP",
        "colab": {
          "base_uri": "https://localhost:8080/",
          "height": 695
        },
        "outputId": "9a687a60-ac87-4399-86a9-50c0950756e6"
      },
      "source": [
        "sns.barplot(df_train['item_category_id'],df_train['item_cnt_day']*500,label='item sale')\n",
        "sns.lineplot(df_train['item_category_id'],df_train['item_price'],label='item price')\n",
        "sns.lineplot()\n",
        "plt.legend()\n",
        "plt.show()"
      ],
      "execution_count": null,
      "outputs": [
        {
          "output_type": "stream",
          "text": [
            "/usr/local/lib/python3.7/dist-packages/seaborn/_decorators.py:43: FutureWarning: Pass the following variables as keyword args: x, y. From version 0.12, the only valid positional argument will be `data`, and passing other arguments without an explicit keyword will result in an error or misinterpretation.\n",
            "  FutureWarning\n",
            "/usr/local/lib/python3.7/dist-packages/seaborn/_decorators.py:43: FutureWarning: Pass the following variables as keyword args: x, y. From version 0.12, the only valid positional argument will be `data`, and passing other arguments without an explicit keyword will result in an error or misinterpretation.\n",
            "  FutureWarning\n"
          ],
          "name": "stderr"
        },
        {
          "output_type": "display_data",
          "data": {
            "image/png": "[encoded data removed]",
            "text/plain": [
              "<Figure size 2160x720 with 1 Axes>"
            ]
          },
          "metadata": {
            "tags": [],
            "needs_background": "light"
          }
        }
      ]
    },
    {
      "cell_type": "code",
      "metadata": {
        "id": "a0i5NgCaY0-V"
      },
      "source": [
        "shop_ids=[9,20,55,33,34]\n",
        "cat_ids=[71,12,34,8,9,60,68,74]"
      ],
      "execution_count": null,
      "outputs": []
    },
    {
      "cell_type": "code",
      "metadata": {
        "colab": {
          "base_uri": "https://localhost:8080/"
        },
        "id": "L84M-GHV9Zb9",
        "outputId": "67d4cb21-a84f-44f4-9e74-918f4527fc12"
      },
      "source": [
        "df_train.loc[df_train['shop_id'].isin(shop_ids)]['item_category_id'].unique()"
      ],
      "execution_count": null,
      "outputs": [
        {
          "output_type": "execute_result",
          "data": {
            "text/plain": [
              "array([44, 76, 54, 31, 78, 19, 23, 32, 28, 30, 22, 25, 15, 67,  2, 35, 62,\n",
              "       29, 11,  6, 33, 65, 41, 70, 38, 72,  3, 14, 61, 69, 63, 64, 37, 40,\n",
              "       71, 34, 55, 75, 49, 83, 73, 20, 21, 12, 17, 79, 58, 24,  5,  4,  8,\n",
              "        7, 43, 16, 74, 56, 27, 26, 42, 80, 47, 36])"
            ]
          },
          "metadata": {
            "tags": []
          },
          "execution_count": 26
        }
      ]
    },
    {
      "cell_type": "code",
      "metadata": {
        "colab": {
          "base_uri": "https://localhost:8080/",
          "height": 1000
        },
        "id": "xkiwaJ4B-1b_",
        "outputId": "76c4e4ae-b9af-465e-b76f-873de48080d0"
      },
      "source": [
        "df_train.loc[df_train['item_category_id']==71].sort_values('item_cnt_day',ascending=False).head(30)"
      ],
      "execution_count": null,
      "outputs": [
        {
          "output_type": "execute_result",
          "data": {
            "text/html": [
              "<div>\n",
              "<style scoped>\n",
              "    .dataframe tbody tr th:only-of-type {\n",
              "        vertical-align: middle;\n",
              "    }\n",
              "\n",
              "    .dataframe tbody tr th {\n",
              "        vertical-align: top;\n",
              "    }\n",
              "\n",
              "    .dataframe thead th {\n",
              "        text-align: right;\n",
              "    }\n",
              "</style>\n",
              "<table border=\"1\" class=\"dataframe\">\n",
              "  <thead>\n",
              "    <tr style=\"text-align: right;\">\n",
              "      <th></th>\n",
              "      <th>date_block_num</th>\n",
              "      <th>year</th>\n",
              "      <th>month</th>\n",
              "      <th>shop_id</th>\n",
              "      <th>item_id</th>\n",
              "      <th>item_category_id</th>\n",
              "      <th>item_price</th>\n",
              "      <th>item_cnt_day</th>\n",
              "      <th>High_sale_month</th>\n",
              "    </tr>\n",
              "  </thead>\n",
              "  <tbody>\n",
              "    <tr>\n",
              "      <th>657942</th>\n",
              "      <td>11</td>\n",
              "      <td>2013</td>\n",
              "      <td>12</td>\n",
              "      <td>31</td>\n",
              "      <td>20949</td>\n",
              "      <td>71</td>\n",
              "      <td>4.998710</td>\n",
              "      <td>1305.0</td>\n",
              "      <td>1</td>\n",
              "    </tr>\n",
              "    <tr>\n",
              "      <th>1226813</th>\n",
              "      <td>23</td>\n",
              "      <td>2014</td>\n",
              "      <td>12</td>\n",
              "      <td>31</td>\n",
              "      <td>20949</td>\n",
              "      <td>71</td>\n",
              "      <td>5.000000</td>\n",
              "      <td>1209.0</td>\n",
              "      <td>1</td>\n",
              "    </tr>\n",
              "    <tr>\n",
              "      <th>645158</th>\n",
              "      <td>11</td>\n",
              "      <td>2013</td>\n",
              "      <td>12</td>\n",
              "      <td>25</td>\n",
              "      <td>20949</td>\n",
              "      <td>71</td>\n",
              "      <td>5.000000</td>\n",
              "      <td>1066.0</td>\n",
              "      <td>1</td>\n",
              "    </tr>\n",
              "    <tr>\n",
              "      <th>1261076</th>\n",
              "      <td>24</td>\n",
              "      <td>2015</td>\n",
              "      <td>1</td>\n",
              "      <td>12</td>\n",
              "      <td>20949</td>\n",
              "      <td>71</td>\n",
              "      <td>4.000000</td>\n",
              "      <td>1000.0</td>\n",
              "      <td>0</td>\n",
              "    </tr>\n",
              "    <tr>\n",
              "      <th>1216308</th>\n",
              "      <td>23</td>\n",
              "      <td>2014</td>\n",
              "      <td>12</td>\n",
              "      <td>25</td>\n",
              "      <td>20949</td>\n",
              "      <td>71</td>\n",
              "      <td>4.999769</td>\n",
              "      <td>997.0</td>\n",
              "      <td>1</td>\n",
              "    </tr>\n",
              "    <tr>\n",
              "      <th>598233</th>\n",
              "      <td>10</td>\n",
              "      <td>2013</td>\n",
              "      <td>11</td>\n",
              "      <td>31</td>\n",
              "      <td>20949</td>\n",
              "      <td>71</td>\n",
              "      <td>4.998413</td>\n",
              "      <td>989.0</td>\n",
              "      <td>1</td>\n",
              "    </tr>\n",
              "    <tr>\n",
              "      <th>547503</th>\n",
              "      <td>9</td>\n",
              "      <td>2013</td>\n",
              "      <td>10</td>\n",
              "      <td>31</td>\n",
              "      <td>20949</td>\n",
              "      <td>71</td>\n",
              "      <td>5.000000</td>\n",
              "      <td>978.0</td>\n",
              "      <td>1</td>\n",
              "    </tr>\n",
              "    <tr>\n",
              "      <th>495702</th>\n",
              "      <td>8</td>\n",
              "      <td>2013</td>\n",
              "      <td>9</td>\n",
              "      <td>31</td>\n",
              "      <td>20949</td>\n",
              "      <td>71</td>\n",
              "      <td>5.000000</td>\n",
              "      <td>950.0</td>\n",
              "      <td>1</td>\n",
              "    </tr>\n",
              "    <tr>\n",
              "      <th>767443</th>\n",
              "      <td>13</td>\n",
              "      <td>2014</td>\n",
              "      <td>2</td>\n",
              "      <td>31</td>\n",
              "      <td>20949</td>\n",
              "      <td>71</td>\n",
              "      <td>5.000000</td>\n",
              "      <td>941.0</td>\n",
              "      <td>0</td>\n",
              "    </tr>\n",
              "    <tr>\n",
              "      <th>716727</th>\n",
              "      <td>12</td>\n",
              "      <td>2014</td>\n",
              "      <td>1</td>\n",
              "      <td>31</td>\n",
              "      <td>20949</td>\n",
              "      <td>71</td>\n",
              "      <td>5.000000</td>\n",
              "      <td>899.0</td>\n",
              "      <td>0</td>\n",
              "    </tr>\n",
              "    <tr>\n",
              "      <th>1190542</th>\n",
              "      <td>22</td>\n",
              "      <td>2014</td>\n",
              "      <td>11</td>\n",
              "      <td>54</td>\n",
              "      <td>20949</td>\n",
              "      <td>71</td>\n",
              "      <td>4.992013</td>\n",
              "      <td>888.0</td>\n",
              "      <td>1</td>\n",
              "    </tr>\n",
              "    <tr>\n",
              "      <th>441060</th>\n",
              "      <td>7</td>\n",
              "      <td>2013</td>\n",
              "      <td>8</td>\n",
              "      <td>31</td>\n",
              "      <td>20949</td>\n",
              "      <td>71</td>\n",
              "      <td>5.000000</td>\n",
              "      <td>820.0</td>\n",
              "      <td>0</td>\n",
              "    </tr>\n",
              "    <tr>\n",
              "      <th>684723</th>\n",
              "      <td>11</td>\n",
              "      <td>2013</td>\n",
              "      <td>12</td>\n",
              "      <td>57</td>\n",
              "      <td>20949</td>\n",
              "      <td>71</td>\n",
              "      <td>5.000000</td>\n",
              "      <td>806.0</td>\n",
              "      <td>1</td>\n",
              "    </tr>\n",
              "    <tr>\n",
              "      <th>383106</th>\n",
              "      <td>6</td>\n",
              "      <td>2013</td>\n",
              "      <td>7</td>\n",
              "      <td>31</td>\n",
              "      <td>20949</td>\n",
              "      <td>71</td>\n",
              "      <td>4.999390</td>\n",
              "      <td>799.0</td>\n",
              "      <td>0</td>\n",
              "    </tr>\n",
              "    <tr>\n",
              "      <th>587962</th>\n",
              "      <td>10</td>\n",
              "      <td>2013</td>\n",
              "      <td>11</td>\n",
              "      <td>25</td>\n",
              "      <td>20949</td>\n",
              "      <td>71</td>\n",
              "      <td>5.000000</td>\n",
              "      <td>795.0</td>\n",
              "      <td>1</td>\n",
              "    </tr>\n",
              "    <tr>\n",
              "      <th>1248650</th>\n",
              "      <td>23</td>\n",
              "      <td>2014</td>\n",
              "      <td>12</td>\n",
              "      <td>54</td>\n",
              "      <td>20949</td>\n",
              "      <td>71</td>\n",
              "      <td>4.997045</td>\n",
              "      <td>795.0</td>\n",
              "      <td>1</td>\n",
              "    </tr>\n",
              "    <tr>\n",
              "      <th>1219517</th>\n",
              "      <td>23</td>\n",
              "      <td>2014</td>\n",
              "      <td>12</td>\n",
              "      <td>27</td>\n",
              "      <td>20949</td>\n",
              "      <td>71</td>\n",
              "      <td>5.000000</td>\n",
              "      <td>792.0</td>\n",
              "      <td>1</td>\n",
              "    </tr>\n",
              "    <tr>\n",
              "      <th>814838</th>\n",
              "      <td>14</td>\n",
              "      <td>2014</td>\n",
              "      <td>3</td>\n",
              "      <td>31</td>\n",
              "      <td>20949</td>\n",
              "      <td>71</td>\n",
              "      <td>5.000000</td>\n",
              "      <td>776.0</td>\n",
              "      <td>0</td>\n",
              "    </tr>\n",
              "    <tr>\n",
              "      <th>1173808</th>\n",
              "      <td>22</td>\n",
              "      <td>2014</td>\n",
              "      <td>11</td>\n",
              "      <td>31</td>\n",
              "      <td>20949</td>\n",
              "      <td>71</td>\n",
              "      <td>5.000000</td>\n",
              "      <td>772.0</td>\n",
              "      <td>1</td>\n",
              "    </tr>\n",
              "    <tr>\n",
              "      <th>944146</th>\n",
              "      <td>17</td>\n",
              "      <td>2014</td>\n",
              "      <td>6</td>\n",
              "      <td>25</td>\n",
              "      <td>20949</td>\n",
              "      <td>71</td>\n",
              "      <td>5.000000</td>\n",
              "      <td>771.0</td>\n",
              "      <td>0</td>\n",
              "    </tr>\n",
              "    <tr>\n",
              "      <th>315249</th>\n",
              "      <td>5</td>\n",
              "      <td>2013</td>\n",
              "      <td>6</td>\n",
              "      <td>25</td>\n",
              "      <td>20949</td>\n",
              "      <td>71</td>\n",
              "      <td>5.000000</td>\n",
              "      <td>766.0</td>\n",
              "      <td>0</td>\n",
              "    </tr>\n",
              "    <tr>\n",
              "      <th>537449</th>\n",
              "      <td>9</td>\n",
              "      <td>2013</td>\n",
              "      <td>10</td>\n",
              "      <td>25</td>\n",
              "      <td>20949</td>\n",
              "      <td>71</td>\n",
              "      <td>5.000000</td>\n",
              "      <td>764.0</td>\n",
              "      <td>1</td>\n",
              "    </tr>\n",
              "    <tr>\n",
              "      <th>485263</th>\n",
              "      <td>8</td>\n",
              "      <td>2013</td>\n",
              "      <td>9</td>\n",
              "      <td>25</td>\n",
              "      <td>20949</td>\n",
              "      <td>71</td>\n",
              "      <td>5.000000</td>\n",
              "      <td>764.0</td>\n",
              "      <td>1</td>\n",
              "    </tr>\n",
              "    <tr>\n",
              "      <th>325007</th>\n",
              "      <td>5</td>\n",
              "      <td>2013</td>\n",
              "      <td>6</td>\n",
              "      <td>31</td>\n",
              "      <td>20949</td>\n",
              "      <td>71</td>\n",
              "      <td>4.998039</td>\n",
              "      <td>763.0</td>\n",
              "      <td>0</td>\n",
              "    </tr>\n",
              "    <tr>\n",
              "      <th>679828</th>\n",
              "      <td>11</td>\n",
              "      <td>2013</td>\n",
              "      <td>12</td>\n",
              "      <td>54</td>\n",
              "      <td>20949</td>\n",
              "      <td>71</td>\n",
              "      <td>5.000000</td>\n",
              "      <td>762.0</td>\n",
              "      <td>1</td>\n",
              "    </tr>\n",
              "    <tr>\n",
              "      <th>651306</th>\n",
              "      <td>11</td>\n",
              "      <td>2013</td>\n",
              "      <td>12</td>\n",
              "      <td>28</td>\n",
              "      <td>20949</td>\n",
              "      <td>71</td>\n",
              "      <td>5.000000</td>\n",
              "      <td>759.0</td>\n",
              "      <td>1</td>\n",
              "    </tr>\n",
              "    <tr>\n",
              "      <th>615188</th>\n",
              "      <td>10</td>\n",
              "      <td>2013</td>\n",
              "      <td>11</td>\n",
              "      <td>54</td>\n",
              "      <td>20949</td>\n",
              "      <td>71</td>\n",
              "      <td>5.000000</td>\n",
              "      <td>749.0</td>\n",
              "      <td>1</td>\n",
              "    </tr>\n",
              "    <tr>\n",
              "      <th>1279099</th>\n",
              "      <td>24</td>\n",
              "      <td>2015</td>\n",
              "      <td>1</td>\n",
              "      <td>31</td>\n",
              "      <td>20949</td>\n",
              "      <td>71</td>\n",
              "      <td>5.000000</td>\n",
              "      <td>743.0</td>\n",
              "      <td>0</td>\n",
              "    </tr>\n",
              "    <tr>\n",
              "      <th>1221466</th>\n",
              "      <td>23</td>\n",
              "      <td>2014</td>\n",
              "      <td>12</td>\n",
              "      <td>28</td>\n",
              "      <td>20949</td>\n",
              "      <td>71</td>\n",
              "      <td>5.000000</td>\n",
              "      <td>739.0</td>\n",
              "      <td>1</td>\n",
              "    </tr>\n",
              "    <tr>\n",
              "      <th>344297</th>\n",
              "      <td>5</td>\n",
              "      <td>2013</td>\n",
              "      <td>6</td>\n",
              "      <td>54</td>\n",
              "      <td>20949</td>\n",
              "      <td>71</td>\n",
              "      <td>4.999359</td>\n",
              "      <td>701.0</td>\n",
              "      <td>0</td>\n",
              "    </tr>\n",
              "  </tbody>\n",
              "</table>\n",
              "</div>"
            ],
            "text/plain": [
              "         date_block_num  year  month  ...  item_price  item_cnt_day  High_sale_month\n",
              "657942               11  2013     12  ...    4.998710        1305.0                1\n",
              "1226813              23  2014     12  ...    5.000000        1209.0                1\n",
              "645158               11  2013     12  ...    5.000000        1066.0                1\n",
              "1261076              24  2015      1  ...    4.000000        1000.0                0\n",
              "1216308              23  2014     12  ...    4.999769         997.0                1\n",
              "598233               10  2013     11  ...    4.998413         989.0                1\n",
              "547503                9  2013     10  ...    5.000000         978.0                1\n",
              "495702                8  2013      9  ...    5.000000         950.0                1\n",
              "767443               13  2014      2  ...    5.000000         941.0                0\n",
              "716727               12  2014      1  ...    5.000000         899.0                0\n",
              "1190542              22  2014     11  ...    4.992013         888.0                1\n",
              "441060                7  2013      8  ...    5.000000         820.0                0\n",
              "684723               11  2013     12  ...    5.000000         806.0                1\n",
              "383106                6  2013      7  ...    4.999390         799.0                0\n",
              "587962               10  2013     11  ...    5.000000         795.0                1\n",
              "1248650              23  2014     12  ...    4.997045         795.0                1\n",
              "1219517              23  2014     12  ...    5.000000         792.0                1\n",
              "814838               14  2014      3  ...    5.000000         776.0                0\n",
              "1173808              22  2014     11  ...    5.000000         772.0                1\n",
              "944146               17  2014      6  ...    5.000000         771.0                0\n",
              "315249                5  2013      6  ...    5.000000         766.0                0\n",
              "537449                9  2013     10  ...    5.000000         764.0                1\n",
              "485263                8  2013      9  ...    5.000000         764.0                1\n",
              "325007                5  2013      6  ...    4.998039         763.0                0\n",
              "679828               11  2013     12  ...    5.000000         762.0                1\n",
              "651306               11  2013     12  ...    5.000000         759.0                1\n",
              "615188               10  2013     11  ...    5.000000         749.0                1\n",
              "1279099              24  2015      1  ...    5.000000         743.0                0\n",
              "1221466              23  2014     12  ...    5.000000         739.0                1\n",
              "344297                5  2013      6  ...    4.999359         701.0                0\n",
              "\n",
              "[30 rows x 9 columns]"
            ]
          },
          "metadata": {
            "tags": []
          },
          "execution_count": 53
        }
      ]
    },
    {
      "cell_type": "code",
      "metadata": {
        "colab": {
          "base_uri": "https://localhost:8080/",
          "height": 411
        },
        "id": "B7bh8axg_v5W",
        "outputId": "6b3b0761-4564-413b-c6fa-669d829c2c10"
      },
      "source": [
        "sns.lineplot(df_train['month'],df_train['item_cnt_day'])"
      ],
      "execution_count": null,
      "outputs": [
        {
          "output_type": "stream",
          "text": [
            "/usr/local/lib/python3.7/dist-packages/seaborn/_decorators.py:43: FutureWarning: Pass the following variables as keyword args: x, y. From version 0.12, the only valid positional argument will be `data`, and passing other arguments without an explicit keyword will result in an error or misinterpretation.\n",
            "  FutureWarning\n"
          ],
          "name": "stderr"
        },
        {
          "output_type": "execute_result",
          "data": {
            "text/plain": [
              "<matplotlib.axes._subplots.AxesSubplot at 0x7fb9ebbdb890>"
            ]
          },
          "metadata": {
            "tags": []
          },
          "execution_count": 44
        },
        {
          "output_type": "display_data",
          "data": {
            "image/png": "[encoded data removed]",
            "text/plain": [
              "<Figure size 2160x720 with 1 Axes>"
            ]
          },
          "metadata": {
            "tags": [],
            "needs_background": "light"
          }
        }
      ]
    },
    {
      "cell_type": "code",
      "metadata": {
        "id": "FkBBtSWCLu5m"
      },
      "source": [
        "temp= df_train.groupby(['year','month'])['item_cnt_day'].mean().reset_index(name='count')\n"
      ],
      "execution_count": null,
      "outputs": []
    },
    {
      "cell_type": "code",
      "metadata": {
        "colab": {
          "base_uri": "https://localhost:8080/",
          "height": 143
        },
        "id": "PjAEb1UBQmAZ",
        "outputId": "c858b8e6-e007-4dad-fa2e-2af6fd8ebf06"
      },
      "source": [
        "temp.sort_values(['count'],ascending=False)"
      ],
      "execution_count": null,
      "outputs": [
        {
          "output_type": "execute_result",
          "data": {
            "text/html": [
              "<div>\n",
              "<style scoped>\n",
              "    .dataframe tbody tr th:only-of-type {\n",
              "        vertical-align: middle;\n",
              "    }\n",
              "\n",
              "    .dataframe tbody tr th {\n",
              "        vertical-align: top;\n",
              "    }\n",
              "\n",
              "    .dataframe thead th {\n",
              "        text-align: right;\n",
              "    }\n",
              "</style>\n",
              "<table border=\"1\" class=\"dataframe\">\n",
              "  <thead>\n",
              "    <tr style=\"text-align: right;\">\n",
              "      <th></th>\n",
              "      <th>year</th>\n",
              "      <th>count</th>\n",
              "    </tr>\n",
              "  </thead>\n",
              "  <tbody>\n",
              "    <tr>\n",
              "      <th>0</th>\n",
              "      <td>2013</td>\n",
              "      <td>1569060.0</td>\n",
              "    </tr>\n",
              "    <tr>\n",
              "      <th>1</th>\n",
              "      <td>2014</td>\n",
              "      <td>1326299.0</td>\n",
              "    </tr>\n",
              "    <tr>\n",
              "      <th>2</th>\n",
              "      <td>2015</td>\n",
              "      <td>767928.0</td>\n",
              "    </tr>\n",
              "  </tbody>\n",
              "</table>\n",
              "</div>"
            ],
            "text/plain": [
              "   year      count\n",
              "0  2013  1569060.0\n",
              "1  2014  1326299.0\n",
              "2  2015   767928.0"
            ]
          },
          "metadata": {
            "tags": []
          },
          "execution_count": 110
        }
      ]
    },
    {
      "cell_type": "code",
      "metadata": {
        "colab": {
          "base_uri": "https://localhost:8080/",
          "height": 352
        },
        "id": "2E7o3TkWEX6I",
        "outputId": "e479d738-e70d-4784-f876-da84076ba972"
      },
      "source": [
        "sns.histplot(df_train['item_price'],bins=200)"
      ],
      "execution_count": null,
      "outputs": [
        {
          "output_type": "execute_result",
          "data": {
            "text/plain": [
              "<matplotlib.axes._subplots.AxesSubplot at 0x7f58d3c5b550>"
            ]
          },
          "metadata": {
            "tags": []
          },
          "execution_count": 94
        },
        {
          "output_type": "display_data",
          "data": {
            "image/png": "[encoded data removed]",
            "text/plain": [
              "<Figure size 2160x720 with 1 Axes>"
            ]
          },
          "metadata": {
            "tags": []
          }
        }
      ]
    },
    {
      "cell_type": "code",
      "metadata": {
        "colab": {
          "base_uri": "https://localhost:8080/",
          "height": 678
        },
        "id": "S0vk_lS8HXMA",
        "outputId": "af62cd7b-8942-4491-e460-222787c25b6b"
      },
      "source": [
        ""
      ],
      "execution_count": null,
      "outputs": [
        {
          "output_type": "stream",
          "text": [
            "/usr/local/lib/python3.7/dist-packages/seaborn/_decorators.py:43: FutureWarning: Pass the following variables as keyword args: x, y. From version 0.12, the only valid positional argument will be `data`, and passing other arguments without an explicit keyword will result in an error or misinterpretation.\n",
            "  FutureWarning\n"
          ],
          "name": "stderr"
        },
        {
          "output_type": "execute_result",
          "data": {
            "text/plain": [
              "<matplotlib.axes._subplots.AxesSubplot at 0x7f58d6c29c50>"
            ]
          },
          "metadata": {
            "tags": []
          },
          "execution_count": 49
        },
        {
          "output_type": "display_data",
          "data": {
            "image/png": "[encoded data removed]",
            "text/plain": [
              "<Figure size 2160x720 with 1 Axes>"
            ]
          },
          "metadata": {
            "tags": []
          }
        }
      ]
    },
    {
      "cell_type": "code",
      "metadata": {
        "colab": {
          "base_uri": "https://localhost:8080/"
        },
        "id": "4LrnEuFqVnsP",
        "outputId": "43956a08-d899-4af3-fa4c-f7d56176cc67"
      },
      "source": [
        "df_train.loc[df_train['item_price']>20000]['item_cnt_day'].value_counts()"
      ],
      "execution_count": null,
      "outputs": [
        {
          "output_type": "execute_result",
          "data": {
            "text/plain": [
              "1.0     5508\n",
              "2.0      830\n",
              "3.0      209\n",
              "4.0       87\n",
              "5.0       45\n",
              "6.0       26\n",
              "7.0       21\n",
              "10.0      15\n",
              "8.0        6\n",
              "13.0       5\n",
              "11.0       5\n",
              "9.0        5\n",
              "16.0       5\n",
              "12.0       4\n",
              "28.0       2\n",
              "20.0       1\n",
              "52.0       1\n",
              "17.0       1\n",
              "18.0       1\n",
              "15.0       1\n",
              "14.0       1\n",
              "21.0       1\n",
              "Name: item_cnt_day, dtype: int64"
            ]
          },
          "metadata": {
            "tags": []
          },
          "execution_count": 64
        }
      ]
    },
    {
      "cell_type": "code",
      "metadata": {
        "colab": {
          "base_uri": "https://localhost:8080/"
        },
        "id": "Ua6JiIBAIWs3",
        "outputId": "15d032b5-c686-47dd-e6e7-5ab8c5978567"
      },
      "source": [
        "df_train.loc[df_train['item_category_id']==75]['item_price'].mean()"
      ],
      "execution_count": null,
      "outputs": [
        {
          "output_type": "execute_result",
          "data": {
            "text/plain": [
              "1852.6814922114108"
            ]
          },
          "metadata": {
            "tags": []
          },
          "execution_count": 55
        }
      ]
    },
    {
      "cell_type": "code",
      "metadata": {
        "colab": {
          "base_uri": "https://localhost:8080/"
        },
        "id": "-eNRb2Hbq0k8",
        "outputId": "e834f928-c9db-4210-a82b-db11aaa2b921"
      },
      "source": [
        "df_train.loc[df_train['item_cnt_day']==5].shape[0]/df_train.shape[0]*100"
      ],
      "execution_count": null,
      "outputs": [
        {
          "output_type": "execute_result",
          "data": {
            "text/plain": [
              "0.3568985860303394"
            ]
          },
          "metadata": {
            "tags": []
          },
          "execution_count": 52
        }
      ]
    },
    {
      "cell_type": "code",
      "metadata": {
        "id": "zlfu-cgGxQcG"
      },
      "source": [
        "check1=df_train.loc[(df_train['item_cnt_day']!=2) & (df_train['item_cnt_day']!=1)].sort_values('item_id')"
      ],
      "execution_count": null,
      "outputs": []
    },
    {
      "cell_type": "code",
      "metadata": {
        "colab": {
          "base_uri": "https://localhost:8080/"
        },
        "id": "nVptwzAKyjpl",
        "outputId": "7aa334cc-b6f4-426d-f6ad-5413ae18ab55"
      },
      "source": [
        "df_train['item_id'].nunique()"
      ],
      "execution_count": null,
      "outputs": [
        {
          "output_type": "execute_result",
          "data": {
            "text/plain": [
              "21807"
            ]
          },
          "metadata": {
            "tags": []
          },
          "execution_count": 9
        }
      ]
    },
    {
      "cell_type": "code",
      "metadata": {
        "id": "b2MEep1dyWOi"
      },
      "source": [
        "l1= list(check1['item_id'].unique())"
      ],
      "execution_count": null,
      "outputs": []
    },
    {
      "cell_type": "code",
      "metadata": {
        "colab": {
          "base_uri": "https://localhost:8080/"
        },
        "id": "A-tLZOjKziv7",
        "outputId": "49c6fc0e-2805-4691-8166-125ec4770e6c"
      },
      "source": [
        "len(l1)"
      ],
      "execution_count": null,
      "outputs": [
        {
          "output_type": "execute_result",
          "data": {
            "text/plain": [
              "6161"
            ]
          },
          "metadata": {
            "tags": []
          },
          "execution_count": 11
        }
      ]
    },
    {
      "cell_type": "code",
      "metadata": {
        "id": "ZkMbDYn2y_qX"
      },
      "source": [
        "check2=df_train.loc[(df_train['item_cnt_day']==2) | (df_train['item_cnt_day']==1)].sort_values('item_id')"
      ],
      "execution_count": null,
      "outputs": []
    },
    {
      "cell_type": "code",
      "metadata": {
        "id": "6kksPjiPzJx6"
      },
      "source": [
        "l2=list(check2['item_id'].unique())"
      ],
      "execution_count": null,
      "outputs": []
    },
    {
      "cell_type": "code",
      "metadata": {
        "id": "KIOykqeDzcDq"
      },
      "source": [
        "l3=list(set(l1)-set(l2))"
      ],
      "execution_count": null,
      "outputs": []
    },
    {
      "cell_type": "code",
      "metadata": {
        "colab": {
          "base_uri": "https://localhost:8080/"
        },
        "id": "cGYwBx9e6Oms",
        "outputId": "dd8a2e8a-70c1-4ca1-8b43-27caad8c7238"
      },
      "source": [
        "df_train['item_price'].describe().apply(lambda x: format(x, 'f'))"
      ],
      "execution_count": null,
      "outputs": [
        {
          "output_type": "execute_result",
          "data": {
            "text/plain": [
              "count    2935849.000000\n",
              "mean         890.853233\n",
              "std         1729.799631\n",
              "min           -1.000000\n",
              "25%          249.000000\n",
              "50%          399.000000\n",
              "75%          999.000000\n",
              "max       307980.000000\n",
              "Name: item_price, dtype: object"
            ]
          },
          "metadata": {
            "tags": []
          },
          "execution_count": 15
        }
      ]
    },
    {
      "cell_type": "code",
      "metadata": {
        "colab": {
          "base_uri": "https://localhost:8080/",
          "height": 424
        },
        "id": "xpasnAA2nUYn",
        "outputId": "66b10aa2-69d3-489a-843b-f875f67f5de2"
      },
      "source": [
        "df_train.loc[df_train['item_category_id']==76]"
      ],
      "execution_count": null,
      "outputs": [
        {
          "output_type": "execute_result",
          "data": {
            "text/html": [
              "<div>\n",
              "<style scoped>\n",
              "    .dataframe tbody tr th:only-of-type {\n",
              "        vertical-align: middle;\n",
              "    }\n",
              "\n",
              "    .dataframe tbody tr th {\n",
              "        vertical-align: top;\n",
              "    }\n",
              "\n",
              "    .dataframe thead th {\n",
              "        text-align: right;\n",
              "    }\n",
              "</style>\n",
              "<table border=\"1\" class=\"dataframe\">\n",
              "  <thead>\n",
              "    <tr style=\"text-align: right;\">\n",
              "      <th></th>\n",
              "      <th>date</th>\n",
              "      <th>date_block_num</th>\n",
              "      <th>shop_id</th>\n",
              "      <th>item_id</th>\n",
              "      <th>item_price</th>\n",
              "      <th>item_cnt_day</th>\n",
              "      <th>day</th>\n",
              "      <th>month</th>\n",
              "      <th>year</th>\n",
              "      <th>item_category_id</th>\n",
              "    </tr>\n",
              "  </thead>\n",
              "  <tbody>\n",
              "    <tr>\n",
              "      <th>1519115</th>\n",
              "      <td>2013-05-01</td>\n",
              "      <td>4</td>\n",
              "      <td>55</td>\n",
              "      <td>1162</td>\n",
              "      <td>755.0</td>\n",
              "      <td>1.0</td>\n",
              "      <td>1</td>\n",
              "      <td>5</td>\n",
              "      <td>2013</td>\n",
              "      <td>76</td>\n",
              "    </tr>\n",
              "    <tr>\n",
              "      <th>1519116</th>\n",
              "      <td>2013-05-04</td>\n",
              "      <td>4</td>\n",
              "      <td>55</td>\n",
              "      <td>1162</td>\n",
              "      <td>755.0</td>\n",
              "      <td>1.0</td>\n",
              "      <td>4</td>\n",
              "      <td>5</td>\n",
              "      <td>2013</td>\n",
              "      <td>76</td>\n",
              "    </tr>\n",
              "    <tr>\n",
              "      <th>1519117</th>\n",
              "      <td>2013-05-08</td>\n",
              "      <td>4</td>\n",
              "      <td>55</td>\n",
              "      <td>1162</td>\n",
              "      <td>755.0</td>\n",
              "      <td>1.0</td>\n",
              "      <td>8</td>\n",
              "      <td>5</td>\n",
              "      <td>2013</td>\n",
              "      <td>76</td>\n",
              "    </tr>\n",
              "    <tr>\n",
              "      <th>1519118</th>\n",
              "      <td>2013-05-09</td>\n",
              "      <td>4</td>\n",
              "      <td>55</td>\n",
              "      <td>1162</td>\n",
              "      <td>755.0</td>\n",
              "      <td>1.0</td>\n",
              "      <td>9</td>\n",
              "      <td>5</td>\n",
              "      <td>2013</td>\n",
              "      <td>76</td>\n",
              "    </tr>\n",
              "    <tr>\n",
              "      <th>1519119</th>\n",
              "      <td>2013-05-15</td>\n",
              "      <td>4</td>\n",
              "      <td>55</td>\n",
              "      <td>1162</td>\n",
              "      <td>755.0</td>\n",
              "      <td>1.0</td>\n",
              "      <td>15</td>\n",
              "      <td>5</td>\n",
              "      <td>2013</td>\n",
              "      <td>76</td>\n",
              "    </tr>\n",
              "    <tr>\n",
              "      <th>...</th>\n",
              "      <td>...</td>\n",
              "      <td>...</td>\n",
              "      <td>...</td>\n",
              "      <td>...</td>\n",
              "      <td>...</td>\n",
              "      <td>...</td>\n",
              "      <td>...</td>\n",
              "      <td>...</td>\n",
              "      <td>...</td>\n",
              "      <td>...</td>\n",
              "    </tr>\n",
              "    <tr>\n",
              "      <th>2935470</th>\n",
              "      <td>2015-10-25</td>\n",
              "      <td>33</td>\n",
              "      <td>55</td>\n",
              "      <td>4945</td>\n",
              "      <td>1393.0</td>\n",
              "      <td>1.0</td>\n",
              "      <td>25</td>\n",
              "      <td>10</td>\n",
              "      <td>2015</td>\n",
              "      <td>76</td>\n",
              "    </tr>\n",
              "    <tr>\n",
              "      <th>2935471</th>\n",
              "      <td>2015-10-31</td>\n",
              "      <td>33</td>\n",
              "      <td>55</td>\n",
              "      <td>4945</td>\n",
              "      <td>1393.0</td>\n",
              "      <td>1.0</td>\n",
              "      <td>31</td>\n",
              "      <td>10</td>\n",
              "      <td>2015</td>\n",
              "      <td>76</td>\n",
              "    </tr>\n",
              "    <tr>\n",
              "      <th>2935623</th>\n",
              "      <td>2015-10-28</td>\n",
              "      <td>33</td>\n",
              "      <td>55</td>\n",
              "      <td>4914</td>\n",
              "      <td>903.0</td>\n",
              "      <td>1.0</td>\n",
              "      <td>28</td>\n",
              "      <td>10</td>\n",
              "      <td>2015</td>\n",
              "      <td>76</td>\n",
              "    </tr>\n",
              "    <tr>\n",
              "      <th>2935632</th>\n",
              "      <td>2015-10-28</td>\n",
              "      <td>33</td>\n",
              "      <td>55</td>\n",
              "      <td>12733</td>\n",
              "      <td>1490.0</td>\n",
              "      <td>1.0</td>\n",
              "      <td>28</td>\n",
              "      <td>10</td>\n",
              "      <td>2015</td>\n",
              "      <td>76</td>\n",
              "    </tr>\n",
              "    <tr>\n",
              "      <th>2935633</th>\n",
              "      <td>2015-10-29</td>\n",
              "      <td>33</td>\n",
              "      <td>55</td>\n",
              "      <td>12733</td>\n",
              "      <td>1490.0</td>\n",
              "      <td>1.0</td>\n",
              "      <td>29</td>\n",
              "      <td>10</td>\n",
              "      <td>2015</td>\n",
              "      <td>76</td>\n",
              "    </tr>\n",
              "  </tbody>\n",
              "</table>\n",
              "<p>3746 rows × 10 columns</p>\n",
              "</div>"
            ],
            "text/plain": [
              "              date  date_block_num  shop_id  ...  month  year  item_category_id\n",
              "1519115 2013-05-01               4       55  ...      5  2013                76\n",
              "1519116 2013-05-04               4       55  ...      5  2013                76\n",
              "1519117 2013-05-08               4       55  ...      5  2013                76\n",
              "1519118 2013-05-09               4       55  ...      5  2013                76\n",
              "1519119 2013-05-15               4       55  ...      5  2013                76\n",
              "...            ...             ...      ...  ...    ...   ...               ...\n",
              "2935470 2015-10-25              33       55  ...     10  2015                76\n",
              "2935471 2015-10-31              33       55  ...     10  2015                76\n",
              "2935623 2015-10-28              33       55  ...     10  2015                76\n",
              "2935632 2015-10-28              33       55  ...     10  2015                76\n",
              "2935633 2015-10-29              33       55  ...     10  2015                76\n",
              "\n",
              "[3746 rows x 10 columns]"
            ]
          },
          "metadata": {
            "tags": []
          },
          "execution_count": 20
        }
      ]
    },
    {
      "cell_type": "code",
      "metadata": {
        "id": "ac5cD9icpjbO"
      },
      "source": [
        ""
      ],
      "execution_count": null,
      "outputs": []
    },
    {
      "cell_type": "code",
      "metadata": {
        "colab": {
          "base_uri": "https://localhost:8080/",
          "height": 320
        },
        "id": "tUBtL32c8M_9",
        "outputId": "2cec929d-af93-4556-f29e-fbdd38c80ab0"
      },
      "source": [
        "df_train.loc[df_train['item_category_id']==31].describe()"
      ],
      "execution_count": null,
      "outputs": [
        {
          "output_type": "execute_result",
          "data": {
            "text/html": [
              "<div>\n",
              "<style scoped>\n",
              "    .dataframe tbody tr th:only-of-type {\n",
              "        vertical-align: middle;\n",
              "    }\n",
              "\n",
              "    .dataframe tbody tr th {\n",
              "        vertical-align: top;\n",
              "    }\n",
              "\n",
              "    .dataframe thead th {\n",
              "        text-align: right;\n",
              "    }\n",
              "</style>\n",
              "<table border=\"1\" class=\"dataframe\">\n",
              "  <thead>\n",
              "    <tr style=\"text-align: right;\">\n",
              "      <th></th>\n",
              "      <th>date_block_num</th>\n",
              "      <th>shop_id</th>\n",
              "      <th>item_id</th>\n",
              "      <th>item_price</th>\n",
              "      <th>item_cnt_day</th>\n",
              "      <th>day</th>\n",
              "      <th>month</th>\n",
              "      <th>year</th>\n",
              "      <th>item_category_id</th>\n",
              "    </tr>\n",
              "  </thead>\n",
              "  <tbody>\n",
              "    <tr>\n",
              "      <th>count</th>\n",
              "      <td>20649.000000</td>\n",
              "      <td>20649.0</td>\n",
              "      <td>20649.000000</td>\n",
              "      <td>20649.000000</td>\n",
              "      <td>20649.000000</td>\n",
              "      <td>20649.000000</td>\n",
              "      <td>20649.000000</td>\n",
              "      <td>20649.000000</td>\n",
              "      <td>20649.0</td>\n",
              "    </tr>\n",
              "    <tr>\n",
              "      <th>mean</th>\n",
              "      <td>19.981452</td>\n",
              "      <td>55.0</td>\n",
              "      <td>6642.439343</td>\n",
              "      <td>506.679556</td>\n",
              "      <td>1.700228</td>\n",
              "      <td>15.866289</td>\n",
              "      <td>6.776599</td>\n",
              "      <td>2014.183738</td>\n",
              "      <td>31.0</td>\n",
              "    </tr>\n",
              "    <tr>\n",
              "      <th>std</th>\n",
              "      <td>8.048122</td>\n",
              "      <td>0.0</td>\n",
              "      <td>4811.703993</td>\n",
              "      <td>503.268103</td>\n",
              "      <td>7.797293</td>\n",
              "      <td>8.888488</td>\n",
              "      <td>3.443365</td>\n",
              "      <td>0.736262</td>\n",
              "      <td>0.0</td>\n",
              "    </tr>\n",
              "    <tr>\n",
              "      <th>min</th>\n",
              "      <td>4.000000</td>\n",
              "      <td>55.0</td>\n",
              "      <td>501.000000</td>\n",
              "      <td>4.000000</td>\n",
              "      <td>-1.000000</td>\n",
              "      <td>1.000000</td>\n",
              "      <td>1.000000</td>\n",
              "      <td>2013.000000</td>\n",
              "      <td>31.0</td>\n",
              "    </tr>\n",
              "    <tr>\n",
              "      <th>25%</th>\n",
              "      <td>14.000000</td>\n",
              "      <td>55.0</td>\n",
              "      <td>2963.000000</td>\n",
              "      <td>149.000000</td>\n",
              "      <td>1.000000</td>\n",
              "      <td>8.000000</td>\n",
              "      <td>4.000000</td>\n",
              "      <td>2014.000000</td>\n",
              "      <td>31.0</td>\n",
              "    </tr>\n",
              "    <tr>\n",
              "      <th>50%</th>\n",
              "      <td>21.000000</td>\n",
              "      <td>55.0</td>\n",
              "      <td>5229.000000</td>\n",
              "      <td>349.000000</td>\n",
              "      <td>1.000000</td>\n",
              "      <td>16.000000</td>\n",
              "      <td>7.000000</td>\n",
              "      <td>2014.000000</td>\n",
              "      <td>31.0</td>\n",
              "    </tr>\n",
              "    <tr>\n",
              "      <th>75%</th>\n",
              "      <td>26.000000</td>\n",
              "      <td>55.0</td>\n",
              "      <td>9526.000000</td>\n",
              "      <td>599.000000</td>\n",
              "      <td>1.000000</td>\n",
              "      <td>24.000000</td>\n",
              "      <td>10.000000</td>\n",
              "      <td>2015.000000</td>\n",
              "      <td>31.0</td>\n",
              "    </tr>\n",
              "    <tr>\n",
              "      <th>max</th>\n",
              "      <td>33.000000</td>\n",
              "      <td>55.0</td>\n",
              "      <td>22165.000000</td>\n",
              "      <td>3599.000000</td>\n",
              "      <td>508.000000</td>\n",
              "      <td>31.000000</td>\n",
              "      <td>12.000000</td>\n",
              "      <td>2015.000000</td>\n",
              "      <td>31.0</td>\n",
              "    </tr>\n",
              "  </tbody>\n",
              "</table>\n",
              "</div>"
            ],
            "text/plain": [
              "       date_block_num  shop_id  ...          year  item_category_id\n",
              "count    20649.000000  20649.0  ...  20649.000000           20649.0\n",
              "mean        19.981452     55.0  ...   2014.183738              31.0\n",
              "std          8.048122      0.0  ...      0.736262               0.0\n",
              "min          4.000000     55.0  ...   2013.000000              31.0\n",
              "25%         14.000000     55.0  ...   2014.000000              31.0\n",
              "50%         21.000000     55.0  ...   2014.000000              31.0\n",
              "75%         26.000000     55.0  ...   2015.000000              31.0\n",
              "max         33.000000     55.0  ...   2015.000000              31.0\n",
              "\n",
              "[8 rows x 9 columns]"
            ]
          },
          "metadata": {
            "tags": []
          },
          "execution_count": 26
        }
      ]
    },
    {
      "cell_type": "code",
      "metadata": {
        "colab": {
          "base_uri": "https://localhost:8080/"
        },
        "id": "HgBtm9SOnF6H",
        "outputId": "575bead2-3d02-4d73-80ea-bb9fc1d693d9"
      },
      "source": [
        "df_train.loc[df_train['item_category_id']==31]['shop_id']\n"
      ],
      "execution_count": null,
      "outputs": [
        {
          "output_type": "execute_result",
          "data": {
            "text/plain": [
              "1519186    55\n",
              "1519187    55\n",
              "1519188    55\n",
              "1519189    55\n",
              "1519190    55\n",
              "           ..\n",
              "2934531    55\n",
              "2935442    55\n",
              "2935634    55\n",
              "2935635    55\n",
              "2935844    55\n",
              "Name: shop_id, Length: 20649, dtype: int64"
            ]
          },
          "metadata": {
            "tags": []
          },
          "execution_count": 32
        }
      ]
    },
    {
      "cell_type": "code",
      "metadata": {
        "colab": {
          "base_uri": "https://localhost:8080/"
        },
        "id": "QH_CMwKbqTst",
        "outputId": "e7289cd2-6c33-4574-dc34-0f6bfb899778"
      },
      "source": [
        "np.sort(df_test['item_category_id'].unique())"
      ],
      "execution_count": null,
      "outputs": [
        {
          "output_type": "execute_result",
          "data": {
            "text/plain": [
              "array([ 0,  2,  3,  5,  6,  7,  9, 11, 12, 15, 16, 19, 20, 21, 22, 23, 24,\n",
              "       25, 26, 27, 28, 29, 30, 31, 33, 34, 35, 36, 37, 38, 40, 41, 42, 43,\n",
              "       44, 45, 47, 49, 54, 55, 56, 57, 58, 60, 61, 62, 63, 64, 65, 67, 69,\n",
              "       70, 71, 72, 73, 74, 75, 76, 77, 78, 79, 83])"
            ]
          },
          "metadata": {
            "tags": []
          },
          "execution_count": 38
        }
      ]
    },
    {
      "cell_type": "code",
      "metadata": {
        "colab": {
          "base_uri": "https://localhost:8080/"
        },
        "id": "veO2asJQrNM-",
        "outputId": "6faf7d2c-bfae-4f28-eed6-3ccc5e8466ad"
      },
      "source": [
        "df_train.loc[(df_train['item_category_id']==31) & (df_train['item_cnt_day']==31)]['item_id'].nunique()\n"
      ],
      "execution_count": null,
      "outputs": [
        {
          "output_type": "execute_result",
          "data": {
            "text/plain": [
              "3"
            ]
          },
          "metadata": {
            "tags": []
          },
          "execution_count": 47
        }
      ]
    },
    {
      "cell_type": "code",
      "metadata": {
        "colab": {
          "base_uri": "https://localhost:8080/"
        },
        "id": "dRJ2mry1sV-Z",
        "outputId": "7110b29c-3b24-4beb-9b3d-571426e4bbcf"
      },
      "source": [
        "df_test.shape"
      ],
      "execution_count": null,
      "outputs": [
        {
          "output_type": "execute_result",
          "data": {
            "text/plain": [
              "(214200, 6)"
            ]
          },
          "metadata": {
            "tags": []
          },
          "execution_count": 49
        }
      ]
    },
    {
      "cell_type": "code",
      "metadata": {
        "colab": {
          "base_uri": "https://localhost:8080/"
        },
        "id": "1Rsua2BIq435",
        "outputId": "36f70b75-a857-4a7b-ec19-a5ab5b6df3e4"
      },
      "source": [
        "df_test.loc[df_test['item_category_id']==31].shape\n"
      ],
      "execution_count": null,
      "outputs": [
        {
          "output_type": "execute_result",
          "data": {
            "text/plain": [
              "(11634, 6)"
            ]
          },
          "metadata": {
            "tags": []
          },
          "execution_count": 48
        }
      ]
    },
    {
      "cell_type": "code",
      "metadata": {
        "colab": {
          "base_uri": "https://localhost:8080/"
        },
        "id": "VdwFPi4BtVDT",
        "outputId": "0b64deab-d253-4213-f845-a22e50c9e13d"
      },
      "source": [
        "df_train['item_price'].corr(df_train['item_cnt_day'])"
      ],
      "execution_count": null,
      "outputs": [
        {
          "output_type": "execute_result",
          "data": {
            "text/plain": [
              "0.011196625252355609"
            ]
          },
          "metadata": {
            "tags": []
          },
          "execution_count": 52
        }
      ]
    },
    {
      "cell_type": "code",
      "metadata": {
        "colab": {
          "base_uri": "https://localhost:8080/",
          "height": 1000
        },
        "id": "VWU9EOoJzzjd",
        "outputId": "18a5e789-b1f7-4ef2-af6b-acf58ad22bd4"
      },
      "source": [
        "df_train[df_train['item_id'].isin(l3)].sort_values('item_category_id')"
      ],
      "execution_count": null,
      "outputs": [
        {
          "output_type": "execute_result",
          "data": {
            "text/html": [
              "<div>\n",
              "<style scoped>\n",
              "    .dataframe tbody tr th:only-of-type {\n",
              "        vertical-align: middle;\n",
              "    }\n",
              "\n",
              "    .dataframe tbody tr th {\n",
              "        vertical-align: top;\n",
              "    }\n",
              "\n",
              "    .dataframe thead th {\n",
              "        text-align: right;\n",
              "    }\n",
              "</style>\n",
              "<table border=\"1\" class=\"dataframe\">\n",
              "  <thead>\n",
              "    <tr style=\"text-align: right;\">\n",
              "      <th></th>\n",
              "      <th>date</th>\n",
              "      <th>date_block_num</th>\n",
              "      <th>shop_id</th>\n",
              "      <th>item_id</th>\n",
              "      <th>item_price</th>\n",
              "      <th>item_cnt_day</th>\n",
              "      <th>day</th>\n",
              "      <th>month</th>\n",
              "      <th>year</th>\n",
              "      <th>item_category_id</th>\n",
              "    </tr>\n",
              "  </thead>\n",
              "  <tbody>\n",
              "    <tr>\n",
              "      <th>1201930</th>\n",
              "      <td>2013-01-30</td>\n",
              "      <td>0</td>\n",
              "      <td>12</td>\n",
              "      <td>11366</td>\n",
              "      <td>312.500000</td>\n",
              "      <td>4.0</td>\n",
              "      <td>30</td>\n",
              "      <td>1</td>\n",
              "      <td>2013</td>\n",
              "      <td>9</td>\n",
              "    </tr>\n",
              "    <tr>\n",
              "      <th>1748909</th>\n",
              "      <td>2013-08-23</td>\n",
              "      <td>7</td>\n",
              "      <td>42</td>\n",
              "      <td>13474</td>\n",
              "      <td>10398.000000</td>\n",
              "      <td>-1.0</td>\n",
              "      <td>23</td>\n",
              "      <td>8</td>\n",
              "      <td>2013</td>\n",
              "      <td>11</td>\n",
              "    </tr>\n",
              "    <tr>\n",
              "      <th>2258903</th>\n",
              "      <td>2014-03-07</td>\n",
              "      <td>14</td>\n",
              "      <td>51</td>\n",
              "      <td>6413</td>\n",
              "      <td>77.000000</td>\n",
              "      <td>4.0</td>\n",
              "      <td>7</td>\n",
              "      <td>3</td>\n",
              "      <td>2014</td>\n",
              "      <td>30</td>\n",
              "    </tr>\n",
              "    <tr>\n",
              "      <th>2766786</th>\n",
              "      <td>2015-01-11</td>\n",
              "      <td>24</td>\n",
              "      <td>55</td>\n",
              "      <td>4329</td>\n",
              "      <td>105.000000</td>\n",
              "      <td>7.0</td>\n",
              "      <td>11</td>\n",
              "      <td>1</td>\n",
              "      <td>2015</td>\n",
              "      <td>31</td>\n",
              "    </tr>\n",
              "    <tr>\n",
              "      <th>2773335</th>\n",
              "      <td>2015-01-29</td>\n",
              "      <td>24</td>\n",
              "      <td>55</td>\n",
              "      <td>3727</td>\n",
              "      <td>1999.000000</td>\n",
              "      <td>19.0</td>\n",
              "      <td>29</td>\n",
              "      <td>1</td>\n",
              "      <td>2015</td>\n",
              "      <td>31</td>\n",
              "    </tr>\n",
              "    <tr>\n",
              "      <th>2773336</th>\n",
              "      <td>2015-01-30</td>\n",
              "      <td>24</td>\n",
              "      <td>55</td>\n",
              "      <td>3727</td>\n",
              "      <td>1999.000000</td>\n",
              "      <td>21.0</td>\n",
              "      <td>30</td>\n",
              "      <td>1</td>\n",
              "      <td>2015</td>\n",
              "      <td>31</td>\n",
              "    </tr>\n",
              "    <tr>\n",
              "      <th>2773337</th>\n",
              "      <td>2015-01-31</td>\n",
              "      <td>24</td>\n",
              "      <td>55</td>\n",
              "      <td>3727</td>\n",
              "      <td>1999.000000</td>\n",
              "      <td>27.0</td>\n",
              "      <td>31</td>\n",
              "      <td>1</td>\n",
              "      <td>2015</td>\n",
              "      <td>31</td>\n",
              "    </tr>\n",
              "    <tr>\n",
              "      <th>2773338</th>\n",
              "      <td>2015-02-01</td>\n",
              "      <td>25</td>\n",
              "      <td>55</td>\n",
              "      <td>3727</td>\n",
              "      <td>1999.000000</td>\n",
              "      <td>7.0</td>\n",
              "      <td>1</td>\n",
              "      <td>2</td>\n",
              "      <td>2015</td>\n",
              "      <td>31</td>\n",
              "    </tr>\n",
              "    <tr>\n",
              "      <th>2831208</th>\n",
              "      <td>2015-04-01</td>\n",
              "      <td>27</td>\n",
              "      <td>55</td>\n",
              "      <td>3729</td>\n",
              "      <td>1999.000000</td>\n",
              "      <td>4.0</td>\n",
              "      <td>1</td>\n",
              "      <td>4</td>\n",
              "      <td>2015</td>\n",
              "      <td>31</td>\n",
              "    </tr>\n",
              "    <tr>\n",
              "      <th>2831209</th>\n",
              "      <td>2015-04-02</td>\n",
              "      <td>27</td>\n",
              "      <td>55</td>\n",
              "      <td>3729</td>\n",
              "      <td>1999.000000</td>\n",
              "      <td>5.0</td>\n",
              "      <td>2</td>\n",
              "      <td>4</td>\n",
              "      <td>2015</td>\n",
              "      <td>31</td>\n",
              "    </tr>\n",
              "    <tr>\n",
              "      <th>2831210</th>\n",
              "      <td>2015-04-03</td>\n",
              "      <td>27</td>\n",
              "      <td>55</td>\n",
              "      <td>3729</td>\n",
              "      <td>1999.000000</td>\n",
              "      <td>7.0</td>\n",
              "      <td>3</td>\n",
              "      <td>4</td>\n",
              "      <td>2015</td>\n",
              "      <td>31</td>\n",
              "    </tr>\n",
              "    <tr>\n",
              "      <th>2831211</th>\n",
              "      <td>2015-04-04</td>\n",
              "      <td>27</td>\n",
              "      <td>55</td>\n",
              "      <td>3729</td>\n",
              "      <td>1999.000000</td>\n",
              "      <td>15.0</td>\n",
              "      <td>4</td>\n",
              "      <td>4</td>\n",
              "      <td>2015</td>\n",
              "      <td>31</td>\n",
              "    </tr>\n",
              "    <tr>\n",
              "      <th>2831212</th>\n",
              "      <td>2015-04-05</td>\n",
              "      <td>27</td>\n",
              "      <td>55</td>\n",
              "      <td>3729</td>\n",
              "      <td>1999.000000</td>\n",
              "      <td>10.0</td>\n",
              "      <td>5</td>\n",
              "      <td>4</td>\n",
              "      <td>2015</td>\n",
              "      <td>31</td>\n",
              "    </tr>\n",
              "    <tr>\n",
              "      <th>2831213</th>\n",
              "      <td>2015-04-06</td>\n",
              "      <td>27</td>\n",
              "      <td>55</td>\n",
              "      <td>3729</td>\n",
              "      <td>1999.000000</td>\n",
              "      <td>7.0</td>\n",
              "      <td>6</td>\n",
              "      <td>4</td>\n",
              "      <td>2015</td>\n",
              "      <td>31</td>\n",
              "    </tr>\n",
              "    <tr>\n",
              "      <th>2831214</th>\n",
              "      <td>2015-04-07</td>\n",
              "      <td>27</td>\n",
              "      <td>55</td>\n",
              "      <td>3729</td>\n",
              "      <td>1999.000000</td>\n",
              "      <td>15.0</td>\n",
              "      <td>7</td>\n",
              "      <td>4</td>\n",
              "      <td>2015</td>\n",
              "      <td>31</td>\n",
              "    </tr>\n",
              "    <tr>\n",
              "      <th>2831215</th>\n",
              "      <td>2015-04-08</td>\n",
              "      <td>27</td>\n",
              "      <td>55</td>\n",
              "      <td>3729</td>\n",
              "      <td>1999.000000</td>\n",
              "      <td>12.0</td>\n",
              "      <td>8</td>\n",
              "      <td>4</td>\n",
              "      <td>2015</td>\n",
              "      <td>31</td>\n",
              "    </tr>\n",
              "    <tr>\n",
              "      <th>2831216</th>\n",
              "      <td>2015-04-09</td>\n",
              "      <td>27</td>\n",
              "      <td>55</td>\n",
              "      <td>3729</td>\n",
              "      <td>1999.000000</td>\n",
              "      <td>12.0</td>\n",
              "      <td>9</td>\n",
              "      <td>4</td>\n",
              "      <td>2015</td>\n",
              "      <td>31</td>\n",
              "    </tr>\n",
              "    <tr>\n",
              "      <th>2831217</th>\n",
              "      <td>2015-04-10</td>\n",
              "      <td>27</td>\n",
              "      <td>55</td>\n",
              "      <td>3729</td>\n",
              "      <td>1999.000000</td>\n",
              "      <td>26.0</td>\n",
              "      <td>10</td>\n",
              "      <td>4</td>\n",
              "      <td>2015</td>\n",
              "      <td>31</td>\n",
              "    </tr>\n",
              "    <tr>\n",
              "      <th>2831218</th>\n",
              "      <td>2015-04-11</td>\n",
              "      <td>27</td>\n",
              "      <td>55</td>\n",
              "      <td>3729</td>\n",
              "      <td>1999.000000</td>\n",
              "      <td>18.0</td>\n",
              "      <td>11</td>\n",
              "      <td>4</td>\n",
              "      <td>2015</td>\n",
              "      <td>31</td>\n",
              "    </tr>\n",
              "    <tr>\n",
              "      <th>2831219</th>\n",
              "      <td>2015-04-12</td>\n",
              "      <td>27</td>\n",
              "      <td>55</td>\n",
              "      <td>3729</td>\n",
              "      <td>1999.000000</td>\n",
              "      <td>26.0</td>\n",
              "      <td>12</td>\n",
              "      <td>4</td>\n",
              "      <td>2015</td>\n",
              "      <td>31</td>\n",
              "    </tr>\n",
              "    <tr>\n",
              "      <th>2831220</th>\n",
              "      <td>2015-04-13</td>\n",
              "      <td>27</td>\n",
              "      <td>55</td>\n",
              "      <td>3729</td>\n",
              "      <td>1999.000000</td>\n",
              "      <td>52.0</td>\n",
              "      <td>13</td>\n",
              "      <td>4</td>\n",
              "      <td>2015</td>\n",
              "      <td>31</td>\n",
              "    </tr>\n",
              "    <tr>\n",
              "      <th>2831221</th>\n",
              "      <td>2015-04-14</td>\n",
              "      <td>27</td>\n",
              "      <td>55</td>\n",
              "      <td>3729</td>\n",
              "      <td>1999.000000</td>\n",
              "      <td>6.0</td>\n",
              "      <td>14</td>\n",
              "      <td>4</td>\n",
              "      <td>2015</td>\n",
              "      <td>31</td>\n",
              "    </tr>\n",
              "    <tr>\n",
              "      <th>2773334</th>\n",
              "      <td>2015-01-28</td>\n",
              "      <td>24</td>\n",
              "      <td>55</td>\n",
              "      <td>3727</td>\n",
              "      <td>1987.741935</td>\n",
              "      <td>31.0</td>\n",
              "      <td>28</td>\n",
              "      <td>1</td>\n",
              "      <td>2015</td>\n",
              "      <td>31</td>\n",
              "    </tr>\n",
              "    <tr>\n",
              "      <th>2773333</th>\n",
              "      <td>2015-01-27</td>\n",
              "      <td>24</td>\n",
              "      <td>55</td>\n",
              "      <td>3727</td>\n",
              "      <td>1999.000000</td>\n",
              "      <td>10.0</td>\n",
              "      <td>27</td>\n",
              "      <td>1</td>\n",
              "      <td>2015</td>\n",
              "      <td>31</td>\n",
              "    </tr>\n",
              "    <tr>\n",
              "      <th>2929287</th>\n",
              "      <td>2015-10-01</td>\n",
              "      <td>33</td>\n",
              "      <td>9</td>\n",
              "      <td>21945</td>\n",
              "      <td>1699.000000</td>\n",
              "      <td>3.0</td>\n",
              "      <td>1</td>\n",
              "      <td>10</td>\n",
              "      <td>2015</td>\n",
              "      <td>61</td>\n",
              "    </tr>\n",
              "    <tr>\n",
              "      <th>2929288</th>\n",
              "      <td>2015-10-01</td>\n",
              "      <td>33</td>\n",
              "      <td>20</td>\n",
              "      <td>21945</td>\n",
              "      <td>1699.000000</td>\n",
              "      <td>3.0</td>\n",
              "      <td>1</td>\n",
              "      <td>10</td>\n",
              "      <td>2015</td>\n",
              "      <td>61</td>\n",
              "    </tr>\n",
              "    <tr>\n",
              "      <th>2929289</th>\n",
              "      <td>2015-10-02</td>\n",
              "      <td>33</td>\n",
              "      <td>20</td>\n",
              "      <td>21945</td>\n",
              "      <td>1699.000000</td>\n",
              "      <td>14.0</td>\n",
              "      <td>2</td>\n",
              "      <td>10</td>\n",
              "      <td>2015</td>\n",
              "      <td>61</td>\n",
              "    </tr>\n",
              "    <tr>\n",
              "      <th>2929290</th>\n",
              "      <td>2015-10-02</td>\n",
              "      <td>33</td>\n",
              "      <td>9</td>\n",
              "      <td>21945</td>\n",
              "      <td>1699.000000</td>\n",
              "      <td>7.0</td>\n",
              "      <td>2</td>\n",
              "      <td>10</td>\n",
              "      <td>2015</td>\n",
              "      <td>61</td>\n",
              "    </tr>\n",
              "    <tr>\n",
              "      <th>2929291</th>\n",
              "      <td>2015-10-03</td>\n",
              "      <td>33</td>\n",
              "      <td>20</td>\n",
              "      <td>21945</td>\n",
              "      <td>1699.000000</td>\n",
              "      <td>3.0</td>\n",
              "      <td>3</td>\n",
              "      <td>10</td>\n",
              "      <td>2015</td>\n",
              "      <td>61</td>\n",
              "    </tr>\n",
              "    <tr>\n",
              "      <th>2930530</th>\n",
              "      <td>2015-10-03</td>\n",
              "      <td>33</td>\n",
              "      <td>9</td>\n",
              "      <td>21190</td>\n",
              "      <td>1899.000000</td>\n",
              "      <td>3.0</td>\n",
              "      <td>3</td>\n",
              "      <td>10</td>\n",
              "      <td>2015</td>\n",
              "      <td>61</td>\n",
              "    </tr>\n",
              "    <tr>\n",
              "      <th>1891278</th>\n",
              "      <td>2013-10-05</td>\n",
              "      <td>9</td>\n",
              "      <td>9</td>\n",
              "      <td>21154</td>\n",
              "      <td>974.083333</td>\n",
              "      <td>3.0</td>\n",
              "      <td>5</td>\n",
              "      <td>10</td>\n",
              "      <td>2013</td>\n",
              "      <td>61</td>\n",
              "    </tr>\n",
              "    <tr>\n",
              "      <th>1882864</th>\n",
              "      <td>2013-10-04</td>\n",
              "      <td>9</td>\n",
              "      <td>9</td>\n",
              "      <td>21186</td>\n",
              "      <td>973.816667</td>\n",
              "      <td>3.0</td>\n",
              "      <td>4</td>\n",
              "      <td>10</td>\n",
              "      <td>2013</td>\n",
              "      <td>61</td>\n",
              "    </tr>\n",
              "    <tr>\n",
              "      <th>1449609</th>\n",
              "      <td>2013-04-18</td>\n",
              "      <td>3</td>\n",
              "      <td>10</td>\n",
              "      <td>20965</td>\n",
              "      <td>176.000000</td>\n",
              "      <td>7.0</td>\n",
              "      <td>18</td>\n",
              "      <td>4</td>\n",
              "      <td>2013</td>\n",
              "      <td>61</td>\n",
              "    </tr>\n",
              "    <tr>\n",
              "      <th>2929496</th>\n",
              "      <td>2015-10-01</td>\n",
              "      <td>33</td>\n",
              "      <td>20</td>\n",
              "      <td>14992</td>\n",
              "      <td>3998.980000</td>\n",
              "      <td>5.0</td>\n",
              "      <td>1</td>\n",
              "      <td>10</td>\n",
              "      <td>2015</td>\n",
              "      <td>61</td>\n",
              "    </tr>\n",
              "    <tr>\n",
              "      <th>1889953</th>\n",
              "      <td>2013-10-05</td>\n",
              "      <td>9</td>\n",
              "      <td>9</td>\n",
              "      <td>21215</td>\n",
              "      <td>973.916667</td>\n",
              "      <td>3.0</td>\n",
              "      <td>5</td>\n",
              "      <td>10</td>\n",
              "      <td>2013</td>\n",
              "      <td>61</td>\n",
              "    </tr>\n",
              "    <tr>\n",
              "      <th>1891231</th>\n",
              "      <td>2013-10-05</td>\n",
              "      <td>9</td>\n",
              "      <td>9</td>\n",
              "      <td>21059</td>\n",
              "      <td>973.840000</td>\n",
              "      <td>5.0</td>\n",
              "      <td>5</td>\n",
              "      <td>10</td>\n",
              "      <td>2013</td>\n",
              "      <td>61</td>\n",
              "    </tr>\n",
              "    <tr>\n",
              "      <th>1891277</th>\n",
              "      <td>2013-10-05</td>\n",
              "      <td>9</td>\n",
              "      <td>9</td>\n",
              "      <td>21153</td>\n",
              "      <td>973.916667</td>\n",
              "      <td>3.0</td>\n",
              "      <td>5</td>\n",
              "      <td>10</td>\n",
              "      <td>2013</td>\n",
              "      <td>61</td>\n",
              "    </tr>\n",
              "    <tr>\n",
              "      <th>1882449</th>\n",
              "      <td>2013-10-05</td>\n",
              "      <td>9</td>\n",
              "      <td>9</td>\n",
              "      <td>21090</td>\n",
              "      <td>974.125000</td>\n",
              "      <td>4.0</td>\n",
              "      <td>5</td>\n",
              "      <td>10</td>\n",
              "      <td>2013</td>\n",
              "      <td>61</td>\n",
              "    </tr>\n",
              "    <tr>\n",
              "      <th>1882448</th>\n",
              "      <td>2013-10-04</td>\n",
              "      <td>9</td>\n",
              "      <td>9</td>\n",
              "      <td>21090</td>\n",
              "      <td>974.083333</td>\n",
              "      <td>3.0</td>\n",
              "      <td>4</td>\n",
              "      <td>10</td>\n",
              "      <td>2013</td>\n",
              "      <td>61</td>\n",
              "    </tr>\n",
              "    <tr>\n",
              "      <th>1891290</th>\n",
              "      <td>2013-10-05</td>\n",
              "      <td>9</td>\n",
              "      <td>9</td>\n",
              "      <td>21202</td>\n",
              "      <td>974.000000</td>\n",
              "      <td>3.0</td>\n",
              "      <td>5</td>\n",
              "      <td>10</td>\n",
              "      <td>2013</td>\n",
              "      <td>61</td>\n",
              "    </tr>\n",
              "    <tr>\n",
              "      <th>1891317</th>\n",
              "      <td>2013-10-05</td>\n",
              "      <td>9</td>\n",
              "      <td>9</td>\n",
              "      <td>21095</td>\n",
              "      <td>974.083333</td>\n",
              "      <td>3.0</td>\n",
              "      <td>5</td>\n",
              "      <td>10</td>\n",
              "      <td>2013</td>\n",
              "      <td>61</td>\n",
              "    </tr>\n",
              "    <tr>\n",
              "      <th>1891330</th>\n",
              "      <td>2013-10-05</td>\n",
              "      <td>9</td>\n",
              "      <td>9</td>\n",
              "      <td>21237</td>\n",
              "      <td>974.166667</td>\n",
              "      <td>3.0</td>\n",
              "      <td>5</td>\n",
              "      <td>10</td>\n",
              "      <td>2013</td>\n",
              "      <td>61</td>\n",
              "    </tr>\n",
              "    <tr>\n",
              "      <th>1892193</th>\n",
              "      <td>2013-10-06</td>\n",
              "      <td>9</td>\n",
              "      <td>9</td>\n",
              "      <td>21303</td>\n",
              "      <td>974.062500</td>\n",
              "      <td>4.0</td>\n",
              "      <td>6</td>\n",
              "      <td>10</td>\n",
              "      <td>2013</td>\n",
              "      <td>61</td>\n",
              "    </tr>\n",
              "    <tr>\n",
              "      <th>1893029</th>\n",
              "      <td>2013-10-06</td>\n",
              "      <td>9</td>\n",
              "      <td>9</td>\n",
              "      <td>21055</td>\n",
              "      <td>974.083333</td>\n",
              "      <td>3.0</td>\n",
              "      <td>6</td>\n",
              "      <td>10</td>\n",
              "      <td>2013</td>\n",
              "      <td>61</td>\n",
              "    </tr>\n",
              "    <tr>\n",
              "      <th>1891284</th>\n",
              "      <td>2013-10-05</td>\n",
              "      <td>9</td>\n",
              "      <td>9</td>\n",
              "      <td>21307</td>\n",
              "      <td>974.166667</td>\n",
              "      <td>3.0</td>\n",
              "      <td>5</td>\n",
              "      <td>10</td>\n",
              "      <td>2013</td>\n",
              "      <td>61</td>\n",
              "    </tr>\n",
              "    <tr>\n",
              "      <th>1223069</th>\n",
              "      <td>2013-02-06</td>\n",
              "      <td>1</td>\n",
              "      <td>16</td>\n",
              "      <td>18062</td>\n",
              "      <td>4999.000000</td>\n",
              "      <td>-1.0</td>\n",
              "      <td>6</td>\n",
              "      <td>2</td>\n",
              "      <td>2013</td>\n",
              "      <td>62</td>\n",
              "    </tr>\n",
              "    <tr>\n",
              "      <th>1148187</th>\n",
              "      <td>2013-01-14</td>\n",
              "      <td>0</td>\n",
              "      <td>16</td>\n",
              "      <td>11871</td>\n",
              "      <td>5999.000000</td>\n",
              "      <td>-1.0</td>\n",
              "      <td>14</td>\n",
              "      <td>1</td>\n",
              "      <td>2013</td>\n",
              "      <td>62</td>\n",
              "    </tr>\n",
              "    <tr>\n",
              "      <th>1161753</th>\n",
              "      <td>2013-01-18</td>\n",
              "      <td>0</td>\n",
              "      <td>2</td>\n",
              "      <td>14616</td>\n",
              "      <td>179.000000</td>\n",
              "      <td>3.0</td>\n",
              "      <td>18</td>\n",
              "      <td>1</td>\n",
              "      <td>2013</td>\n",
              "      <td>65</td>\n",
              "    </tr>\n",
              "    <tr>\n",
              "      <th>1449604</th>\n",
              "      <td>2013-04-18</td>\n",
              "      <td>3</td>\n",
              "      <td>10</td>\n",
              "      <td>17679</td>\n",
              "      <td>129.000000</td>\n",
              "      <td>5.0</td>\n",
              "      <td>18</td>\n",
              "      <td>4</td>\n",
              "      <td>2013</td>\n",
              "      <td>69</td>\n",
              "    </tr>\n",
              "    <tr>\n",
              "      <th>1885498</th>\n",
              "      <td>2013-10-05</td>\n",
              "      <td>9</td>\n",
              "      <td>9</td>\n",
              "      <td>12186</td>\n",
              "      <td>299.000000</td>\n",
              "      <td>4.0</td>\n",
              "      <td>5</td>\n",
              "      <td>10</td>\n",
              "      <td>2013</td>\n",
              "      <td>70</td>\n",
              "    </tr>\n",
              "    <tr>\n",
              "      <th>1885497</th>\n",
              "      <td>2013-10-04</td>\n",
              "      <td>9</td>\n",
              "      <td>9</td>\n",
              "      <td>12186</td>\n",
              "      <td>299.000000</td>\n",
              "      <td>3.0</td>\n",
              "      <td>4</td>\n",
              "      <td>10</td>\n",
              "      <td>2013</td>\n",
              "      <td>70</td>\n",
              "    </tr>\n",
              "    <tr>\n",
              "      <th>1885499</th>\n",
              "      <td>2013-10-06</td>\n",
              "      <td>9</td>\n",
              "      <td>9</td>\n",
              "      <td>12186</td>\n",
              "      <td>299.000000</td>\n",
              "      <td>3.0</td>\n",
              "      <td>6</td>\n",
              "      <td>10</td>\n",
              "      <td>2013</td>\n",
              "      <td>70</td>\n",
              "    </tr>\n",
              "    <tr>\n",
              "      <th>2871005</th>\n",
              "      <td>2015-05-18</td>\n",
              "      <td>28</td>\n",
              "      <td>12</td>\n",
              "      <td>4216</td>\n",
              "      <td>1180.000000</td>\n",
              "      <td>5.0</td>\n",
              "      <td>18</td>\n",
              "      <td>5</td>\n",
              "      <td>2015</td>\n",
              "      <td>75</td>\n",
              "    </tr>\n",
              "    <tr>\n",
              "      <th>2058826</th>\n",
              "      <td>2013-11-28</td>\n",
              "      <td>10</td>\n",
              "      <td>12</td>\n",
              "      <td>7546</td>\n",
              "      <td>2875.760000</td>\n",
              "      <td>4.0</td>\n",
              "      <td>28</td>\n",
              "      <td>11</td>\n",
              "      <td>2013</td>\n",
              "      <td>75</td>\n",
              "    </tr>\n",
              "    <tr>\n",
              "      <th>2454262</th>\n",
              "      <td>2014-07-08</td>\n",
              "      <td>18</td>\n",
              "      <td>12</td>\n",
              "      <td>4158</td>\n",
              "      <td>898.000000</td>\n",
              "      <td>15.0</td>\n",
              "      <td>8</td>\n",
              "      <td>7</td>\n",
              "      <td>2014</td>\n",
              "      <td>75</td>\n",
              "    </tr>\n",
              "    <tr>\n",
              "      <th>1603111</th>\n",
              "      <td>2013-06-13</td>\n",
              "      <td>5</td>\n",
              "      <td>12</td>\n",
              "      <td>4157</td>\n",
              "      <td>1000.000000</td>\n",
              "      <td>10.0</td>\n",
              "      <td>13</td>\n",
              "      <td>6</td>\n",
              "      <td>2013</td>\n",
              "      <td>75</td>\n",
              "    </tr>\n",
              "    <tr>\n",
              "      <th>2471839</th>\n",
              "      <td>2014-07-24</td>\n",
              "      <td>18</td>\n",
              "      <td>12</td>\n",
              "      <td>4155</td>\n",
              "      <td>948.600000</td>\n",
              "      <td>10.0</td>\n",
              "      <td>24</td>\n",
              "      <td>7</td>\n",
              "      <td>2014</td>\n",
              "      <td>75</td>\n",
              "    </tr>\n",
              "    <tr>\n",
              "      <th>2909740</th>\n",
              "      <td>2015-08-10</td>\n",
              "      <td>31</td>\n",
              "      <td>55</td>\n",
              "      <td>1160</td>\n",
              "      <td>1600.000000</td>\n",
              "      <td>4.0</td>\n",
              "      <td>10</td>\n",
              "      <td>8</td>\n",
              "      <td>2015</td>\n",
              "      <td>76</td>\n",
              "    </tr>\n",
              "    <tr>\n",
              "      <th>1285298</th>\n",
              "      <td>2013-02-23</td>\n",
              "      <td>1</td>\n",
              "      <td>10</td>\n",
              "      <td>22089</td>\n",
              "      <td>99.000000</td>\n",
              "      <td>3.0</td>\n",
              "      <td>23</td>\n",
              "      <td>2</td>\n",
              "      <td>2013</td>\n",
              "      <td>83</td>\n",
              "    </tr>\n",
              "  </tbody>\n",
              "</table>\n",
              "</div>"
            ],
            "text/plain": [
              "              date  date_block_num  shop_id  ...  month  year  item_category_id\n",
              "1201930 2013-01-30               0       12  ...      1  2013                 9\n",
              "1748909 2013-08-23               7       42  ...      8  2013                11\n",
              "2258903 2014-03-07              14       51  ...      3  2014                30\n",
              "2766786 2015-01-11              24       55  ...      1  2015                31\n",
              "2773335 2015-01-29              24       55  ...      1  2015                31\n",
              "2773336 2015-01-30              24       55  ...      1  2015                31\n",
              "2773337 2015-01-31              24       55  ...      1  2015                31\n",
              "2773338 2015-02-01              25       55  ...      2  2015                31\n",
              "2831208 2015-04-01              27       55  ...      4  2015                31\n",
              "2831209 2015-04-02              27       55  ...      4  2015                31\n",
              "2831210 2015-04-03              27       55  ...      4  2015                31\n",
              "2831211 2015-04-04              27       55  ...      4  2015                31\n",
              "2831212 2015-04-05              27       55  ...      4  2015                31\n",
              "2831213 2015-04-06              27       55  ...      4  2015                31\n",
              "2831214 2015-04-07              27       55  ...      4  2015                31\n",
              "2831215 2015-04-08              27       55  ...      4  2015                31\n",
              "2831216 2015-04-09              27       55  ...      4  2015                31\n",
              "2831217 2015-04-10              27       55  ...      4  2015                31\n",
              "2831218 2015-04-11              27       55  ...      4  2015                31\n",
              "2831219 2015-04-12              27       55  ...      4  2015                31\n",
              "2831220 2015-04-13              27       55  ...      4  2015                31\n",
              "2831221 2015-04-14              27       55  ...      4  2015                31\n",
              "2773334 2015-01-28              24       55  ...      1  2015                31\n",
              "2773333 2015-01-27              24       55  ...      1  2015                31\n",
              "2929287 2015-10-01              33        9  ...     10  2015                61\n",
              "2929288 2015-10-01              33       20  ...     10  2015                61\n",
              "2929289 2015-10-02              33       20  ...     10  2015                61\n",
              "2929290 2015-10-02              33        9  ...     10  2015                61\n",
              "2929291 2015-10-03              33       20  ...     10  2015                61\n",
              "2930530 2015-10-03              33        9  ...     10  2015                61\n",
              "1891278 2013-10-05               9        9  ...     10  2013                61\n",
              "1882864 2013-10-04               9        9  ...     10  2013                61\n",
              "1449609 2013-04-18               3       10  ...      4  2013                61\n",
              "2929496 2015-10-01              33       20  ...     10  2015                61\n",
              "1889953 2013-10-05               9        9  ...     10  2013                61\n",
              "1891231 2013-10-05               9        9  ...     10  2013                61\n",
              "1891277 2013-10-05               9        9  ...     10  2013                61\n",
              "1882449 2013-10-05               9        9  ...     10  2013                61\n",
              "1882448 2013-10-04               9        9  ...     10  2013                61\n",
              "1891290 2013-10-05               9        9  ...     10  2013                61\n",
              "1891317 2013-10-05               9        9  ...     10  2013                61\n",
              "1891330 2013-10-05               9        9  ...     10  2013                61\n",
              "1892193 2013-10-06               9        9  ...     10  2013                61\n",
              "1893029 2013-10-06               9        9  ...     10  2013                61\n",
              "1891284 2013-10-05               9        9  ...     10  2013                61\n",
              "1223069 2013-02-06               1       16  ...      2  2013                62\n",
              "1148187 2013-01-14               0       16  ...      1  2013                62\n",
              "1161753 2013-01-18               0        2  ...      1  2013                65\n",
              "1449604 2013-04-18               3       10  ...      4  2013                69\n",
              "1885498 2013-10-05               9        9  ...     10  2013                70\n",
              "1885497 2013-10-04               9        9  ...     10  2013                70\n",
              "1885499 2013-10-06               9        9  ...     10  2013                70\n",
              "2871005 2015-05-18              28       12  ...      5  2015                75\n",
              "2058826 2013-11-28              10       12  ...     11  2013                75\n",
              "2454262 2014-07-08              18       12  ...      7  2014                75\n",
              "1603111 2013-06-13               5       12  ...      6  2013                75\n",
              "2471839 2014-07-24              18       12  ...      7  2014                75\n",
              "2909740 2015-08-10              31       55  ...      8  2015                76\n",
              "1285298 2013-02-23               1       10  ...      2  2013                83\n",
              "\n",
              "[59 rows x 10 columns]"
            ]
          },
          "metadata": {
            "tags": []
          },
          "execution_count": 39
        }
      ]
    },
    {
      "cell_type": "code",
      "metadata": {
        "colab": {
          "base_uri": "https://localhost:8080/"
        },
        "id": "BW3gTmlLzNmK",
        "outputId": "bedc63e9-ee50-4adb-dee7-ea0d42029758"
      },
      "source": [
        "df_train.groupby(['date_block_num'])['item_cnt_day'].sum()"
      ],
      "execution_count": null,
      "outputs": [
        {
          "output_type": "execute_result",
          "data": {
            "text/plain": [
              "date_block_num\n",
              "0     131479.0\n",
              "1     128090.0\n",
              "2     147142.0\n",
              "3     107190.0\n",
              "4     106970.0\n",
              "5     125381.0\n",
              "6     116966.0\n",
              "7     125291.0\n",
              "8     133332.0\n",
              "9     127541.0\n",
              "10    130009.0\n",
              "11    183342.0\n",
              "12    116899.0\n",
              "13    109687.0\n",
              "14    115297.0\n",
              "15     96556.0\n",
              "16     97790.0\n",
              "17     97429.0\n",
              "18     91280.0\n",
              "19    102721.0\n",
              "20     99208.0\n",
              "21    107422.0\n",
              "22    117845.0\n",
              "23    168755.0\n",
              "24    110971.0\n",
              "25     84198.0\n",
              "26     82014.0\n",
              "27     77827.0\n",
              "28     72295.0\n",
              "29     64114.0\n",
              "30     63187.0\n",
              "31     66079.0\n",
              "32     72843.0\n",
              "33     71056.0\n",
              "Name: item_cnt_day, dtype: float64"
            ]
          },
          "metadata": {
            "tags": []
          },
          "execution_count": 82
        }
      ]
    },
    {
      "cell_type": "code",
      "metadata": {
        "colab": {
          "base_uri": "https://localhost:8080/",
          "height": 678
        },
        "id": "TRbvZrZUuQs0",
        "outputId": "28bf1fa0-e283-4302-a7d2-5db288a7d23b"
      },
      "source": [
        "sns.lineplot(df_train['date_block_num'],y=df_train['item_cnt_day'])\n"
      ],
      "execution_count": null,
      "outputs": [
        {
          "output_type": "stream",
          "text": [
            "/usr/local/lib/python3.7/dist-packages/seaborn/_decorators.py:43: FutureWarning: Pass the following variable as a keyword arg: x. From version 0.12, the only valid positional argument will be `data`, and passing other arguments without an explicit keyword will result in an error or misinterpretation.\n",
            "  FutureWarning\n"
          ],
          "name": "stderr"
        },
        {
          "output_type": "execute_result",
          "data": {
            "text/plain": [
              "<matplotlib.axes._subplots.AxesSubplot at 0x7f71c46bda10>"
            ]
          },
          "metadata": {
            "tags": []
          },
          "execution_count": 79
        },
        {
          "output_type": "display_data",
          "data": {
            "image/png": "[encoded data removed]",
            "text/plain": [
              "<Figure size 2160x720 with 1 Axes>"
            ]
          },
          "metadata": {
            "tags": []
          }
        }
      ]
    },
    {
      "cell_type": "code",
      "metadata": {
        "colab": {
          "base_uri": "https://localhost:8080/",
          "height": 439
        },
        "id": "RQnU0wRkvfTs",
        "outputId": "08dec7f2-8ef8-420e-a0b3-442bc10b8167"
      },
      "source": [
        "sns.lineplot(df_train['month'],df_train['item_cnt_day'],label='month')"
      ],
      "execution_count": null,
      "outputs": [
        {
          "output_type": "stream",
          "text": [
            "/usr/local/lib/python3.7/dist-packages/seaborn/_decorators.py:43: FutureWarning: Pass the following variables as keyword args: x, y. From version 0.12, the only valid positional argument will be `data`, and passing other arguments without an explicit keyword will result in an error or misinterpretation.\n",
            "  FutureWarning\n"
          ],
          "name": "stderr"
        },
        {
          "output_type": "execute_result",
          "data": {
            "text/plain": [
              "<matplotlib.axes._subplots.AxesSubplot at 0x7f71cd194f50>"
            ]
          },
          "metadata": {
            "tags": []
          },
          "execution_count": 60
        },
        {
          "output_type": "display_data",
          "data": {
            "image/png": "[encoded data removed]",
            "text/plain": [
              "<Figure size 2160x720 with 1 Axes>"
            ]
          },
          "metadata": {
            "tags": []
          }
        }
      ]
    },
    {
      "cell_type": "code",
      "metadata": {
        "colab": {
          "base_uri": "https://localhost:8080/",
          "height": 438
        },
        "id": "O-r2NByFvgN2",
        "outputId": "662d9908-38ed-4295-eda2-2c521edc7cec"
      },
      "source": [
        "sns.lineplot(df_train['year'],df_train['item_cnt_day'],label='year')\n"
      ],
      "execution_count": null,
      "outputs": [
        {
          "output_type": "stream",
          "text": [
            "/usr/local/lib/python3.7/dist-packages/seaborn/_decorators.py:43: FutureWarning: Pass the following variables as keyword args: x, y. From version 0.12, the only valid positional argument will be `data`, and passing other arguments without an explicit keyword will result in an error or misinterpretation.\n",
            "  FutureWarning\n"
          ],
          "name": "stderr"
        },
        {
          "output_type": "execute_result",
          "data": {
            "text/plain": [
              "<matplotlib.axes._subplots.AxesSubplot at 0x7f71cd109410>"
            ]
          },
          "metadata": {
            "tags": []
          },
          "execution_count": 61
        },
        {
          "output_type": "display_data",
          "data": {
            "image/png": "[encoded data removed]",
            "text/plain": [
              "<Figure size 2160x720 with 1 Axes>"
            ]
          },
          "metadata": {
            "tags": []
          }
        }
      ]
    },
    {
      "cell_type": "code",
      "metadata": {
        "id": "HQeSAHE3nwMt"
      },
      "source": [
        "df_train=df_train.groupby(['year','month','shop_id','item_id','item_category_id']).agg({'item_price': 'mean', \n",
        "                                                                   'item_cnt_day': 'sum'\n",
        "                                                                  }).reset_index()"
      ],
      "execution_count": null,
      "outputs": []
    },
    {
      "cell_type": "code",
      "metadata": {
        "id": "jNlZ1pKA2R5J"
      },
      "source": [
        "temp=df_train.groupby(['item_category_id']).agg({'item_price': 'mean','item_cnt_day': 'sum'\n",
        "                                                                  }).reset_index()\n",
        "\n",
        "                                                          "
      ],
      "execution_count": null,
      "outputs": []
    },
    {
      "cell_type": "code",
      "metadata": {
        "id": "49hBRoPP2rPn"
      },
      "source": [
        "df_test=pd.merge(df_test,temp[['item_category_id','item_price']],on='item_category_id')"
      ],
      "execution_count": null,
      "outputs": []
    },
    {
      "cell_type": "markdown",
      "metadata": {
        "id": "oKHUW4oypH5D"
      },
      "source": [
        "Merging the dataframe"
      ]
    },
    {
      "cell_type": "code",
      "metadata": {
        "id": "1xJw2ggtr0SJ"
      },
      "source": [
        "merged=pd.concat([df_train,df_test])"
      ],
      "execution_count": null,
      "outputs": []
    },
    {
      "cell_type": "markdown",
      "metadata": {
        "id": "nCeVdf6WRsQG"
      },
      "source": [
        "## Hot - Label Encoding"
      ]
    },
    {
      "cell_type": "code",
      "metadata": {
        "id": "GwiF_szPRsQI"
      },
      "source": [
        "final_df=pd.get_dummies(merged,columns=['item_category_id','shop_id','month'],drop_first=True)\n"
      ],
      "execution_count": null,
      "outputs": []
    },
    {
      "cell_type": "code",
      "metadata": {
        "id": "omVCO7cB-d7i"
      },
      "source": [
        "#final_df.drop(['item_id','item_price'],axis=1,inplace=True)"
      ],
      "execution_count": null,
      "outputs": []
    },
    {
      "cell_type": "markdown",
      "metadata": {
        "id": "ePTE9Sc8RsQI"
      },
      "source": [
        "## Splitting Sequentially"
      ]
    },
    {
      "cell_type": "code",
      "metadata": {
        "id": "SeNpgaUhp4qj"
      },
      "source": [
        "df_train_final=final_df.iloc[:1609124,:]\n",
        "df_test_final=final_df.iloc[1609124:,:]"
      ],
      "execution_count": null,
      "outputs": []
    },
    {
      "cell_type": "code",
      "metadata": {
        "colab": {
          "base_uri": "https://localhost:8080/"
        },
        "id": "pCyixgt18BHE",
        "outputId": "e83dc065-3cc7-49f6-f4d6-2473f2a3ffe8"
      },
      "source": [
        "df_train_final.drop(['ID'],axis=1,inplace=True)"
      ],
      "execution_count": null,
      "outputs": [
        {
          "output_type": "stream",
          "text": [
            "/usr/local/lib/python3.7/dist-packages/pandas/core/frame.py:4174: SettingWithCopyWarning: \n",
            "A value is trying to be set on a copy of a slice from a DataFrame\n",
            "\n",
            "See the caveats in the documentation: https://pandas.pydata.org/pandas-docs/stable/user_guide/indexing.html#returning-a-view-versus-a-copy\n",
            "  errors=errors,\n"
          ],
          "name": "stderr"
        }
      ]
    },
    {
      "cell_type": "code",
      "metadata": {
        "colab": {
          "base_uri": "https://localhost:8080/",
          "height": 430
        },
        "id": "Y06S1sAx8xMX",
        "outputId": "adc2f89f-6ec4-419d-8045-7c8120515a8c"
      },
      "source": [
        "import pandas as pd\n",
        "from sklearn import preprocessing\n",
        "\n",
        "x = df_train_final[['item_id','item_price','item_cnt_day']]\n",
        "min_max_scaler = preprocessing.MinMaxScaler()\n",
        "df_train_final[['item_id','item_price','item_cnt_day']] = min_max_scaler.fit_transform(x)\n",
        "df = pd.DataFrame(x_scaled)"
      ],
      "execution_count": null,
      "outputs": [
        {
          "output_type": "stream",
          "text": [
            "/usr/local/lib/python3.7/dist-packages/ipykernel_launcher.py:6: SettingWithCopyWarning: \n",
            "A value is trying to be set on a copy of a slice from a DataFrame.\n",
            "Try using .loc[row_indexer,col_indexer] = value instead\n",
            "\n",
            "See the caveats in the documentation: https://pandas.pydata.org/pandas-docs/stable/user_guide/indexing.html#returning-a-view-versus-a-copy\n",
            "  \n",
            "/usr/local/lib/python3.7/dist-packages/pandas/core/indexing.py:1734: SettingWithCopyWarning: \n",
            "A value is trying to be set on a copy of a slice from a DataFrame.\n",
            "Try using .loc[row_indexer,col_indexer] = value instead\n",
            "\n",
            "See the caveats in the documentation: https://pandas.pydata.org/pandas-docs/stable/user_guide/indexing.html#returning-a-view-versus-a-copy\n",
            "  isetter(loc, value[:, i].tolist())\n"
          ],
          "name": "stderr"
        },
        {
          "output_type": "error",
          "ename": "NameError",
          "evalue": "ignored",
          "traceback": [
            "\u001b[0;31m---------------------------------------------------------------------------\u001b[0m",
            "\u001b[0;31mNameError\u001b[0m                                 Traceback (most recent call last)",
            "\u001b[0;32m<ipython-input-16-476b061991a7>\u001b[0m in \u001b[0;36m<module>\u001b[0;34m()\u001b[0m\n\u001b[1;32m      5\u001b[0m \u001b[0mmin_max_scaler\u001b[0m \u001b[0;34m=\u001b[0m \u001b[0mpreprocessing\u001b[0m\u001b[0;34m.\u001b[0m\u001b[0mMinMaxScaler\u001b[0m\u001b[0;34m(\u001b[0m\u001b[0;34m)\u001b[0m\u001b[0;34m\u001b[0m\u001b[0;34m\u001b[0m\u001b[0m\n\u001b[1;32m      6\u001b[0m \u001b[0mdf_train_final\u001b[0m\u001b[0;34m[\u001b[0m\u001b[0;34m[\u001b[0m\u001b[0;34m'item_id'\u001b[0m\u001b[0;34m,\u001b[0m\u001b[0;34m'item_price'\u001b[0m\u001b[0;34m,\u001b[0m\u001b[0;34m'item_cnt_day'\u001b[0m\u001b[0;34m]\u001b[0m\u001b[0;34m]\u001b[0m \u001b[0;34m=\u001b[0m \u001b[0mmin_max_scaler\u001b[0m\u001b[0;34m.\u001b[0m\u001b[0mfit_transform\u001b[0m\u001b[0;34m(\u001b[0m\u001b[0mx\u001b[0m\u001b[0;34m)\u001b[0m\u001b[0;34m\u001b[0m\u001b[0;34m\u001b[0m\u001b[0m\n\u001b[0;32m----> 7\u001b[0;31m \u001b[0mdf\u001b[0m \u001b[0;34m=\u001b[0m \u001b[0mpd\u001b[0m\u001b[0;34m.\u001b[0m\u001b[0mDataFrame\u001b[0m\u001b[0;34m(\u001b[0m\u001b[0mx_scaled\u001b[0m\u001b[0;34m)\u001b[0m\u001b[0;34m\u001b[0m\u001b[0;34m\u001b[0m\u001b[0m\n\u001b[0m",
            "\u001b[0;31mNameError\u001b[0m: name 'x_scaled' is not defined"
          ]
        }
      ]
    },
    {
      "cell_type": "code",
      "metadata": {
        "id": "JP2CrJjlRsQJ"
      },
      "source": [
        "X_train=df_train_final.iloc[:1259576,:].drop(['item_cnt_day'],axis=1)\n",
        "Y_train=df_train_final.iloc[:1259576,:]['item_cnt_day']\n",
        "X_test= df_train_final.iloc[1259576:,:].drop(['item_cnt_day'],axis=1)\n",
        "Y_test= df_train_final.iloc[1259576:,:]['item_cnt_day']"
      ],
      "execution_count": null,
      "outputs": []
    },
    {
      "cell_type": "markdown",
      "metadata": {
        "id": "n__aJSWPRsQJ"
      },
      "source": [
        "## Model Training"
      ]
    },
    {
      "cell_type": "code",
      "metadata": {
        "id": "THjBcBalhY34"
      },
      "source": [
        "\n",
        "\n",
        "#X_training, X_testing, Y_training,Y_testing = train_test_split(X_train,Y_train ,test_size=0.3, random_state=42,shuffle=True)\n"
      ],
      "execution_count": null,
      "outputs": []
    },
    {
      "cell_type": "code",
      "metadata": {
        "colab": {
          "base_uri": "https://localhost:8080/"
        },
        "id": "QULle7WLRsQK",
        "outputId": "98532b1e-511d-4f08-85fd-f689a0e17561"
      },
      "source": [
        "param = {\"objective\":\"reg:squarederror\"} \n",
        "dtrain = xgb.DMatrix(X_train, Y_train, missing=-99)\n",
        "dvalid = xgb.DMatrix(X_test, Y_test, missing=-99)\n",
        "\n",
        "watchlist = [(dtrain, 'train'), (dvalid, 'eval')]\n",
        "xgb_r = xgb.train(params = param, dtrain = dtrain, evals=watchlist, num_boost_round = 100,early_stopping_rounds=3, verbose_eval=True) \n",
        "#pred = np.round(xgb_r.predict(test_dmatrix) )"
      ],
      "execution_count": null,
      "outputs": [
        {
          "output_type": "stream",
          "text": [
            "[0]\ttrain-rmse:0.342213\teval-rmse:0.342654\n",
            "Multiple eval metrics have been passed: 'eval-rmse' will be used for early stopping.\n",
            "\n",
            "Will train until eval-rmse hasn't improved in 3 rounds.\n",
            "[1]\ttrain-rmse:0.240248\teval-rmse:0.239809\n",
            "[2]\ttrain-rmse:0.167959\teval-rmse:0.167938\n",
            "[3]\ttrain-rmse:0.117396\teval-rmse:0.117646\n",
            "[4]\ttrain-rmse:0.082278\teval-rmse:0.082461\n",
            "[5]\ttrain-rmse:0.057604\teval-rmse:0.057841\n",
            "[6]\ttrain-rmse:0.040333\teval-rmse:0.040643\n",
            "[7]\ttrain-rmse:0.028314\teval-rmse:0.028633\n",
            "[8]\ttrain-rmse:0.019859\teval-rmse:0.020287\n",
            "[9]\ttrain-rmse:0.013994\teval-rmse:0.014533\n",
            "[10]\ttrain-rmse:0.009925\teval-rmse:0.010604\n",
            "[11]\ttrain-rmse:0.007109\teval-rmse:0.00798\n",
            "[12]\ttrain-rmse:0.005204\teval-rmse:0.006305\n",
            "[13]\ttrain-rmse:0.003935\teval-rmse:0.005275\n",
            "[14]\ttrain-rmse:0.003129\teval-rmse:0.004678\n",
            "[15]\ttrain-rmse:0.00265\teval-rmse:0.004345\n",
            "[16]\ttrain-rmse:0.002374\teval-rmse:0.00417\n",
            "[17]\ttrain-rmse:0.002216\teval-rmse:0.004076\n",
            "[18]\ttrain-rmse:0.002135\teval-rmse:0.00402\n",
            "[19]\ttrain-rmse:0.002092\teval-rmse:0.003993\n",
            "[20]\ttrain-rmse:0.002069\teval-rmse:0.00398\n",
            "[21]\ttrain-rmse:0.002032\teval-rmse:0.003974\n",
            "[22]\ttrain-rmse:0.002024\teval-rmse:0.003968\n",
            "[23]\ttrain-rmse:0.00201\teval-rmse:0.003963\n",
            "[24]\ttrain-rmse:0.001995\teval-rmse:0.003957\n",
            "[25]\ttrain-rmse:0.001979\teval-rmse:0.003953\n",
            "[26]\ttrain-rmse:0.001971\teval-rmse:0.003951\n",
            "[27]\ttrain-rmse:0.00196\teval-rmse:0.003949\n",
            "[28]\ttrain-rmse:0.001956\teval-rmse:0.003947\n",
            "[29]\ttrain-rmse:0.001952\teval-rmse:0.003948\n",
            "[30]\ttrain-rmse:0.001944\teval-rmse:0.003946\n",
            "[31]\ttrain-rmse:0.001924\teval-rmse:0.003954\n",
            "[32]\ttrain-rmse:0.001921\teval-rmse:0.003954\n",
            "[33]\ttrain-rmse:0.001914\teval-rmse:0.003952\n",
            "Stopping. Best iteration:\n",
            "[30]\ttrain-rmse:0.001944\teval-rmse:0.003946\n",
            "\n"
          ],
          "name": "stdout"
        }
      ]
    },
    {
      "cell_type": "code",
      "metadata": {
        "colab": {
          "base_uri": "https://localhost:8080/",
          "height": 486
        },
        "id": "CfMPNQwdRsQM",
        "outputId": "dfc03f66-60f2-4f20-fbd5-e1480d9621fb"
      },
      "source": [
        "param = {\"objective\":\"reg:squarederror\"} \n",
        "#df_train_final.sample(frac=1)\n",
        "X_train=df_train_final.drop(['item_cnt_day'],axis=1)\n",
        "Y_train=df_train_final['item_cnt_day']\n",
        "\n",
        "train_dmatrix = xg.DMatrix(data = X_train, label = Y_train) \n",
        "watchlist = [(train_dmatrix, 'train')]\n",
        "xgb_r = xg.train(params = param, dtrain = train_dmatrix, evals=watchlist, early_stopping_rounds=5, num_boost_round = 100) "
      ],
      "execution_count": null,
      "outputs": [
        {
          "output_type": "stream",
          "text": [
            "[0]\ttrain-rmse:7.67541\n",
            "Will train until train-rmse hasn't improved in 5 rounds.\n",
            "[1]\ttrain-rmse:7.01193\n",
            "[2]\ttrain-rmse:6.63397\n",
            "[3]\ttrain-rmse:6.38014\n",
            "[4]\ttrain-rmse:6.18978\n",
            "[5]\ttrain-rmse:6.04732\n"
          ],
          "name": "stdout"
        },
        {
          "output_type": "error",
          "ename": "KeyboardInterrupt",
          "evalue": "ignored",
          "traceback": [
            "\u001b[0;31m---------------------------------------------------------------------------\u001b[0m",
            "\u001b[0;31mKeyboardInterrupt\u001b[0m                         Traceback (most recent call last)",
            "\u001b[0;32m<ipython-input-141-7223796e9f0f>\u001b[0m in \u001b[0;36m<module>\u001b[0;34m()\u001b[0m\n\u001b[1;32m      6\u001b[0m \u001b[0mtrain_dmatrix\u001b[0m \u001b[0;34m=\u001b[0m \u001b[0mxg\u001b[0m\u001b[0;34m.\u001b[0m\u001b[0mDMatrix\u001b[0m\u001b[0;34m(\u001b[0m\u001b[0mdata\u001b[0m \u001b[0;34m=\u001b[0m \u001b[0mX_train\u001b[0m\u001b[0;34m,\u001b[0m \u001b[0mlabel\u001b[0m \u001b[0;34m=\u001b[0m \u001b[0mY_train\u001b[0m\u001b[0;34m)\u001b[0m\u001b[0;34m\u001b[0m\u001b[0;34m\u001b[0m\u001b[0m\n\u001b[1;32m      7\u001b[0m \u001b[0mwatchlist\u001b[0m \u001b[0;34m=\u001b[0m \u001b[0;34m[\u001b[0m\u001b[0;34m(\u001b[0m\u001b[0mtrain_dmatrix\u001b[0m\u001b[0;34m,\u001b[0m \u001b[0;34m'train'\u001b[0m\u001b[0;34m)\u001b[0m\u001b[0;34m]\u001b[0m\u001b[0;34m\u001b[0m\u001b[0;34m\u001b[0m\u001b[0m\n\u001b[0;32m----> 8\u001b[0;31m \u001b[0mxgb_r\u001b[0m \u001b[0;34m=\u001b[0m \u001b[0mxg\u001b[0m\u001b[0;34m.\u001b[0m\u001b[0mtrain\u001b[0m\u001b[0;34m(\u001b[0m\u001b[0mparams\u001b[0m \u001b[0;34m=\u001b[0m \u001b[0mparam\u001b[0m\u001b[0;34m,\u001b[0m \u001b[0mdtrain\u001b[0m \u001b[0;34m=\u001b[0m \u001b[0mtrain_dmatrix\u001b[0m\u001b[0;34m,\u001b[0m \u001b[0mevals\u001b[0m\u001b[0;34m=\u001b[0m\u001b[0mwatchlist\u001b[0m\u001b[0;34m,\u001b[0m \u001b[0mearly_stopping_rounds\u001b[0m\u001b[0;34m=\u001b[0m\u001b[0;36m5\u001b[0m\u001b[0;34m,\u001b[0m \u001b[0mnum_boost_round\u001b[0m \u001b[0;34m=\u001b[0m \u001b[0;36m100\u001b[0m\u001b[0;34m)\u001b[0m\u001b[0;34m\u001b[0m\u001b[0;34m\u001b[0m\u001b[0m\n\u001b[0m",
            "\u001b[0;32m/usr/local/lib/python3.7/dist-packages/xgboost/training.py\u001b[0m in \u001b[0;36mtrain\u001b[0;34m(params, dtrain, num_boost_round, evals, obj, feval, maximize, early_stopping_rounds, evals_result, verbose_eval, xgb_model, callbacks, learning_rates)\u001b[0m\n\u001b[1;32m    214\u001b[0m                            \u001b[0mevals\u001b[0m\u001b[0;34m=\u001b[0m\u001b[0mevals\u001b[0m\u001b[0;34m,\u001b[0m\u001b[0;34m\u001b[0m\u001b[0;34m\u001b[0m\u001b[0m\n\u001b[1;32m    215\u001b[0m                            \u001b[0mobj\u001b[0m\u001b[0;34m=\u001b[0m\u001b[0mobj\u001b[0m\u001b[0;34m,\u001b[0m \u001b[0mfeval\u001b[0m\u001b[0;34m=\u001b[0m\u001b[0mfeval\u001b[0m\u001b[0;34m,\u001b[0m\u001b[0;34m\u001b[0m\u001b[0;34m\u001b[0m\u001b[0m\n\u001b[0;32m--> 216\u001b[0;31m                            xgb_model=xgb_model, callbacks=callbacks)\n\u001b[0m\u001b[1;32m    217\u001b[0m \u001b[0;34m\u001b[0m\u001b[0m\n\u001b[1;32m    218\u001b[0m \u001b[0;34m\u001b[0m\u001b[0m\n",
            "\u001b[0;32m/usr/local/lib/python3.7/dist-packages/xgboost/training.py\u001b[0m in \u001b[0;36m_train_internal\u001b[0;34m(params, dtrain, num_boost_round, evals, obj, feval, xgb_model, callbacks)\u001b[0m\n\u001b[1;32m     72\u001b[0m         \u001b[0;31m# Skip the first update if it is a recovery step.\u001b[0m\u001b[0;34m\u001b[0m\u001b[0;34m\u001b[0m\u001b[0;34m\u001b[0m\u001b[0m\n\u001b[1;32m     73\u001b[0m         \u001b[0;32mif\u001b[0m \u001b[0mversion\u001b[0m \u001b[0;34m%\u001b[0m \u001b[0;36m2\u001b[0m \u001b[0;34m==\u001b[0m \u001b[0;36m0\u001b[0m\u001b[0;34m:\u001b[0m\u001b[0;34m\u001b[0m\u001b[0;34m\u001b[0m\u001b[0m\n\u001b[0;32m---> 74\u001b[0;31m             \u001b[0mbst\u001b[0m\u001b[0;34m.\u001b[0m\u001b[0mupdate\u001b[0m\u001b[0;34m(\u001b[0m\u001b[0mdtrain\u001b[0m\u001b[0;34m,\u001b[0m \u001b[0mi\u001b[0m\u001b[0;34m,\u001b[0m \u001b[0mobj\u001b[0m\u001b[0;34m)\u001b[0m\u001b[0;34m\u001b[0m\u001b[0;34m\u001b[0m\u001b[0m\n\u001b[0m\u001b[1;32m     75\u001b[0m             \u001b[0mbst\u001b[0m\u001b[0;34m.\u001b[0m\u001b[0msave_rabit_checkpoint\u001b[0m\u001b[0;34m(\u001b[0m\u001b[0;34m)\u001b[0m\u001b[0;34m\u001b[0m\u001b[0;34m\u001b[0m\u001b[0m\n\u001b[1;32m     76\u001b[0m             \u001b[0mversion\u001b[0m \u001b[0;34m+=\u001b[0m \u001b[0;36m1\u001b[0m\u001b[0;34m\u001b[0m\u001b[0;34m\u001b[0m\u001b[0m\n",
            "\u001b[0;32m/usr/local/lib/python3.7/dist-packages/xgboost/core.py\u001b[0m in \u001b[0;36mupdate\u001b[0;34m(self, dtrain, iteration, fobj)\u001b[0m\n\u001b[1;32m   1107\u001b[0m         \u001b[0;32mif\u001b[0m \u001b[0mfobj\u001b[0m \u001b[0;32mis\u001b[0m \u001b[0;32mNone\u001b[0m\u001b[0;34m:\u001b[0m\u001b[0;34m\u001b[0m\u001b[0;34m\u001b[0m\u001b[0m\n\u001b[1;32m   1108\u001b[0m             _check_call(_LIB.XGBoosterUpdateOneIter(self.handle, ctypes.c_int(iteration),\n\u001b[0;32m-> 1109\u001b[0;31m                                                     dtrain.handle))\n\u001b[0m\u001b[1;32m   1110\u001b[0m         \u001b[0;32melse\u001b[0m\u001b[0;34m:\u001b[0m\u001b[0;34m\u001b[0m\u001b[0;34m\u001b[0m\u001b[0m\n\u001b[1;32m   1111\u001b[0m             \u001b[0mpred\u001b[0m \u001b[0;34m=\u001b[0m \u001b[0mself\u001b[0m\u001b[0;34m.\u001b[0m\u001b[0mpredict\u001b[0m\u001b[0;34m(\u001b[0m\u001b[0mdtrain\u001b[0m\u001b[0;34m)\u001b[0m\u001b[0;34m\u001b[0m\u001b[0;34m\u001b[0m\u001b[0m\n",
            "\u001b[0;31mKeyboardInterrupt\u001b[0m: "
          ]
        }
      ]
    },
    {
      "cell_type": "code",
      "metadata": {
        "colab": {
          "base_uri": "https://localhost:8080/",
          "height": 161
        },
        "id": "uAqza-iEnOk9",
        "outputId": "f4f10f46-22e1-4a20-95ad-9a511b65f652"
      },
      "source": [
        "df_test_final.head(2)"
      ],
      "execution_count": null,
      "outputs": [
        {
          "output_type": "execute_result",
          "data": {
            "text/html": [
              "<div>\n",
              "<style scoped>\n",
              "    .dataframe tbody tr th:only-of-type {\n",
              "        vertical-align: middle;\n",
              "    }\n",
              "\n",
              "    .dataframe tbody tr th {\n",
              "        vertical-align: top;\n",
              "    }\n",
              "\n",
              "    .dataframe thead th {\n",
              "        text-align: right;\n",
              "    }\n",
              "</style>\n",
              "<table border=\"1\" class=\"dataframe\">\n",
              "  <thead>\n",
              "    <tr style=\"text-align: right;\">\n",
              "      <th></th>\n",
              "      <th>shop_id</th>\n",
              "      <th>item_cnt_day</th>\n",
              "      <th>ID</th>\n",
              "      <th>item_category_id_0</th>\n",
              "      <th>item_category_id_1</th>\n",
              "      <th>item_category_id_2</th>\n",
              "      <th>item_category_id_3</th>\n",
              "      <th>item_category_id_4</th>\n",
              "      <th>item_category_id_5</th>\n",
              "      <th>item_category_id_6</th>\n",
              "      <th>item_category_id_7</th>\n",
              "      <th>item_category_id_8</th>\n",
              "      <th>item_category_id_9</th>\n",
              "      <th>item_category_id_10</th>\n",
              "      <th>item_category_id_11</th>\n",
              "      <th>item_category_id_12</th>\n",
              "      <th>item_category_id_13</th>\n",
              "      <th>item_category_id_14</th>\n",
              "      <th>item_category_id_15</th>\n",
              "      <th>item_category_id_16</th>\n",
              "      <th>item_category_id_17</th>\n",
              "      <th>item_category_id_18</th>\n",
              "      <th>item_category_id_19</th>\n",
              "      <th>item_category_id_20</th>\n",
              "      <th>item_category_id_21</th>\n",
              "      <th>item_category_id_22</th>\n",
              "      <th>item_category_id_23</th>\n",
              "      <th>item_category_id_24</th>\n",
              "      <th>item_category_id_25</th>\n",
              "      <th>item_category_id_26</th>\n",
              "      <th>item_category_id_27</th>\n",
              "      <th>item_category_id_28</th>\n",
              "      <th>item_category_id_29</th>\n",
              "      <th>item_category_id_30</th>\n",
              "      <th>item_category_id_31</th>\n",
              "      <th>item_category_id_32</th>\n",
              "      <th>item_category_id_33</th>\n",
              "      <th>item_category_id_34</th>\n",
              "      <th>item_category_id_35</th>\n",
              "      <th>item_category_id_36</th>\n",
              "      <th>...</th>\n",
              "      <th>item_category_id_59</th>\n",
              "      <th>item_category_id_60</th>\n",
              "      <th>item_category_id_61</th>\n",
              "      <th>item_category_id_62</th>\n",
              "      <th>item_category_id_63</th>\n",
              "      <th>item_category_id_64</th>\n",
              "      <th>item_category_id_65</th>\n",
              "      <th>item_category_id_66</th>\n",
              "      <th>item_category_id_67</th>\n",
              "      <th>item_category_id_68</th>\n",
              "      <th>item_category_id_69</th>\n",
              "      <th>item_category_id_70</th>\n",
              "      <th>item_category_id_71</th>\n",
              "      <th>item_category_id_72</th>\n",
              "      <th>item_category_id_73</th>\n",
              "      <th>item_category_id_74</th>\n",
              "      <th>item_category_id_75</th>\n",
              "      <th>item_category_id_76</th>\n",
              "      <th>item_category_id_77</th>\n",
              "      <th>item_category_id_78</th>\n",
              "      <th>item_category_id_79</th>\n",
              "      <th>item_category_id_80</th>\n",
              "      <th>item_category_id_81</th>\n",
              "      <th>item_category_id_82</th>\n",
              "      <th>item_category_id_83</th>\n",
              "      <th>month_1</th>\n",
              "      <th>month_2</th>\n",
              "      <th>month_3</th>\n",
              "      <th>month_4</th>\n",
              "      <th>month_5</th>\n",
              "      <th>month_6</th>\n",
              "      <th>month_7</th>\n",
              "      <th>month_8</th>\n",
              "      <th>month_9</th>\n",
              "      <th>month_10</th>\n",
              "      <th>month_11</th>\n",
              "      <th>month_12</th>\n",
              "      <th>year_2013</th>\n",
              "      <th>year_2014</th>\n",
              "      <th>year_2015</th>\n",
              "    </tr>\n",
              "  </thead>\n",
              "  <tbody>\n",
              "    <tr>\n",
              "      <th>0</th>\n",
              "      <td>5</td>\n",
              "      <td>NaN</td>\n",
              "      <td>0.0</td>\n",
              "      <td>0</td>\n",
              "      <td>0</td>\n",
              "      <td>0</td>\n",
              "      <td>0</td>\n",
              "      <td>0</td>\n",
              "      <td>0</td>\n",
              "      <td>0</td>\n",
              "      <td>0</td>\n",
              "      <td>0</td>\n",
              "      <td>0</td>\n",
              "      <td>0</td>\n",
              "      <td>0</td>\n",
              "      <td>0</td>\n",
              "      <td>0</td>\n",
              "      <td>0</td>\n",
              "      <td>0</td>\n",
              "      <td>0</td>\n",
              "      <td>0</td>\n",
              "      <td>0</td>\n",
              "      <td>1</td>\n",
              "      <td>0</td>\n",
              "      <td>0</td>\n",
              "      <td>0</td>\n",
              "      <td>0</td>\n",
              "      <td>0</td>\n",
              "      <td>0</td>\n",
              "      <td>0</td>\n",
              "      <td>0</td>\n",
              "      <td>0</td>\n",
              "      <td>0</td>\n",
              "      <td>0</td>\n",
              "      <td>0</td>\n",
              "      <td>0</td>\n",
              "      <td>0</td>\n",
              "      <td>0</td>\n",
              "      <td>0</td>\n",
              "      <td>0</td>\n",
              "      <td>...</td>\n",
              "      <td>0</td>\n",
              "      <td>0</td>\n",
              "      <td>0</td>\n",
              "      <td>0</td>\n",
              "      <td>0</td>\n",
              "      <td>0</td>\n",
              "      <td>0</td>\n",
              "      <td>0</td>\n",
              "      <td>0</td>\n",
              "      <td>0</td>\n",
              "      <td>0</td>\n",
              "      <td>0</td>\n",
              "      <td>0</td>\n",
              "      <td>0</td>\n",
              "      <td>0</td>\n",
              "      <td>0</td>\n",
              "      <td>0</td>\n",
              "      <td>0</td>\n",
              "      <td>0</td>\n",
              "      <td>0</td>\n",
              "      <td>0</td>\n",
              "      <td>0</td>\n",
              "      <td>0</td>\n",
              "      <td>0</td>\n",
              "      <td>0</td>\n",
              "      <td>0</td>\n",
              "      <td>0</td>\n",
              "      <td>0</td>\n",
              "      <td>0</td>\n",
              "      <td>0</td>\n",
              "      <td>0</td>\n",
              "      <td>0</td>\n",
              "      <td>0</td>\n",
              "      <td>0</td>\n",
              "      <td>0</td>\n",
              "      <td>1</td>\n",
              "      <td>0</td>\n",
              "      <td>0</td>\n",
              "      <td>0</td>\n",
              "      <td>1</td>\n",
              "    </tr>\n",
              "    <tr>\n",
              "      <th>1</th>\n",
              "      <td>4</td>\n",
              "      <td>NaN</td>\n",
              "      <td>5100.0</td>\n",
              "      <td>0</td>\n",
              "      <td>0</td>\n",
              "      <td>0</td>\n",
              "      <td>0</td>\n",
              "      <td>0</td>\n",
              "      <td>0</td>\n",
              "      <td>0</td>\n",
              "      <td>0</td>\n",
              "      <td>0</td>\n",
              "      <td>0</td>\n",
              "      <td>0</td>\n",
              "      <td>0</td>\n",
              "      <td>0</td>\n",
              "      <td>0</td>\n",
              "      <td>0</td>\n",
              "      <td>0</td>\n",
              "      <td>0</td>\n",
              "      <td>0</td>\n",
              "      <td>0</td>\n",
              "      <td>1</td>\n",
              "      <td>0</td>\n",
              "      <td>0</td>\n",
              "      <td>0</td>\n",
              "      <td>0</td>\n",
              "      <td>0</td>\n",
              "      <td>0</td>\n",
              "      <td>0</td>\n",
              "      <td>0</td>\n",
              "      <td>0</td>\n",
              "      <td>0</td>\n",
              "      <td>0</td>\n",
              "      <td>0</td>\n",
              "      <td>0</td>\n",
              "      <td>0</td>\n",
              "      <td>0</td>\n",
              "      <td>0</td>\n",
              "      <td>0</td>\n",
              "      <td>...</td>\n",
              "      <td>0</td>\n",
              "      <td>0</td>\n",
              "      <td>0</td>\n",
              "      <td>0</td>\n",
              "      <td>0</td>\n",
              "      <td>0</td>\n",
              "      <td>0</td>\n",
              "      <td>0</td>\n",
              "      <td>0</td>\n",
              "      <td>0</td>\n",
              "      <td>0</td>\n",
              "      <td>0</td>\n",
              "      <td>0</td>\n",
              "      <td>0</td>\n",
              "      <td>0</td>\n",
              "      <td>0</td>\n",
              "      <td>0</td>\n",
              "      <td>0</td>\n",
              "      <td>0</td>\n",
              "      <td>0</td>\n",
              "      <td>0</td>\n",
              "      <td>0</td>\n",
              "      <td>0</td>\n",
              "      <td>0</td>\n",
              "      <td>0</td>\n",
              "      <td>0</td>\n",
              "      <td>0</td>\n",
              "      <td>0</td>\n",
              "      <td>0</td>\n",
              "      <td>0</td>\n",
              "      <td>0</td>\n",
              "      <td>0</td>\n",
              "      <td>0</td>\n",
              "      <td>0</td>\n",
              "      <td>0</td>\n",
              "      <td>1</td>\n",
              "      <td>0</td>\n",
              "      <td>0</td>\n",
              "      <td>0</td>\n",
              "      <td>1</td>\n",
              "    </tr>\n",
              "  </tbody>\n",
              "</table>\n",
              "<p>2 rows × 102 columns</p>\n",
              "</div>"
            ],
            "text/plain": [
              "   shop_id  item_cnt_day      ID  ...  year_2013  year_2014  year_2015\n",
              "0        5           NaN     0.0  ...          0          0          1\n",
              "1        4           NaN  5100.0  ...          0          0          1\n",
              "\n",
              "[2 rows x 102 columns]"
            ]
          },
          "metadata": {
            "tags": []
          },
          "execution_count": 35
        }
      ]
    },
    {
      "cell_type": "code",
      "metadata": {
        "id": "1Ncby-2zRsQM"
      },
      "source": [
        "test_dmatrix=xg.DMatrix(data = df_test_final.drop(['ID','item_cnt_day'],axis=1)) \n",
        "pred = np.round(xgb_r.predict(test_dmatrix))"
      ],
      "execution_count": null,
      "outputs": []
    },
    {
      "cell_type": "code",
      "metadata": {
        "id": "b5NDHX9-RsQM"
      },
      "source": [
        "submission=pd.DataFrame()\n",
        "submission['ID']=df_test_final['ID'].astype(int)\n",
        "submission['item_cnt_month']=pred"
      ],
      "execution_count": null,
      "outputs": []
    },
    {
      "cell_type": "code",
      "metadata": {
        "colab": {
          "base_uri": "https://localhost:8080/",
          "height": 407
        },
        "id": "RsW232PwRsQN",
        "outputId": "d5599470-a83b-49a3-a47d-ea82edc2a264"
      },
      "source": [
        "sns.countplot(submission['item_cnt_month'])"
      ],
      "execution_count": null,
      "outputs": [
        {
          "output_type": "stream",
          "text": [
            "/usr/local/lib/python3.7/dist-packages/seaborn/_decorators.py:43: FutureWarning: Pass the following variable as a keyword arg: x. From version 0.12, the only valid positional argument will be `data`, and passing other arguments without an explicit keyword will result in an error or misinterpretation.\n",
            "  FutureWarning\n"
          ],
          "name": "stderr"
        },
        {
          "output_type": "execute_result",
          "data": {
            "text/plain": [
              "<matplotlib.axes._subplots.AxesSubplot at 0x7f86283b3b90>"
            ]
          },
          "metadata": {
            "tags": []
          },
          "execution_count": 38
        },
        {
          "output_type": "display_data",
          "data": {
            "image/png": "[encoded data removed]",
            "text/plain": [
              "<Figure size 2160x720 with 1 Axes>"
            ]
          },
          "metadata": {
            "tags": []
          }
        }
      ]
    },
    {
      "cell_type": "code",
      "metadata": {
        "colab": {
          "base_uri": "https://localhost:8080/",
          "height": 112
        },
        "id": "lPuM7wbJNhXP",
        "outputId": "898ca920-5257-4aa4-cbe6-5207c2d8ab1a"
      },
      "source": [
        "submission=submission.sort_values('ID')\n",
        "submission.head(2)"
      ],
      "execution_count": null,
      "outputs": [
        {
          "output_type": "execute_result",
          "data": {
            "text/html": [
              "<div>\n",
              "<style scoped>\n",
              "    .dataframe tbody tr th:only-of-type {\n",
              "        vertical-align: middle;\n",
              "    }\n",
              "\n",
              "    .dataframe tbody tr th {\n",
              "        vertical-align: top;\n",
              "    }\n",
              "\n",
              "    .dataframe thead th {\n",
              "        text-align: right;\n",
              "    }\n",
              "</style>\n",
              "<table border=\"1\" class=\"dataframe\">\n",
              "  <thead>\n",
              "    <tr style=\"text-align: right;\">\n",
              "      <th></th>\n",
              "      <th>ID</th>\n",
              "      <th>item_cnt_month</th>\n",
              "    </tr>\n",
              "  </thead>\n",
              "  <tbody>\n",
              "    <tr>\n",
              "      <th>0</th>\n",
              "      <td>0</td>\n",
              "      <td>2.0</td>\n",
              "    </tr>\n",
              "    <tr>\n",
              "      <th>42</th>\n",
              "      <td>1</td>\n",
              "      <td>1.0</td>\n",
              "    </tr>\n",
              "  </tbody>\n",
              "</table>\n",
              "</div>"
            ],
            "text/plain": [
              "    ID  item_cnt_month\n",
              "0    0             2.0\n",
              "42   1             1.0"
            ]
          },
          "metadata": {
            "tags": []
          },
          "execution_count": 39
        }
      ]
    },
    {
      "cell_type": "code",
      "metadata": {
        "id": "5ijTxSU7RsQO"
      },
      "source": [
        "submission.to_csv('Round 4 | XGB | Item Cat | Hot encode.csv',index=False)\n"
      ],
      "execution_count": null,
      "outputs": []
    },
    {
      "cell_type": "code",
      "metadata": {
        "id": "lAtrsob7RsQO"
      },
      "source": [
        ""
      ],
      "execution_count": null,
      "outputs": []
    }
  ]
}