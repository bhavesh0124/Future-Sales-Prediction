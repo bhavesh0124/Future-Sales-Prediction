{
  "nbformat": 4,
  "nbformat_minor": 0,
  "metadata": {
    "colab": {
      "name": "Training | Round 2.ipynb",
      "provenance": [],
      "toc_visible": true
    },
    "kernelspec": {
      "display_name": "Python 3",
      "language": "python",
      "name": "python3"
    },
    "language_info": {
      "codemirror_mode": {
        "name": "ipython",
        "version": 3
      },
      "file_extension": ".py",
      "mimetype": "text/x-python",
      "name": "python",
      "nbconvert_exporter": "python",
      "pygments_lexer": "ipython3",
      "version": "3.6.9"
    }
  },
  "cells": [
    {
      "cell_type": "code",
      "metadata": {
        "colab": {
          "base_uri": "https://localhost:8080/"
        },
        "id": "0hNv4dMPRxqY",
        "outputId": "9b51c79d-3857-46e6-e4b4-8a33ed7fd984"
      },
      "source": [
        "from google.colab import drive\n",
        "drive.mount('/content/drive')"
      ],
      "execution_count": 83,
      "outputs": [
        {
          "output_type": "stream",
          "text": [
            "Drive already mounted at /content/drive; to attempt to forcibly remount, call drive.mount(\"/content/drive\", force_remount=True).\n"
          ],
          "name": "stdout"
        }
      ]
    },
    {
      "cell_type": "code",
      "metadata": {
        "id": "WZBMYHJkRsPy"
      },
      "source": [
        "import pandas as pd\n",
        "import matplotlib.pyplot as plt\n",
        "import seaborn as sns\n",
        "plt.rcParams[\"figure.figsize\"] = (30,10)\n",
        "import numpy as np \n",
        "import pandas as pd \n",
        "import xgboost as xg \n",
        "from sklearn.model_selection import train_test_split \n",
        "from sklearn.metrics import mean_squared_error as MSE "
      ],
      "execution_count": 104,
      "outputs": []
    },
    {
      "cell_type": "code",
      "metadata": {
        "id": "IYhf_sXvRsP7"
      },
      "source": [
        "df_train=pd.read_csv(\"drive/MyDrive/Datasets-Collab/competitive-data-science-predict-future-sales/sales_train.csv\")\n",
        "df_test=pd.read_csv(\"drive/MyDrive/Datasets-Collab/competitive-data-science-predict-future-sales/test.csv\")\n",
        "shop=pd.read_csv(\"drive/MyDrive/Datasets-Collab/competitive-data-science-predict-future-sales/shops.csv\")\n",
        "items=pd.read_csv(\"drive/MyDrive/Datasets-Collab/competitive-data-science-predict-future-sales/items.csv\")\n",
        "item_categories=pd.read_csv(\"drive/MyDrive/Datasets-Collab/competitive-data-science-predict-future-sales/item_categories.csv\")"
      ],
      "execution_count": 105,
      "outputs": []
    },
    {
      "cell_type": "code",
      "metadata": {
        "id": "7RABx3AcUFZx",
        "outputId": "4cf635c0-34a4-4f00-d357-8d3b2a5d6a22",
        "colab": {
          "base_uri": "https://localhost:8080/"
        }
      },
      "source": [
        "df_train.columns"
      ],
      "execution_count": 106,
      "outputs": [
        {
          "output_type": "execute_result",
          "data": {
            "text/plain": [
              "Index(['date', 'date_block_num', 'shop_id', 'item_id', 'item_price',\n",
              "       'item_cnt_day'],\n",
              "      dtype='object')"
            ]
          },
          "metadata": {
            "tags": []
          },
          "execution_count": 106
        }
      ]
    },
    {
      "cell_type": "code",
      "metadata": {
        "id": "wo2gZsXXT-Fk",
        "outputId": "d54cb8c0-7743-4e7d-d83c-c65b236b0d50",
        "colab": {
          "base_uri": "https://localhost:8080/"
        }
      },
      "source": [
        "df_train['item_cnt_day'].nunique()"
      ],
      "execution_count": 107,
      "outputs": [
        {
          "output_type": "execute_result",
          "data": {
            "text/plain": [
              "198"
            ]
          },
          "metadata": {
            "tags": []
          },
          "execution_count": 107
        }
      ]
    },
    {
      "cell_type": "code",
      "metadata": {
        "id": "9T8JfatGRsP_"
      },
      "source": [
        "df_train[\"date\"]=pd.to_datetime(df_train[\"date\"],format='%d.%m.%Y')\n",
        "df_train['day']=df_train['date'].dt.day\n",
        "df_train['month']=df_train['date'].dt.month\n",
        "df_train['year']=df_train['date'].dt.year\n",
        "df_train=df_train.sort_values(by='date')\n",
        "df_test['month']=11\n",
        "df_test['year']=2015\n"
      ],
      "execution_count": 108,
      "outputs": []
    },
    {
      "cell_type": "code",
      "metadata": {
        "colab": {
          "base_uri": "https://localhost:8080/",
          "height": 112
        },
        "id": "k6u63sp1T3PC",
        "outputId": "56a19171-1f71-4440-f58d-6525b1975230"
      },
      "source": [
        "df_train.head(2)"
      ],
      "execution_count": 109,
      "outputs": [
        {
          "output_type": "execute_result",
          "data": {
            "text/html": [
              "<div>\n",
              "<style scoped>\n",
              "    .dataframe tbody tr th:only-of-type {\n",
              "        vertical-align: middle;\n",
              "    }\n",
              "\n",
              "    .dataframe tbody tr th {\n",
              "        vertical-align: top;\n",
              "    }\n",
              "\n",
              "    .dataframe thead th {\n",
              "        text-align: right;\n",
              "    }\n",
              "</style>\n",
              "<table border=\"1\" class=\"dataframe\">\n",
              "  <thead>\n",
              "    <tr style=\"text-align: right;\">\n",
              "      <th></th>\n",
              "      <th>date</th>\n",
              "      <th>date_block_num</th>\n",
              "      <th>shop_id</th>\n",
              "      <th>item_id</th>\n",
              "      <th>item_price</th>\n",
              "      <th>item_cnt_day</th>\n",
              "      <th>day</th>\n",
              "      <th>month</th>\n",
              "      <th>year</th>\n",
              "    </tr>\n",
              "  </thead>\n",
              "  <tbody>\n",
              "    <tr>\n",
              "      <th>49800</th>\n",
              "      <td>2013-01-01</td>\n",
              "      <td>0</td>\n",
              "      <td>18</td>\n",
              "      <td>5823</td>\n",
              "      <td>2500.0</td>\n",
              "      <td>1.0</td>\n",
              "      <td>1</td>\n",
              "      <td>1</td>\n",
              "      <td>2013</td>\n",
              "    </tr>\n",
              "    <tr>\n",
              "      <th>29784</th>\n",
              "      <td>2013-01-01</td>\n",
              "      <td>0</td>\n",
              "      <td>27</td>\n",
              "      <td>5573</td>\n",
              "      <td>849.0</td>\n",
              "      <td>1.0</td>\n",
              "      <td>1</td>\n",
              "      <td>1</td>\n",
              "      <td>2013</td>\n",
              "    </tr>\n",
              "  </tbody>\n",
              "</table>\n",
              "</div>"
            ],
            "text/plain": [
              "            date  date_block_num  shop_id  ...  day  month  year\n",
              "49800 2013-01-01               0       18  ...    1      1  2013\n",
              "29784 2013-01-01               0       27  ...    1      1  2013\n",
              "\n",
              "[2 rows x 9 columns]"
            ]
          },
          "metadata": {
            "tags": []
          },
          "execution_count": 109
        }
      ]
    },
    {
      "cell_type": "code",
      "metadata": {
        "colab": {
          "base_uri": "https://localhost:8080/",
          "height": 112
        },
        "id": "T-Tze0hjrIqv",
        "outputId": "9d605ad5-9698-419f-ad5d-00e957b46cc2"
      },
      "source": [
        "df_test.head(2)"
      ],
      "execution_count": 110,
      "outputs": [
        {
          "output_type": "execute_result",
          "data": {
            "text/html": [
              "<div>\n",
              "<style scoped>\n",
              "    .dataframe tbody tr th:only-of-type {\n",
              "        vertical-align: middle;\n",
              "    }\n",
              "\n",
              "    .dataframe tbody tr th {\n",
              "        vertical-align: top;\n",
              "    }\n",
              "\n",
              "    .dataframe thead th {\n",
              "        text-align: right;\n",
              "    }\n",
              "</style>\n",
              "<table border=\"1\" class=\"dataframe\">\n",
              "  <thead>\n",
              "    <tr style=\"text-align: right;\">\n",
              "      <th></th>\n",
              "      <th>ID</th>\n",
              "      <th>shop_id</th>\n",
              "      <th>item_id</th>\n",
              "      <th>month</th>\n",
              "      <th>year</th>\n",
              "    </tr>\n",
              "  </thead>\n",
              "  <tbody>\n",
              "    <tr>\n",
              "      <th>0</th>\n",
              "      <td>0</td>\n",
              "      <td>5</td>\n",
              "      <td>5037</td>\n",
              "      <td>11</td>\n",
              "      <td>2015</td>\n",
              "    </tr>\n",
              "    <tr>\n",
              "      <th>1</th>\n",
              "      <td>1</td>\n",
              "      <td>5</td>\n",
              "      <td>5320</td>\n",
              "      <td>11</td>\n",
              "      <td>2015</td>\n",
              "    </tr>\n",
              "  </tbody>\n",
              "</table>\n",
              "</div>"
            ],
            "text/plain": [
              "   ID  shop_id  item_id  month  year\n",
              "0   0        5     5037     11  2015\n",
              "1   1        5     5320     11  2015"
            ]
          },
          "metadata": {
            "tags": []
          },
          "execution_count": 110
        }
      ]
    },
    {
      "cell_type": "markdown",
      "metadata": {
        "id": "JwdClmR4ri-W"
      },
      "source": [
        "##Concatenating train and test set"
      ]
    },
    {
      "cell_type": "code",
      "metadata": {
        "id": "9BFj1REcnmnx"
      },
      "source": [
        "df_train=pd.merge(df_train,items[['item_id','item_category_id']],on='item_id')\n",
        "df_test=pd.merge(df_test,items[['item_id','item_category_id']],on='item_id')"
      ],
      "execution_count": 111,
      "outputs": []
    },
    {
      "cell_type": "code",
      "metadata": {
        "id": "HQeSAHE3nwMt"
      },
      "source": [
        "df_train=df_train.groupby(['year','month','shop_id','item_id','item_category_id']).agg({'item_price': 'mean', \n",
        "                                                                   'item_cnt_day': 'sum'\n",
        "                                                                  }).reset_index()"
      ],
      "execution_count": 112,
      "outputs": []
    },
    {
      "cell_type": "markdown",
      "metadata": {
        "id": "oKHUW4oypH5D"
      },
      "source": [
        "Merging the dataframe"
      ]
    },
    {
      "cell_type": "code",
      "metadata": {
        "id": "1xJw2ggtr0SJ"
      },
      "source": [
        "merged=pd.concat([df_train,df_test])"
      ],
      "execution_count": 113,
      "outputs": []
    },
    {
      "cell_type": "code",
      "metadata": {
        "id": "-cyFdbeZV4mE",
        "outputId": "07ad7fb9-66b5-46a4-f6d7-de3cd8af7f90",
        "colab": {
          "base_uri": "https://localhost:8080/"
        }
      },
      "source": [
        "merged.columns"
      ],
      "execution_count": 114,
      "outputs": [
        {
          "output_type": "execute_result",
          "data": {
            "text/plain": [
              "Index(['year', 'month', 'shop_id', 'item_id', 'item_category_id', 'item_price',\n",
              "       'item_cnt_day', 'ID'],\n",
              "      dtype='object')"
            ]
          },
          "metadata": {
            "tags": []
          },
          "execution_count": 114
        }
      ]
    },
    {
      "cell_type": "code",
      "metadata": {
        "id": "xxqnDKscVzVZ"
      },
      "source": [
        "merged.drop(['item_id','item_price'],axis=1,inplace=True)\n",
        "\n"
      ],
      "execution_count": 115,
      "outputs": []
    },
    {
      "cell_type": "markdown",
      "metadata": {
        "id": "nCeVdf6WRsQG"
      },
      "source": [
        "## Hot - Label Encoding"
      ]
    },
    {
      "cell_type": "code",
      "metadata": {
        "id": "GwiF_szPRsQI"
      },
      "source": [
        "final_df=pd.get_dummies(merged,columns=['item_category_id'])\n"
      ],
      "execution_count": 116,
      "outputs": []
    },
    {
      "cell_type": "code",
      "metadata": {
        "id": "qwsCtQP2Thqi",
        "outputId": "ff5c7c8b-e7d5-49eb-9b39-cba4ee389878",
        "colab": {
          "base_uri": "https://localhost:8080/"
        }
      },
      "source": [
        "final_df.columns"
      ],
      "execution_count": 117,
      "outputs": [
        {
          "output_type": "execute_result",
          "data": {
            "text/plain": [
              "Index(['year', 'month', 'shop_id', 'item_cnt_day', 'ID', 'item_category_id_0',\n",
              "       'item_category_id_1', 'item_category_id_2', 'item_category_id_3',\n",
              "       'item_category_id_4', 'item_category_id_5', 'item_category_id_6',\n",
              "       'item_category_id_7', 'item_category_id_8', 'item_category_id_9',\n",
              "       'item_category_id_10', 'item_category_id_11', 'item_category_id_12',\n",
              "       'item_category_id_13', 'item_category_id_14', 'item_category_id_15',\n",
              "       'item_category_id_16', 'item_category_id_17', 'item_category_id_18',\n",
              "       'item_category_id_19', 'item_category_id_20', 'item_category_id_21',\n",
              "       'item_category_id_22', 'item_category_id_23', 'item_category_id_24',\n",
              "       'item_category_id_25', 'item_category_id_26', 'item_category_id_27',\n",
              "       'item_category_id_28', 'item_category_id_29', 'item_category_id_30',\n",
              "       'item_category_id_31', 'item_category_id_32', 'item_category_id_33',\n",
              "       'item_category_id_34', 'item_category_id_35', 'item_category_id_36',\n",
              "       'item_category_id_37', 'item_category_id_38', 'item_category_id_39',\n",
              "       'item_category_id_40', 'item_category_id_41', 'item_category_id_42',\n",
              "       'item_category_id_43', 'item_category_id_44', 'item_category_id_45',\n",
              "       'item_category_id_46', 'item_category_id_47', 'item_category_id_48',\n",
              "       'item_category_id_49', 'item_category_id_50', 'item_category_id_51',\n",
              "       'item_category_id_52', 'item_category_id_53', 'item_category_id_54',\n",
              "       'item_category_id_55', 'item_category_id_56', 'item_category_id_57',\n",
              "       'item_category_id_58', 'item_category_id_59', 'item_category_id_60',\n",
              "       'item_category_id_61', 'item_category_id_62', 'item_category_id_63',\n",
              "       'item_category_id_64', 'item_category_id_65', 'item_category_id_66',\n",
              "       'item_category_id_67', 'item_category_id_68', 'item_category_id_69',\n",
              "       'item_category_id_70', 'item_category_id_71', 'item_category_id_72',\n",
              "       'item_category_id_73', 'item_category_id_74', 'item_category_id_75',\n",
              "       'item_category_id_76', 'item_category_id_77', 'item_category_id_78',\n",
              "       'item_category_id_79', 'item_category_id_80', 'item_category_id_81',\n",
              "       'item_category_id_82', 'item_category_id_83'],\n",
              "      dtype='object')"
            ]
          },
          "metadata": {
            "tags": []
          },
          "execution_count": 117
        }
      ]
    },
    {
      "cell_type": "markdown",
      "metadata": {
        "id": "ePTE9Sc8RsQI"
      },
      "source": [
        "## Splitting Sequentially"
      ]
    },
    {
      "cell_type": "code",
      "metadata": {
        "id": "SeNpgaUhp4qj"
      },
      "source": [
        "df_train_final=final_df.iloc[:1609124,:]\n",
        "df_test_final=final_df.iloc[1609124:,:]"
      ],
      "execution_count": 118,
      "outputs": []
    },
    {
      "cell_type": "code",
      "metadata": {
        "id": "DBjxalEeYu-G",
        "outputId": "c9b7c908-c78f-4682-d11d-beac7b386f84",
        "colab": {
          "base_uri": "https://localhost:8080/"
        }
      },
      "source": [
        "df_test_final.shape"
      ],
      "execution_count": 119,
      "outputs": [
        {
          "output_type": "execute_result",
          "data": {
            "text/plain": [
              "(214200, 89)"
            ]
          },
          "metadata": {
            "tags": []
          },
          "execution_count": 119
        }
      ]
    },
    {
      "cell_type": "code",
      "metadata": {
        "id": "vTgOuRd4YwoE",
        "outputId": "d0e1793f-c3e8-462e-c1cc-3288c483e837",
        "colab": {
          "base_uri": "https://localhost:8080/"
        }
      },
      "source": [
        "df_train_final.columns"
      ],
      "execution_count": 120,
      "outputs": [
        {
          "output_type": "execute_result",
          "data": {
            "text/plain": [
              "Index(['year', 'month', 'shop_id', 'item_cnt_day', 'ID', 'item_category_id_0',\n",
              "       'item_category_id_1', 'item_category_id_2', 'item_category_id_3',\n",
              "       'item_category_id_4', 'item_category_id_5', 'item_category_id_6',\n",
              "       'item_category_id_7', 'item_category_id_8', 'item_category_id_9',\n",
              "       'item_category_id_10', 'item_category_id_11', 'item_category_id_12',\n",
              "       'item_category_id_13', 'item_category_id_14', 'item_category_id_15',\n",
              "       'item_category_id_16', 'item_category_id_17', 'item_category_id_18',\n",
              "       'item_category_id_19', 'item_category_id_20', 'item_category_id_21',\n",
              "       'item_category_id_22', 'item_category_id_23', 'item_category_id_24',\n",
              "       'item_category_id_25', 'item_category_id_26', 'item_category_id_27',\n",
              "       'item_category_id_28', 'item_category_id_29', 'item_category_id_30',\n",
              "       'item_category_id_31', 'item_category_id_32', 'item_category_id_33',\n",
              "       'item_category_id_34', 'item_category_id_35', 'item_category_id_36',\n",
              "       'item_category_id_37', 'item_category_id_38', 'item_category_id_39',\n",
              "       'item_category_id_40', 'item_category_id_41', 'item_category_id_42',\n",
              "       'item_category_id_43', 'item_category_id_44', 'item_category_id_45',\n",
              "       'item_category_id_46', 'item_category_id_47', 'item_category_id_48',\n",
              "       'item_category_id_49', 'item_category_id_50', 'item_category_id_51',\n",
              "       'item_category_id_52', 'item_category_id_53', 'item_category_id_54',\n",
              "       'item_category_id_55', 'item_category_id_56', 'item_category_id_57',\n",
              "       'item_category_id_58', 'item_category_id_59', 'item_category_id_60',\n",
              "       'item_category_id_61', 'item_category_id_62', 'item_category_id_63',\n",
              "       'item_category_id_64', 'item_category_id_65', 'item_category_id_66',\n",
              "       'item_category_id_67', 'item_category_id_68', 'item_category_id_69',\n",
              "       'item_category_id_70', 'item_category_id_71', 'item_category_id_72',\n",
              "       'item_category_id_73', 'item_category_id_74', 'item_category_id_75',\n",
              "       'item_category_id_76', 'item_category_id_77', 'item_category_id_78',\n",
              "       'item_category_id_79', 'item_category_id_80', 'item_category_id_81',\n",
              "       'item_category_id_82', 'item_category_id_83'],\n",
              "      dtype='object')"
            ]
          },
          "metadata": {
            "tags": []
          },
          "execution_count": 120
        }
      ]
    },
    {
      "cell_type": "code",
      "metadata": {
        "id": "JP2CrJjlRsQJ"
      },
      "source": [
        "X_train=df_train_final.iloc[:1259576,:].drop(['item_cnt_day','ID'],axis=1)\n",
        "Y_train=df_train_final.iloc[:1259576,:]['item_cnt_day']\n",
        "X_test= df_train_final.iloc[1259576:,:].drop(['item_cnt_day','ID'],axis=1)\n",
        "Y_test= df_train_final.iloc[1259576:,:]['item_cnt_day']"
      ],
      "execution_count": 121,
      "outputs": []
    },
    {
      "cell_type": "markdown",
      "metadata": {
        "id": "n__aJSWPRsQJ"
      },
      "source": [
        "## Model Training"
      ]
    },
    {
      "cell_type": "code",
      "metadata": {
        "id": "XWAvCnB6RsQK"
      },
      "source": [
        "train_dmatrix = xg.DMatrix(data = X_train, label = Y_train) \n",
        "test_dmatrix = xg.DMatrix(data = X_test, label = Y_test) "
      ],
      "execution_count": 122,
      "outputs": []
    },
    {
      "cell_type": "code",
      "metadata": {
        "id": "QULle7WLRsQK",
        "colab": {
          "base_uri": "https://localhost:8080/"
        },
        "outputId": "4d2b5a49-e213-450c-acbc-51e8eba732b6"
      },
      "source": [
        "param = {\"booster\":\"gblinear\", \"objective\":\"reg:linear\"} \n",
        "  \n",
        "xgb_r = xg.train(params = param, dtrain = train_dmatrix, num_boost_round = 200) \n",
        "pred = np.round(xgb_r.predict(test_dmatrix) )"
      ],
      "execution_count": null,
      "outputs": [
        {
          "output_type": "stream",
          "text": [
            "[15:52:34] WARNING: /workspace/src/objective/regression_obj.cu:152: reg:linear is now deprecated in favor of reg:squarederror.\n"
          ],
          "name": "stdout"
        }
      ]
    },
    {
      "cell_type": "code",
      "metadata": {
        "id": "cDxSicKRRsQK",
        "colab": {
          "base_uri": "https://localhost:8080/"
        },
        "outputId": "af56f21b-7545-4b69-9a09-d9b941d32ca6"
      },
      "source": [
        "rmse = np.sqrt(MSE(Y_test, pred)) \n",
        "print(\"RMSE : % f\" %(rmse)) "
      ],
      "execution_count": 102,
      "outputs": [
        {
          "output_type": "stream",
          "text": [
            "RMSE :  9.573735\n"
          ],
          "name": "stdout"
        }
      ]
    },
    {
      "cell_type": "code",
      "metadata": {
        "id": "OK-CC7y0RsQL",
        "scrolled": true,
        "colab": {
          "base_uri": "https://localhost:8080/",
          "height": 399
        },
        "outputId": "86c5798f-cebd-442a-cae4-70113d502a58"
      },
      "source": [
        "sns.countplot(pred)"
      ],
      "execution_count": 103,
      "outputs": [
        {
          "output_type": "stream",
          "text": [
            "/usr/local/lib/python3.7/dist-packages/seaborn/_decorators.py:43: FutureWarning: Pass the following variable as a keyword arg: x. From version 0.12, the only valid positional argument will be `data`, and passing other arguments without an explicit keyword will result in an error or misinterpretation.\n",
            "  FutureWarning\n"
          ],
          "name": "stderr"
        },
        {
          "output_type": "execute_result",
          "data": {
            "text/plain": [
              "<matplotlib.axes._subplots.AxesSubplot at 0x7f5257ce0b90>"
            ]
          },
          "metadata": {
            "tags": []
          },
          "execution_count": 103
        },
        {
          "output_type": "display_data",
          "data": {
            "image/png": "[encoded data removed]",
            "text/plain": [
              "<Figure size 2160x720 with 1 Axes>"
            ]
          },
          "metadata": {
            "tags": [],
            "needs_background": "light"
          }
        }
      ]
    },
    {
      "cell_type": "markdown",
      "metadata": {
        "id": "kt4xHce9RsQL"
      },
      "source": [
        "## Making Submission"
      ]
    },
    {
      "cell_type": "code",
      "metadata": {
        "id": "9irr4JrPRsQM",
        "outputId": "e842a8a8-b3f6-4637-aa6c-4c77db8bb809"
      },
      "source": [
        "final_df.shape"
      ],
      "execution_count": null,
      "outputs": [
        {
          "output_type": "execute_result",
          "data": {
            "text/plain": [
              "(1799395, 76)"
            ]
          },
          "metadata": {
            "tags": []
          },
          "execution_count": 20
        }
      ]
    },
    {
      "cell_type": "code",
      "metadata": {
        "id": "CfMPNQwdRsQM",
        "outputId": "83034ad6-19c1-42b4-e26f-ae1bdef0e6e9"
      },
      "source": [
        "X_train=final_df.drop(['item_cnt_day'],axis=1)\n",
        "Y_train=final_df['item_cnt_day']\n",
        "train_dmatrix = xg.DMatrix(data = X_train, label = Y_train) \n",
        "xgb_r = xg.train(params = param, dtrain = train_dmatrix, num_boost_round = 20) "
      ],
      "execution_count": null,
      "outputs": [
        {
          "output_type": "error",
          "ename": "MemoryError",
          "evalue": "Unable to allocate 1.01 GiB for an array with shape (1799395, 75) and data type float64",
          "traceback": [
            "\u001b[0;31m---------------------------------------------------------------------------\u001b[0m",
            "\u001b[0;31mMemoryError\u001b[0m                               Traceback (most recent call last)",
            "\u001b[0;32m<ipython-input-21-5418d17dc502>\u001b[0m in \u001b[0;36m<module>\u001b[0;34m\u001b[0m\n\u001b[1;32m      1\u001b[0m \u001b[0mX_train\u001b[0m\u001b[0;34m=\u001b[0m\u001b[0mfinal_df\u001b[0m\u001b[0;34m.\u001b[0m\u001b[0mdrop\u001b[0m\u001b[0;34m(\u001b[0m\u001b[0;34m[\u001b[0m\u001b[0;34m'item_cnt_day'\u001b[0m\u001b[0;34m]\u001b[0m\u001b[0;34m,\u001b[0m\u001b[0maxis\u001b[0m\u001b[0;34m=\u001b[0m\u001b[0;36m1\u001b[0m\u001b[0;34m)\u001b[0m\u001b[0;34m\u001b[0m\u001b[0;34m\u001b[0m\u001b[0m\n\u001b[1;32m      2\u001b[0m \u001b[0mY_train\u001b[0m\u001b[0;34m=\u001b[0m\u001b[0mfinal_df\u001b[0m\u001b[0;34m[\u001b[0m\u001b[0;34m'item_cnt_day'\u001b[0m\u001b[0;34m]\u001b[0m\u001b[0;34m\u001b[0m\u001b[0;34m\u001b[0m\u001b[0m\n\u001b[0;32m----> 3\u001b[0;31m \u001b[0mtrain_dmatrix\u001b[0m \u001b[0;34m=\u001b[0m \u001b[0mxg\u001b[0m\u001b[0;34m.\u001b[0m\u001b[0mDMatrix\u001b[0m\u001b[0;34m(\u001b[0m\u001b[0mdata\u001b[0m \u001b[0;34m=\u001b[0m \u001b[0mX_train\u001b[0m\u001b[0;34m,\u001b[0m \u001b[0mlabel\u001b[0m \u001b[0;34m=\u001b[0m \u001b[0mY_train\u001b[0m\u001b[0;34m)\u001b[0m\u001b[0;34m\u001b[0m\u001b[0;34m\u001b[0m\u001b[0m\n\u001b[0m\u001b[1;32m      4\u001b[0m \u001b[0mxgb_r\u001b[0m \u001b[0;34m=\u001b[0m \u001b[0mxg\u001b[0m\u001b[0;34m.\u001b[0m\u001b[0mtrain\u001b[0m\u001b[0;34m(\u001b[0m\u001b[0mparams\u001b[0m \u001b[0;34m=\u001b[0m \u001b[0mparam\u001b[0m\u001b[0;34m,\u001b[0m \u001b[0mdtrain\u001b[0m \u001b[0;34m=\u001b[0m \u001b[0mtrain_dmatrix\u001b[0m\u001b[0;34m,\u001b[0m \u001b[0mnum_boost_round\u001b[0m \u001b[0;34m=\u001b[0m \u001b[0;36m20\u001b[0m\u001b[0;34m)\u001b[0m\u001b[0;34m\u001b[0m\u001b[0;34m\u001b[0m\u001b[0m\n",
            "\u001b[0;32m~/.local/lib/python3.6/site-packages/xgboost/core.py\u001b[0m in \u001b[0;36m__init__\u001b[0;34m(self, data, label, weight, base_margin, missing, silent, feature_names, feature_types, nthread)\u001b[0m\n\u001b[1;32m    456\u001b[0m \u001b[0;34m\u001b[0m\u001b[0m\n\u001b[1;32m    457\u001b[0m         data, feature_names, feature_types = _convert_dataframes(\n\u001b[0;32m--> 458\u001b[0;31m             \u001b[0mdata\u001b[0m\u001b[0;34m,\u001b[0m \u001b[0mfeature_names\u001b[0m\u001b[0;34m,\u001b[0m \u001b[0mfeature_types\u001b[0m\u001b[0;34m\u001b[0m\u001b[0;34m\u001b[0m\u001b[0m\n\u001b[0m\u001b[1;32m    459\u001b[0m         )\n\u001b[1;32m    460\u001b[0m \u001b[0;34m\u001b[0m\u001b[0m\n",
            "\u001b[0;32m~/.local/lib/python3.6/site-packages/xgboost/core.py\u001b[0m in \u001b[0;36m_convert_dataframes\u001b[0;34m(data, feature_names, feature_types, meta, meta_type)\u001b[0m\n\u001b[1;32m    359\u001b[0m                                                             \u001b[0mfeature_types\u001b[0m\u001b[0;34m,\u001b[0m\u001b[0;34m\u001b[0m\u001b[0;34m\u001b[0m\u001b[0m\n\u001b[1;32m    360\u001b[0m                                                             \u001b[0mmeta\u001b[0m\u001b[0;34m,\u001b[0m\u001b[0;34m\u001b[0m\u001b[0;34m\u001b[0m\u001b[0m\n\u001b[0;32m--> 361\u001b[0;31m                                                             meta_type)\n\u001b[0m\u001b[1;32m    362\u001b[0m \u001b[0;34m\u001b[0m\u001b[0m\n\u001b[1;32m    363\u001b[0m     data, feature_names, feature_types = _maybe_dt_data(data,\n",
            "\u001b[0;32m~/.local/lib/python3.6/site-packages/xgboost/core.py\u001b[0m in \u001b[0;36m_maybe_pandas_data\u001b[0;34m(data, feature_names, feature_types, meta, meta_type)\u001b[0m\n\u001b[1;32m    283\u001b[0m \u001b[0;34m\u001b[0m\u001b[0m\n\u001b[1;32m    284\u001b[0m     \u001b[0mdtype\u001b[0m \u001b[0;34m=\u001b[0m \u001b[0mmeta_type\u001b[0m \u001b[0;32mif\u001b[0m \u001b[0mmeta_type\u001b[0m \u001b[0;32melse\u001b[0m \u001b[0;34m'float'\u001b[0m\u001b[0;34m\u001b[0m\u001b[0;34m\u001b[0m\u001b[0m\n\u001b[0;32m--> 285\u001b[0;31m     \u001b[0mdata\u001b[0m \u001b[0;34m=\u001b[0m \u001b[0mdata\u001b[0m\u001b[0;34m.\u001b[0m\u001b[0mvalues\u001b[0m\u001b[0;34m.\u001b[0m\u001b[0mastype\u001b[0m\u001b[0;34m(\u001b[0m\u001b[0mdtype\u001b[0m\u001b[0;34m)\u001b[0m\u001b[0;34m\u001b[0m\u001b[0;34m\u001b[0m\u001b[0m\n\u001b[0m\u001b[1;32m    286\u001b[0m \u001b[0;34m\u001b[0m\u001b[0m\n\u001b[1;32m    287\u001b[0m     \u001b[0;32mreturn\u001b[0m \u001b[0mdata\u001b[0m\u001b[0;34m,\u001b[0m \u001b[0mfeature_names\u001b[0m\u001b[0;34m,\u001b[0m \u001b[0mfeature_types\u001b[0m\u001b[0;34m\u001b[0m\u001b[0;34m\u001b[0m\u001b[0m\n",
            "\u001b[0;31mMemoryError\u001b[0m: Unable to allocate 1.01 GiB for an array with shape (1799395, 75) and data type float64"
          ]
        }
      ]
    },
    {
      "cell_type": "code",
      "metadata": {
        "id": "1Ncby-2zRsQM"
      },
      "source": [
        "test_dmatrix=xg.DMatrix(data = df_test.drop(['ID'],axis=1)) \n",
        "pred = np.round(xgb_r.predict(test_dmatrix))"
      ],
      "execution_count": null,
      "outputs": []
    },
    {
      "cell_type": "code",
      "metadata": {
        "id": "b5NDHX9-RsQM"
      },
      "source": [
        "submission=pd.DataFrame()\n",
        "submission['ID']=df_test['ID']\n",
        "submission['item_cnt_month']=pred"
      ],
      "execution_count": null,
      "outputs": []
    },
    {
      "cell_type": "code",
      "metadata": {
        "colab": {
          "background_save": true
        },
        "id": "RsW232PwRsQN",
        "outputId": "5d48926d-54d7-4c62-82c0-10a19f038194"
      },
      "source": [
        "submission['item_cnt_month'].nunique()"
      ],
      "execution_count": null,
      "outputs": [
        {
          "output_type": "execute_result",
          "data": {
            "text/plain": [
              "6"
            ]
          },
          "metadata": {
            "tags": []
          },
          "execution_count": 0
        }
      ]
    },
    {
      "cell_type": "code",
      "metadata": {
        "id": "5ijTxSU7RsQO"
      },
      "source": [
        "submission.to_csv('Round 1| XGB | No Item Cat.csv',index=False)\n"
      ],
      "execution_count": null,
      "outputs": []
    },
    {
      "cell_type": "code",
      "metadata": {
        "id": "lAtrsob7RsQO"
      },
      "source": [
        ""
      ],
      "execution_count": null,
      "outputs": []
    }
  ]
}