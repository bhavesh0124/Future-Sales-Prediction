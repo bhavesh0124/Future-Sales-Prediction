{
  "nbformat": 4,
  "nbformat_minor": 0,
  "metadata": {
    "colab": {
      "name": "Training | Round 4",
      "provenance": [],
      "collapsed_sections": []
    },
    "kernelspec": {
      "display_name": "Python 3",
      "language": "python",
      "name": "python3"
    },
    "language_info": {
      "codemirror_mode": {
        "name": "ipython",
        "version": 3
      },
      "file_extension": ".py",
      "mimetype": "text/x-python",
      "name": "python",
      "nbconvert_exporter": "python",
      "pygments_lexer": "ipython3",
      "version": "3.6.9"
    }
  },
  "cells": [
    {
      "cell_type": "code",
      "metadata": {
        "colab": {
          "base_uri": "https://localhost:8080/"
        },
        "id": "0hNv4dMPRxqY",
        "outputId": "b5fda27c-346f-4e5d-c2ce-9736ec907014"
      },
      "source": [
        "from google.colab import drive\n",
        "drive.mount('/content/drive')"
      ],
      "execution_count": 1,
      "outputs": [
        {
          "output_type": "stream",
          "text": [
            "Mounted at /content/drive\n"
          ],
          "name": "stdout"
        }
      ]
    },
    {
      "cell_type": "code",
      "metadata": {
        "id": "WZBMYHJkRsPy"
      },
      "source": [
        "import pandas as pd\n",
        "import time\n",
        "from sklearn.model_selection import train_test_split\n",
        "import xgboost as xgb\n",
        "import random\n",
        "import matplotlib.pyplot as plt\n",
        "import seaborn as sns\n",
        "plt.rcParams[\"figure.figsize\"] = (30,10)\n",
        "import numpy as np \n",
        "import pandas as pd \n",
        "from xgboost import plot_importance\n",
        "import xgboost as xg \n",
        "from sklearn.model_selection import train_test_split \n",
        "from sklearn.metrics import mean_squared_error as MSE "
      ],
      "execution_count": 113,
      "outputs": []
    },
    {
      "cell_type": "code",
      "metadata": {
        "id": "IYhf_sXvRsP7"
      },
      "source": [
        "df_train=pd.read_csv(\"drive/MyDrive/Datasets-Collab/competitive-data-science-predict-future-sales/sales_train.csv\")\n",
        "df_test=pd.read_csv(\"drive/MyDrive/Datasets-Collab/competitive-data-science-predict-future-sales/test.csv\")\n",
        "shop=pd.read_csv(\"drive/MyDrive/Datasets-Collab/competitive-data-science-predict-future-sales/shops.csv\")\n",
        "items=pd.read_csv(\"drive/MyDrive/Datasets-Collab/competitive-data-science-predict-future-sales/items.csv\")\n",
        "item_categories=pd.read_csv(\"drive/MyDrive/Datasets-Collab/competitive-data-science-predict-future-sales/item_categories.csv\")"
      ],
      "execution_count": 81,
      "outputs": []
    },
    {
      "cell_type": "code",
      "metadata": {
        "id": "9T8JfatGRsP_"
      },
      "source": [
        "df_train[\"date\"]=pd.to_datetime(df_train[\"date\"],format='%d.%m.%Y')\n",
        "df_train['day']=df_train['date'].dt.day\n",
        "df_train['month']=df_train['date'].dt.month\n",
        "df_train['year']=df_train['date'].dt.year\n",
        "df_train=df_train.sort_values(by='date')\n",
        "df_test['month']=11\n",
        "df_test['year']=2015\n"
      ],
      "execution_count": 82,
      "outputs": []
    },
    {
      "cell_type": "code",
      "metadata": {
        "id": "tollv2dJGl_O"
      },
      "source": [
        "df_train['item_cnt_day']=abs(df_train['item_cnt_day'])\n",
        "not_in_train=set(list(np.sort(df_test['item_id'].unique()))) - set(list(np.sort(df_train['item_id'].unique())))\n",
        "df_train.drop(df_train.loc[df_train.item_id==6066].index,axis=0,inplace=True)"
      ],
      "execution_count": 83,
      "outputs": []
    },
    {
      "cell_type": "markdown",
      "metadata": {
        "id": "TWp5xnm7BqCM"
      },
      "source": [
        ""
      ]
    },
    {
      "cell_type": "markdown",
      "metadata": {
        "id": "JwdClmR4ri-W"
      },
      "source": [
        "##Concatenating train and test set"
      ]
    },
    {
      "cell_type": "code",
      "metadata": {
        "id": "9BFj1REcnmnx"
      },
      "source": [
        "df_train=pd.merge(df_train,items[['item_id','item_category_id']],on='item_id')\n",
        "df_test=pd.merge(df_test,items[['item_id','item_category_id']],on='item_id')"
      ],
      "execution_count": 84,
      "outputs": []
    },
    {
      "cell_type": "code",
      "metadata": {
        "id": "n8Rqk0ZAIcnv"
      },
      "source": [
        "df_train=df_train.groupby(['date_block_num','year','month','shop_id','item_id','item_category_id']).agg({'item_price': 'mean', \n",
        "                                                                    'item_cnt_day': 'mean'\n",
        "                                                                   }).reset_index()"
      ],
      "execution_count": 85,
      "outputs": []
    },
    {
      "cell_type": "code",
      "metadata": {
        "id": "nkzOptXJItdp"
      },
      "source": [
        "merged=pd.concat([df_train,df_test])"
      ],
      "execution_count": 86,
      "outputs": []
    },
    {
      "cell_type": "code",
      "metadata": {
        "id": "8cXbxiDvJDQe"
      },
      "source": [
        "merged['High_sale_month']=0\n",
        "merged.loc[(merged['month']>=9),'High_sale_month']=1"
      ],
      "execution_count": 87,
      "outputs": []
    },
    {
      "cell_type": "markdown",
      "metadata": {
        "id": "ePTE9Sc8RsQI"
      },
      "source": [
        "## Splitting Sequentially"
      ]
    },
    {
      "cell_type": "code",
      "metadata": {
        "id": "rMBVy4LMJNG6"
      },
      "source": [
        "merged.drop(['item_price'],inplace=True,axis=1)\n"
      ],
      "execution_count": 88,
      "outputs": []
    },
    {
      "cell_type": "code",
      "metadata": {
        "colab": {
          "base_uri": "https://localhost:8080/"
        },
        "id": "OSqrVwV4I83E",
        "outputId": "f8abba62-be6d-422b-b7a3-96884c6fdeb0"
      },
      "source": [
        "merged.isnull().any()"
      ],
      "execution_count": 89,
      "outputs": [
        {
          "output_type": "execute_result",
          "data": {
            "text/plain": [
              "date_block_num       True\n",
              "year                False\n",
              "month               False\n",
              "shop_id             False\n",
              "item_id             False\n",
              "item_category_id    False\n",
              "item_cnt_day         True\n",
              "ID                   True\n",
              "High_sale_month     False\n",
              "dtype: bool"
            ]
          },
          "metadata": {
            "tags": []
          },
          "execution_count": 89
        }
      ]
    },
    {
      "cell_type": "code",
      "metadata": {
        "id": "Ve9NOC4sJd8m"
      },
      "source": [
        "final_df=merged"
      ],
      "execution_count": 90,
      "outputs": []
    },
    {
      "cell_type": "code",
      "metadata": {
        "colab": {
          "base_uri": "https://localhost:8080/"
        },
        "id": "tHPdBfU7RaU7",
        "outputId": "6457617f-451d-483b-de32-9557f8ac7df7"
      },
      "source": [
        "df_train.shape"
      ],
      "execution_count": 91,
      "outputs": [
        {
          "output_type": "execute_result",
          "data": {
            "text/plain": [
              "(1609123, 8)"
            ]
          },
          "metadata": {
            "tags": []
          },
          "execution_count": 91
        }
      ]
    },
    {
      "cell_type": "code",
      "metadata": {
        "id": "SeNpgaUhp4qj"
      },
      "source": [
        "df_train_final=final_df.iloc[:1609123,:]\n",
        "df_test_final=final_df.iloc[1609123:,:]"
      ],
      "execution_count": 92,
      "outputs": []
    },
    {
      "cell_type": "code",
      "metadata": {
        "colab": {
          "base_uri": "https://localhost:8080/"
        },
        "id": "pCyixgt18BHE",
        "outputId": "c27d7ef5-8cdb-4375-da9b-12cad5e3661f"
      },
      "source": [
        "df_train_final.drop(['ID'],axis=1,inplace=True)"
      ],
      "execution_count": 93,
      "outputs": [
        {
          "output_type": "stream",
          "text": [
            "/usr/local/lib/python3.7/dist-packages/pandas/core/frame.py:4174: SettingWithCopyWarning: \n",
            "A value is trying to be set on a copy of a slice from a DataFrame\n",
            "\n",
            "See the caveats in the documentation: https://pandas.pydata.org/pandas-docs/stable/user_guide/indexing.html#returning-a-view-versus-a-copy\n",
            "  errors=errors,\n"
          ],
          "name": "stderr"
        }
      ]
    },
    {
      "cell_type": "code",
      "metadata": {
        "colab": {
          "base_uri": "https://localhost:8080/"
        },
        "id": "X-bOZ6JAKNLn",
        "outputId": "596432c8-c774-45c1-cddf-9d58a0032a78"
      },
      "source": [
        "df_train_final.isnull().any()"
      ],
      "execution_count": 94,
      "outputs": [
        {
          "output_type": "execute_result",
          "data": {
            "text/plain": [
              "date_block_num      False\n",
              "year                False\n",
              "month               False\n",
              "shop_id             False\n",
              "item_id             False\n",
              "item_category_id    False\n",
              "item_cnt_day        False\n",
              "High_sale_month     False\n",
              "dtype: bool"
            ]
          },
          "metadata": {
            "tags": []
          },
          "execution_count": 94
        }
      ]
    },
    {
      "cell_type": "code",
      "metadata": {
        "id": "JP2CrJjlRsQJ"
      },
      "source": [
        "X_train=df_train_final.loc[df_train_final['date_block_num']<32].drop(['item_cnt_day'],axis=1)\n",
        "Y_train=df_train_final.loc[df_train_final['date_block_num']<32]['item_cnt_day']\n",
        "X_test= df_train_final.loc[df_train_final['date_block_num']>=32].drop(['item_cnt_day'],axis=1)\n",
        "Y_test= df_train_final.loc[df_train_final['date_block_num']>=32]['item_cnt_day']"
      ],
      "execution_count": 95,
      "outputs": []
    },
    {
      "cell_type": "code",
      "metadata": {
        "id": "eSUnJc0JPNjK"
      },
      "source": [
        "merged.drop(['date_block_num'],inplace=True,axis=1)\n"
      ],
      "execution_count": 96,
      "outputs": []
    },
    {
      "cell_type": "markdown",
      "metadata": {
        "id": "n__aJSWPRsQJ"
      },
      "source": [
        "## Model Training"
      ]
    },
    {
      "cell_type": "code",
      "metadata": {
        "id": "wauqT_nST6rW"
      },
      "source": [
        "# from sklearn.model_selection import KFold\n",
        "# from sklearn.model_selection import cross_val_score\n",
        "# from xgboost import XGBRegressor \n",
        "# cv = KFold(n_splits=10, random_state=1, shuffle=True)"
      ],
      "execution_count": 46,
      "outputs": []
    },
    {
      "cell_type": "code",
      "metadata": {
        "id": "JDbe0JjbUhzU"
      },
      "source": [
        "# X=df_train_final.drop(['item_cnt_day'],axis=1)\n",
        "# Y=Y_train=df_train_final['item_cnt_day']"
      ],
      "execution_count": null,
      "outputs": []
    },
    {
      "cell_type": "code",
      "metadata": {
        "colab": {
          "base_uri": "https://localhost:8080/"
        },
        "id": "EEinAsOpUUsp",
        "outputId": "4b975cb5-0271-40e4-b9e4-8b3228b047d8"
      },
      "source": [
        "# xg = XGBRegressor(learning_rate=0.5, n_estimators=50, max_depth=4, random_state=4)\n",
        "# kfold = KFold(n_splits=10, random_state=7)\n",
        "              \n",
        "# scores = cross_val_score(model, X, Y, scoring='neg_root_mean_squared_error', cv=cv, n_jobs=-1)\n"
      ],
      "execution_count": null,
      "outputs": [
        {
          "output_type": "stream",
          "text": [
            "/usr/local/lib/python3.7/dist-packages/sklearn/model_selection/_split.py:296: FutureWarning: Setting a random_state has no effect since shuffle is False. This will raise an error in 0.24. You should leave random_state to its default (None), or set shuffle=True.\n",
            "  FutureWarning\n"
          ],
          "name": "stderr"
        }
      ]
    },
    {
      "cell_type": "code",
      "metadata": {
        "colab": {
          "base_uri": "https://localhost:8080/"
        },
        "id": "UkWKa0lzZ4I1",
        "outputId": "110788ac-e86a-47cb-83d1-669a36585189"
      },
      "source": [
        "# results_y = np.abs(scores.reshape(-1,1))\n",
        "# print(results_y)"
      ],
      "execution_count": null,
      "outputs": [
        {
          "output_type": "stream",
          "text": [
            "[[1.90243256]\n",
            " [2.34071601]\n",
            " [4.32159841]\n",
            " [2.28881376]\n",
            " [2.7777308 ]\n",
            " [2.70885927]\n",
            " [2.04119317]\n",
            " [1.87175292]\n",
            " [1.97970571]\n",
            " [2.05793618]]\n"
          ],
          "name": "stdout"
        }
      ]
    },
    {
      "cell_type": "code",
      "metadata": {
        "id": "QULle7WLRsQK",
        "colab": {
          "base_uri": "https://localhost:8080/"
        },
        "outputId": "b06c56be-7a40-42d3-8b5a-384af3f813b3"
      },
      "source": [
        "param = {\"objective\":\"reg:squarederror\"} \n",
        "dtrain = xgb.DMatrix(X_train, Y_train, missing=-99)\n",
        "dvalid = xgb.DMatrix(X_test, Y_test, missing=-99)\n",
        "\n",
        "watchlist = [(dtrain, 'train'), (dvalid, 'eval')]\n",
        "xgb_r = xgb.train(params = param, dtrain = dtrain, evals=watchlist, num_boost_round = 200,early_stopping_rounds=20, verbose_eval=True) \n",
        "#pred = np.round(xgb_r.predict(test_dmatrix) )"
      ],
      "execution_count": 97,
      "outputs": [
        {
          "output_type": "stream",
          "text": [
            "[0]\ttrain-rmse:1.23389\teval-rmse:2.25813\n",
            "Multiple eval metrics have been passed: 'eval-rmse' will be used for early stopping.\n",
            "\n",
            "Will train until eval-rmse hasn't improved in 20 rounds.\n",
            "[1]\ttrain-rmse:1.07745\teval-rmse:1.71842\n",
            "[2]\ttrain-rmse:1.05178\teval-rmse:1.70227\n",
            "[3]\ttrain-rmse:0.953069\teval-rmse:1.3255\n",
            "[4]\ttrain-rmse:0.942082\teval-rmse:1.31784\n",
            "[5]\ttrain-rmse:0.931218\teval-rmse:1.28588\n",
            "[6]\ttrain-rmse:0.927441\teval-rmse:1.27841\n",
            "[7]\ttrain-rmse:0.871141\teval-rmse:1.04806\n",
            "[8]\ttrain-rmse:0.839774\teval-rmse:1.04766\n",
            "[9]\ttrain-rmse:0.834648\teval-rmse:1.04204\n",
            "[10]\ttrain-rmse:0.831215\teval-rmse:1.0419\n",
            "[11]\ttrain-rmse:0.828644\teval-rmse:1.03465\n",
            "[12]\ttrain-rmse:0.825069\teval-rmse:1.03278\n",
            "[13]\ttrain-rmse:0.823172\teval-rmse:1.03238\n",
            "[14]\ttrain-rmse:0.788738\teval-rmse:1.03278\n",
            "[15]\ttrain-rmse:0.766418\teval-rmse:0.940029\n",
            "[16]\ttrain-rmse:0.764301\teval-rmse:0.940538\n",
            "[17]\ttrain-rmse:0.760444\teval-rmse:0.948953\n",
            "[18]\ttrain-rmse:0.75779\teval-rmse:0.949205\n",
            "[19]\ttrain-rmse:0.737027\teval-rmse:0.952879\n",
            "[20]\ttrain-rmse:0.734903\teval-rmse:0.953366\n",
            "[21]\ttrain-rmse:0.733743\teval-rmse:0.957581\n",
            "[22]\ttrain-rmse:0.733102\teval-rmse:0.958006\n",
            "[23]\ttrain-rmse:0.73127\teval-rmse:0.95802\n",
            "[24]\ttrain-rmse:0.730122\teval-rmse:0.965399\n",
            "[25]\ttrain-rmse:0.727541\teval-rmse:0.964343\n",
            "[26]\ttrain-rmse:0.725971\teval-rmse:0.965012\n",
            "[27]\ttrain-rmse:0.725442\teval-rmse:0.965011\n",
            "[28]\ttrain-rmse:0.724934\teval-rmse:0.96491\n",
            "[29]\ttrain-rmse:0.724649\teval-rmse:0.964239\n",
            "[30]\ttrain-rmse:0.724179\teval-rmse:0.964049\n",
            "[31]\ttrain-rmse:0.722974\teval-rmse:0.963463\n",
            "[32]\ttrain-rmse:0.721567\teval-rmse:0.963654\n",
            "[33]\ttrain-rmse:0.72066\teval-rmse:0.963689\n",
            "[34]\ttrain-rmse:0.720085\teval-rmse:0.963569\n",
            "[35]\ttrain-rmse:0.719584\teval-rmse:0.964006\n",
            "Stopping. Best iteration:\n",
            "[15]\ttrain-rmse:0.766418\teval-rmse:0.940029\n",
            "\n"
          ],
          "name": "stdout"
        }
      ]
    },
    {
      "cell_type": "code",
      "metadata": {
        "id": "QQTO-Ts9M0oD"
      },
      "source": [
        "pred = np.round(xgb_r.predict(dvalid) )"
      ],
      "execution_count": 98,
      "outputs": []
    },
    {
      "cell_type": "code",
      "metadata": {
        "id": "7lU5YA-6NC3H"
      },
      "source": [
        "X_test['predictions']=pred\n",
        "X_test['item_cnt_day']=Y_test"
      ],
      "execution_count": 99,
      "outputs": []
    },
    {
      "cell_type": "code",
      "metadata": {
        "colab": {
          "base_uri": "https://localhost:8080/"
        },
        "id": "RUbgQbzmNNlm",
        "outputId": "9494d1cc-a36d-449c-f337-76b455f2f6b2"
      },
      "source": [
        "X_test['predictions'].value_counts().head(2)"
      ],
      "execution_count": 100,
      "outputs": [
        {
          "output_type": "execute_result",
          "data": {
            "text/plain": [
              "1.0    59467\n",
              "2.0     1310\n",
              "Name: predictions, dtype: int64"
            ]
          },
          "metadata": {
            "tags": []
          },
          "execution_count": 100
        }
      ]
    },
    {
      "cell_type": "code",
      "metadata": {
        "id": "nqp4IX3sP7aW",
        "outputId": "a91d0323-3531-4a30-b232-a69fcc3f1877",
        "colab": {
          "base_uri": "https://localhost:8080/"
        }
      },
      "source": [
        "param = {\"objective\":\"reg:squarederror\"} \n",
        "#df_train_final.sample(frac=1)\n",
        "X_train=df_train_final.drop(['item_cnt_day'],axis=1)\n",
        "Y_train=df_train_final['item_cnt_day']\n",
        "\n",
        "train_dmatrix = xg.DMatrix(data = X_train, label = Y_train) \n",
        "watchlist = [(train_dmatrix, 'train')]\n",
        "xgb_r = xg.train(params = param, dtrain = train_dmatrix, evals=watchlist, early_stopping_rounds=5, num_boost_round = 100) "
      ],
      "execution_count": 106,
      "outputs": [
        {
          "output_type": "stream",
          "text": [
            "[0]\ttrain-rmse:1.28751\n",
            "Will train until train-rmse hasn't improved in 5 rounds.\n",
            "[1]\ttrain-rmse:1.1074\n",
            "[2]\ttrain-rmse:1.08351\n",
            "[3]\ttrain-rmse:0.97832\n",
            "[4]\ttrain-rmse:0.962676\n",
            "[5]\ttrain-rmse:0.951442\n",
            "[6]\ttrain-rmse:0.94315\n",
            "[7]\ttrain-rmse:0.936831\n",
            "[8]\ttrain-rmse:0.875023\n",
            "[9]\ttrain-rmse:0.837809\n",
            "[10]\ttrain-rmse:0.801815\n",
            "[11]\ttrain-rmse:0.775052\n",
            "[12]\ttrain-rmse:0.769702\n",
            "[13]\ttrain-rmse:0.766266\n",
            "[14]\ttrain-rmse:0.746434\n",
            "[15]\ttrain-rmse:0.74397\n",
            "[16]\ttrain-rmse:0.729067\n",
            "[17]\ttrain-rmse:0.727551\n",
            "[18]\ttrain-rmse:0.725282\n",
            "[19]\ttrain-rmse:0.723178\n",
            "[20]\ttrain-rmse:0.721575\n",
            "[21]\ttrain-rmse:0.721299\n",
            "[22]\ttrain-rmse:0.720013\n",
            "[23]\ttrain-rmse:0.708415\n",
            "[24]\ttrain-rmse:0.707374\n",
            "[25]\ttrain-rmse:0.706805\n",
            "[26]\ttrain-rmse:0.705501\n",
            "[27]\ttrain-rmse:0.705175\n",
            "[28]\ttrain-rmse:0.704975\n",
            "[29]\ttrain-rmse:0.703751\n",
            "[30]\ttrain-rmse:0.702962\n",
            "[31]\ttrain-rmse:0.702572\n",
            "[32]\ttrain-rmse:0.701987\n",
            "[33]\ttrain-rmse:0.700725\n",
            "[34]\ttrain-rmse:0.70029\n",
            "[35]\ttrain-rmse:0.700026\n",
            "[36]\ttrain-rmse:0.699695\n",
            "[37]\ttrain-rmse:0.698301\n",
            "[38]\ttrain-rmse:0.697846\n",
            "[39]\ttrain-rmse:0.696849\n",
            "[40]\ttrain-rmse:0.692746\n",
            "[41]\ttrain-rmse:0.692666\n",
            "[42]\ttrain-rmse:0.691861\n",
            "[43]\ttrain-rmse:0.691751\n",
            "[44]\ttrain-rmse:0.690756\n",
            "[45]\ttrain-rmse:0.689231\n",
            "[46]\ttrain-rmse:0.688814\n",
            "[47]\ttrain-rmse:0.680873\n",
            "[48]\ttrain-rmse:0.680341\n",
            "[49]\ttrain-rmse:0.679903\n",
            "[50]\ttrain-rmse:0.673856\n",
            "[51]\ttrain-rmse:0.673312\n",
            "[52]\ttrain-rmse:0.673043\n",
            "[53]\ttrain-rmse:0.672481\n",
            "[54]\ttrain-rmse:0.671504\n",
            "[55]\ttrain-rmse:0.671221\n",
            "[56]\ttrain-rmse:0.670852\n",
            "[57]\ttrain-rmse:0.669588\n",
            "[58]\ttrain-rmse:0.669347\n",
            "[59]\ttrain-rmse:0.667343\n",
            "[60]\ttrain-rmse:0.666897\n",
            "[61]\ttrain-rmse:0.66643\n",
            "[62]\ttrain-rmse:0.666159\n",
            "[63]\ttrain-rmse:0.665744\n",
            "[64]\ttrain-rmse:0.66459\n",
            "[65]\ttrain-rmse:0.663774\n",
            "[66]\ttrain-rmse:0.663275\n",
            "[67]\ttrain-rmse:0.662847\n",
            "[68]\ttrain-rmse:0.662608\n",
            "[69]\ttrain-rmse:0.662323\n",
            "[70]\ttrain-rmse:0.660994\n",
            "[71]\ttrain-rmse:0.660561\n",
            "[72]\ttrain-rmse:0.659379\n",
            "[73]\ttrain-rmse:0.659338\n",
            "[74]\ttrain-rmse:0.659187\n",
            "[75]\ttrain-rmse:0.658876\n",
            "[76]\ttrain-rmse:0.65848\n",
            "[77]\ttrain-rmse:0.655806\n",
            "[78]\ttrain-rmse:0.655057\n",
            "[79]\ttrain-rmse:0.654231\n",
            "[80]\ttrain-rmse:0.654206\n",
            "[81]\ttrain-rmse:0.63829\n",
            "[82]\ttrain-rmse:0.638175\n",
            "[83]\ttrain-rmse:0.616559\n",
            "[84]\ttrain-rmse:0.616369\n",
            "[85]\ttrain-rmse:0.616085\n",
            "[86]\ttrain-rmse:0.61603\n",
            "[87]\ttrain-rmse:0.615738\n",
            "[88]\ttrain-rmse:0.614695\n",
            "[89]\ttrain-rmse:0.614343\n",
            "[90]\ttrain-rmse:0.614315\n",
            "[91]\ttrain-rmse:0.613943\n",
            "[92]\ttrain-rmse:0.61378\n",
            "[93]\ttrain-rmse:0.611706\n",
            "[94]\ttrain-rmse:0.61162\n",
            "[95]\ttrain-rmse:0.611357\n",
            "[96]\ttrain-rmse:0.611\n",
            "[97]\ttrain-rmse:0.609485\n",
            "[98]\ttrain-rmse:0.607566\n",
            "[99]\ttrain-rmse:0.607169\n"
          ],
          "name": "stdout"
        }
      ]
    },
    {
      "cell_type": "code",
      "metadata": {
        "id": "1Ncby-2zRsQM"
      },
      "source": [
        "test_dmatrix=xg.DMatrix(data = df_test_final.drop(['ID','item_cnt_day'],axis=1)) \n",
        "pred = np.round(xgb_r.predict(test_dmatrix))"
      ],
      "execution_count": 107,
      "outputs": []
    },
    {
      "cell_type": "code",
      "metadata": {
        "id": "b5NDHX9-RsQM"
      },
      "source": [
        "submission=pd.DataFrame()\n",
        "submission['ID']=df_test_final['ID'].astype(int)\n",
        "submission['item_cnt_month']=pred"
      ],
      "execution_count": 108,
      "outputs": []
    },
    {
      "cell_type": "code",
      "metadata": {
        "colab": {
          "base_uri": "https://localhost:8080/"
        },
        "id": "hvDslhtReaKU",
        "outputId": "2c905762-78de-4598-97dd-336acc6bcc4a"
      },
      "source": [
        "submission['item_cnt_month'].value_counts().head(2)"
      ],
      "execution_count": 109,
      "outputs": [
        {
          "output_type": "execute_result",
          "data": {
            "text/plain": [
              "1.0    200450\n",
              "2.0      7882\n",
              "Name: item_cnt_month, dtype: int64"
            ]
          },
          "metadata": {
            "tags": []
          },
          "execution_count": 109
        }
      ]
    },
    {
      "cell_type": "code",
      "metadata": {
        "colab": {
          "base_uri": "https://localhost:8080/",
          "height": 112
        },
        "id": "lPuM7wbJNhXP",
        "outputId": "946120ac-685e-418d-9163-ee0f23553eda"
      },
      "source": [
        "submission=submission.sort_values('ID')\n",
        "submission.head(2)"
      ],
      "execution_count": 110,
      "outputs": [
        {
          "output_type": "execute_result",
          "data": {
            "text/html": [
              "<div>\n",
              "<style scoped>\n",
              "    .dataframe tbody tr th:only-of-type {\n",
              "        vertical-align: middle;\n",
              "    }\n",
              "\n",
              "    .dataframe tbody tr th {\n",
              "        vertical-align: top;\n",
              "    }\n",
              "\n",
              "    .dataframe thead th {\n",
              "        text-align: right;\n",
              "    }\n",
              "</style>\n",
              "<table border=\"1\" class=\"dataframe\">\n",
              "  <thead>\n",
              "    <tr style=\"text-align: right;\">\n",
              "      <th></th>\n",
              "      <th>ID</th>\n",
              "      <th>item_cnt_month</th>\n",
              "    </tr>\n",
              "  </thead>\n",
              "  <tbody>\n",
              "    <tr>\n",
              "      <th>0</th>\n",
              "      <td>0</td>\n",
              "      <td>1.0</td>\n",
              "    </tr>\n",
              "    <tr>\n",
              "      <th>42</th>\n",
              "      <td>1</td>\n",
              "      <td>1.0</td>\n",
              "    </tr>\n",
              "  </tbody>\n",
              "</table>\n",
              "</div>"
            ],
            "text/plain": [
              "    ID  item_cnt_month\n",
              "0    0             1.0\n",
              "42   1             1.0"
            ]
          },
          "metadata": {
            "tags": []
          },
          "execution_count": 110
        }
      ]
    },
    {
      "cell_type": "code",
      "metadata": {
        "id": "5ijTxSU7RsQO"
      },
      "source": [
        "submission.to_csv('Round 6.1 | XGB | Item Cat | Sales_Mean.csv',index=False)\n"
      ],
      "execution_count": 112,
      "outputs": []
    },
    {
      "cell_type": "code",
      "metadata": {
        "id": "lAtrsob7RsQO"
      },
      "source": [
        ""
      ],
      "execution_count": null,
      "outputs": []
    }
  ]
}