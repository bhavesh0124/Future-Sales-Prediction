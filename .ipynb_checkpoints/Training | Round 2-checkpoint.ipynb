{
 "cells": [
  {
   "cell_type": "code",
   "execution_count": 174,
   "metadata": {},
   "outputs": [],
   "source": [
    "import pandas as pd\n",
    "import matplotlib.pyplot as plt\n",
    "import seaborn as sns\n",
    "plt.rcParams[\"figure.figsize\"] = (30,10)\n",
    "import numpy as np \n",
    "import pandas as pd \n",
    "import xgboost as xg \n",
    "from sklearn.model_selection import train_test_split \n",
    "from sklearn.metrics import mean_squared_error as MSE "
   ]
  },
  {
   "cell_type": "code",
   "execution_count": 175,
   "metadata": {},
   "outputs": [],
   "source": [
    "df_train=pd.read_csv(\"sales_train.csv\")\n",
    "df_test=pd.read_csv(\"test.csv\")\n",
    "shop=pd.read_csv(\"shops.csv\")\n",
    "items=pd.read_csv(\"items.csv\")\n",
    "item_categories=pd.read_csv(\"item_categories.csv\")"
   ]
  },
  {
   "cell_type": "code",
   "execution_count": 176,
   "metadata": {},
   "outputs": [],
   "source": [
    "df_train[\"date\"]=pd.to_datetime(df_train[\"date\"])\n",
    "df_train['day']=df_train['date'].dt.day\n",
    "df_train['month']=df_train['date'].dt.month\n",
    "df_train['year']=df_train['date'].dt.year\n",
    "df_train=df_train.sort_values(by='date')\n",
    "df_test['month']=11\n",
    "df_test['year']=2015\n",
    "#df_train.drop(['date'],axis=1,inplace=True)"
   ]
  },
  {
   "cell_type": "code",
   "execution_count": 177,
   "metadata": {},
   "outputs": [],
   "source": [
    "merged=pd.merge(df_train,items[['item_id','item_category_id']],on='item_id')"
   ]
  },
  {
   "cell_type": "code",
   "execution_count": 178,
   "metadata": {},
   "outputs": [],
   "source": [
    "merged.drop(['date','day'],axis=1,inplace=True)"
   ]
  },
  {
   "cell_type": "code",
   "execution_count": 179,
   "metadata": {},
   "outputs": [],
   "source": [
    "final_df=merged.groupby(['year','month','shop_id','item_id']).agg({'item_price': 'mean', \n",
    "                                                                   'item_cnt_day': 'sum'\n",
    "                                                                  }).reset_index()"
   ]
  },
  {
   "cell_type": "code",
   "execution_count": 180,
   "metadata": {},
   "outputs": [],
   "source": [
    "final_df.drop(['item_price'],axis=1,inplace=True)"
   ]
  },
  {
   "cell_type": "code",
   "execution_count": 181,
   "metadata": {},
   "outputs": [],
   "source": [
    "final_df=final_df[['shop_id', 'item_id', 'month', 'year','item_cnt_day']]"
   ]
  },
  {
   "cell_type": "markdown",
   "metadata": {},
   "source": [
    "## Splitting Sequentially"
   ]
  },
  {
   "cell_type": "code",
   "execution_count": 182,
   "metadata": {},
   "outputs": [],
   "source": [
    "X_train=final_df.iloc[:1259576,:].drop(['item_cnt_day'],axis=1)\n",
    "Y_train=final_df.iloc[:1259576,:]['item_cnt_day']\n",
    "X_test= final_df.iloc[1259576:,:].drop(['item_cnt_day'],axis=1)\n",
    "Y_test= final_df.iloc[1259576:,:]['item_cnt_day']"
   ]
  },
  {
   "cell_type": "markdown",
   "metadata": {},
   "source": [
    "## Model Training"
   ]
  },
  {
   "cell_type": "code",
   "execution_count": 183,
   "metadata": {},
   "outputs": [],
   "source": [
    "train_dmatrix = xg.DMatrix(data = X_train, label = Y_train) \n",
    "test_dmatrix = xg.DMatrix(data = X_test, label = Y_test) "
   ]
  },
  {
   "cell_type": "code",
   "execution_count": 184,
   "metadata": {},
   "outputs": [
    {
     "name": "stdout",
     "output_type": "stream",
     "text": [
      "[11:45:34] WARNING: /workspace/src/objective/regression_obj.cu:167: reg:linear is now deprecated in favor of reg:squarederror.\n"
     ]
    }
   ],
   "source": [
    "param = {\"booster\":\"gblinear\", \"objective\":\"reg:linear\"} \n",
    "  \n",
    "xgb_r = xg.train(params = param, dtrain = train_dmatrix, num_boost_round = 20) \n",
    "pred = xgb_r.predict(test_dmatrix) "
   ]
  },
  {
   "cell_type": "code",
   "execution_count": 185,
   "metadata": {},
   "outputs": [
    {
     "name": "stdout",
     "output_type": "stream",
     "text": [
      "RMSE :  9.104588\n"
     ]
    }
   ],
   "source": [
    "rmse = np.sqrt(MSE(Y_test, pred)) \n",
    "print(\"RMSE : % f\" %(rmse)) "
   ]
  },
  {
   "cell_type": "markdown",
   "metadata": {},
   "source": [
    "## Making Submission"
   ]
  },
  {
   "cell_type": "code",
   "execution_count": 192,
   "metadata": {},
   "outputs": [],
   "source": [
    "X_train=final_df.drop(['item_cnt_day'],axis=1)\n",
    "Y_train=final_df['item_cnt_day']\n",
    "train_dmatrix = xg.DMatrix(data = X_train, label = Y_train) "
   ]
  },
  {
   "cell_type": "code",
   "execution_count": 187,
   "metadata": {},
   "outputs": [],
   "source": [
    "submission=pd.DataFrame()\n",
    "submission['ID']=df_test['ID']\n",
    "submission['item_cnt_month']=predictions"
   ]
  },
  {
   "cell_type": "code",
   "execution_count": 194,
   "metadata": {},
   "outputs": [],
   "source": [
    "submission.to_csv('Round 1| XGB | No Item Cat.csv',index=False)\n"
   ]
  },
  {
   "cell_type": "code",
   "execution_count": null,
   "metadata": {},
   "outputs": [],
   "source": []
  }
 ],
 "metadata": {
  "kernelspec": {
   "display_name": "Python 3",
   "language": "python",
   "name": "python3"
  },
  "language_info": {
   "codemirror_mode": {
    "name": "ipython",
    "version": 3
   },
   "file_extension": ".py",
   "mimetype": "text/x-python",
   "name": "python",
   "nbconvert_exporter": "python",
   "pygments_lexer": "ipython3",
   "version": "3.6.9"
  }
 },
 "nbformat": 4,
 "nbformat_minor": 4
}
